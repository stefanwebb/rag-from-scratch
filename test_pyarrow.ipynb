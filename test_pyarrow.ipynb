{
 "cells": [
  {
   "cell_type": "markdown",
   "metadata": {},
   "source": [
    "## Testing Streaming Output into Parquet with PyArrow"
   ]
  },
  {
   "cell_type": "code",
   "execution_count": 21,
   "metadata": {},
   "outputs": [],
   "source": [
    "import pyarrow as pa\n",
    "import pyarrow.parquet as pq\n",
    "import numpy as np\n",
    "import torch\n",
    "from datasets import load_dataset"
   ]
  },
  {
   "cell_type": "markdown",
   "metadata": {},
   "source": [
    "### Testing out basic table creation"
   ]
  },
  {
   "cell_type": "code",
   "execution_count": 10,
   "metadata": {},
   "outputs": [],
   "source": [
    "table = pa.table([\n",
    "    pa.array([\n",
    "        \"The quick brown fox jumped over the log.\",\n",
    "        \"Color dreams sleep furiously.\"       \n",
    "]),\n",
    "    pa.array([\n",
    "        torch.zeros(256).numpy(),\n",
    "        torch.zeros(256).numpy()\n",
    "    ])\n",
    "], names=[\"text\", \"embeddings\"])"
   ]
  },
  {
   "cell_type": "code",
   "execution_count": 11,
   "metadata": {},
   "outputs": [
    {
     "data": {
      "text/plain": [
       "text: string\n",
       "embeddings: list<item: float>\n",
       "  child 0, item: float"
      ]
     },
     "execution_count": 11,
     "metadata": {},
     "output_type": "execute_result"
    }
   ],
   "source": [
    "table.schema"
   ]
  },
  {
   "cell_type": "markdown",
   "metadata": {},
   "source": [
    "### Testing streaming out into Parquet file\n",
    "TODO: Best practices for breaking up into multiple files / shards?"
   ]
  },
  {
   "cell_type": "markdown",
   "metadata": {},
   "source": [
    "#### Write random data"
   ]
  },
  {
   "cell_type": "code",
   "execution_count": 12,
   "metadata": {},
   "outputs": [],
   "source": [
    "with pq.ParquetWriter('testing.tmp.parquet', table.schema) as writer:\n",
    "   for i in range(3):\n",
    "      table = pa.table([\n",
    "            pa.array([\n",
    "               f\"{i}: The quick brown fox jumped over the log.\",\n",
    "               f\"{i}: Color dreams sleep furiously.\"       \n",
    "         ]),\n",
    "            pa.array([\n",
    "               torch.randn(256).numpy(),\n",
    "               torch.randn(256).numpy()\n",
    "            ])\n",
    "         ], names=[\"text\", \"embeddings\"])\n",
    "\n",
    "      writer.write_table(table)"
   ]
  },
  {
   "cell_type": "code",
   "execution_count": 18,
   "metadata": {},
   "outputs": [
    {
     "name": "stdout",
     "output_type": "stream",
     "text": [
      "12K\ttesting.tmp.parquet\n"
     ]
    }
   ],
   "source": [
    "!du -h *.parquet"
   ]
  },
  {
   "cell_type": "markdown",
   "metadata": {},
   "source": [
    "#### Read it back via HuggingFace iterable dataset"
   ]
  },
  {
   "cell_type": "code",
   "execution_count": 20,
   "metadata": {},
   "outputs": [
    {
     "name": "stdout",
     "output_type": "stream",
     "text": [
      "<pyarrow._parquet.FileMetaData object at 0x7f31b8ac38d0>\n",
      "  created_by: parquet-cpp-arrow version 17.0.0\n",
      "  num_columns: 2\n",
      "  num_rows: 6\n",
      "  num_row_groups: 3\n",
      "  format_version: 2.6\n",
      "  serialized_size: 1202\n"
     ]
    }
   ],
   "source": [
    "parquet_file = pq.ParquetFile('testing.tmp.parquet')\n",
    "metadata = parquet_file.metadata\n",
    "print(metadata)"
   ]
  },
  {
   "cell_type": "code",
   "execution_count": 35,
   "metadata": {},
   "outputs": [],
   "source": [
    "dataset = load_dataset(\"parquet\", data_files={'train': 'testing.tmp.parquet'}, streaming=True, batch_size=1024, )"
   ]
  },
  {
   "cell_type": "code",
   "execution_count": 38,
   "metadata": {},
   "outputs": [
    {
     "name": "stdout",
     "output_type": "stream",
     "text": [
      "['text', 'embeddings'] 6 6\n",
      "<class 'float'>\n"
     ]
    }
   ],
   "source": [
    "for x in dataset['train'].iter(batch_size=1024):\n",
    "    print(list(x.keys()), len(x['text']), len(x['embeddings']))\n",
    "    print(type(np.array(x['embeddings'][0])))"
   ]
  },
  {
   "cell_type": "code",
   "execution_count": null,
   "metadata": {},
   "outputs": [],
   "source": []
  }
 ],
 "metadata": {
  "kernelspec": {
   "display_name": "base",
   "language": "python",
   "name": "python3"
  },
  "language_info": {
   "codemirror_mode": {
    "name": "ipython",
    "version": 3
   },
   "file_extension": ".py",
   "mimetype": "text/x-python",
   "name": "python",
   "nbconvert_exporter": "python",
   "pygments_lexer": "ipython3",
   "version": "3.12.2"
  }
 },
 "nbformat": 4,
 "nbformat_minor": 2
}
