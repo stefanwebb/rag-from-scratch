{
 "cells": [
  {
   "cell_type": "markdown",
   "metadata": {},
   "source": [
    "## Chunk, embed, and index a small number of paragraphs from Wikipedia into a \"Vector DB\" for prototyping / debug purposes"
   ]
  },
  {
   "cell_type": "code",
   "execution_count": 1,
   "metadata": {},
   "outputs": [
    {
     "name": "stdout",
     "output_type": "stream",
     "text": [
      "🦥 Unsloth: Will patch your computer to enable 2x faster free finetuning.\n"
     ]
    }
   ],
   "source": [
    "import pickle\n",
    "\n",
    "import faiss\n",
    "import numpy as np\n",
    "\n",
    "import torch\n",
    "import transformers\n",
    "from sentence_transformers import SentenceTransformer, util\n"
   ]
  },
  {
   "cell_type": "markdown",
   "metadata": {},
   "source": [
    "### Load embedding model"
   ]
  },
  {
   "cell_type": "code",
   "execution_count": 2,
   "metadata": {},
   "outputs": [],
   "source": [
    "# NOTE: Since we aren't doing any fine-tuning on query encoder, they are the same\n",
    "document_encoder = SentenceTransformer(\"/home/stefanwebb/models/llms/multi-qa-MiniLM-L6-cos-v1\")\n",
    "query_encoder = document_encoder"
   ]
  },
  {
   "cell_type": "code",
   "execution_count": 3,
   "metadata": {},
   "outputs": [
    {
     "data": {
      "text/plain": [
       "device(type='cuda', index=0)"
      ]
     },
     "execution_count": 3,
     "metadata": {},
     "output_type": "execute_result"
    }
   ],
   "source": [
    "document_encoder.device"
   ]
  },
  {
   "cell_type": "markdown",
   "metadata": {},
   "source": [
    "### Pre-process data\n",
    "Paragraphs from Wikipedia article on Abraham Lincoln."
   ]
  },
  {
   "cell_type": "code",
   "execution_count": 4,
   "metadata": {},
   "outputs": [
    {
     "name": "stdout",
     "output_type": "stream",
     "text": [
      "153\n"
     ]
    }
   ],
   "source": [
    "with open(\"data/abraham_lincoln.txt\", \"r\") as file:\n",
    "    chunks = [l.strip() for l in file.readlines() if len(l) > 32]\n",
    "\n",
    "with open(\"data/lincoln_chunks.pkl\", \"wb\") as file:\n",
    "    pickle.dump(chunks, file)\n",
    "\n",
    "print(len(chunks))"
   ]
  },
  {
   "cell_type": "markdown",
   "metadata": {},
   "source": [
    "### Embed and index"
   ]
  },
  {
   "cell_type": "code",
   "execution_count": 6,
   "metadata": {},
   "outputs": [],
   "source": [
    "# NOTE: Number of tokens is not always = to number of words\n",
    "tokenizer = document_encoder.tokenizer\n",
    "max_token_length = tokenizer.model_max_length"
   ]
  },
  {
   "cell_type": "code",
   "execution_count": 7,
   "metadata": {},
   "outputs": [],
   "source": [
    "# TODO: Vectorize for speed-up\n",
    "# TODO: Breaking up chunks that exceed max length\n",
    "for chunk in chunks:\n",
    "    # token_count = len()\n",
    "    tokens = tokenizer(chunk)['input_ids']\n",
    "    \n",
    "    token_length = len(tokens)\n",
    "    if token_length > max_token_length:\n",
    "        raise Exception(\"Chunk is too large!\")\n"
   ]
  },
  {
   "cell_type": "code",
   "execution_count": 8,
   "metadata": {},
   "outputs": [
    {
     "name": "stdout",
     "output_type": "stream",
     "text": [
      "1 of 5\n"
     ]
    }
   ],
   "source": [
    "# TODO: Progress bar\n",
    "outer_batch_size = 32\n",
    "inner_batch_size = 32\n",
    "count_batches = (len(chunks) + outer_batch_size - 1 ) // outer_batch_size\n",
    "embed_dim = document_encoder.get_sentence_embedding_dimension()\n",
    "index = faiss.IndexFlatL2(embed_dim)   # build the index\n",
    "\n",
    "for batch_idx in range(count_batches):\n",
    "    if batch_idx % 5 == 0:\n",
    "        print(f\"{batch_idx+1} of {count_batches}\")\n",
    "\n",
    "    batch = chunks[(batch_idx * outer_batch_size):min(len(chunks), (batch_idx + 1) * outer_batch_size)]\n",
    "    embeddings = document_encoder.encode(batch, batch_size=inner_batch_size)\n",
    "    index.add(embeddings)                  # add vectors to the index"
   ]
  },
  {
   "cell_type": "code",
   "execution_count": 9,
   "metadata": {},
   "outputs": [
    {
     "name": "stdout",
     "output_type": "stream",
     "text": [
      "153 153\n"
     ]
    }
   ],
   "source": [
    "print(index.ntotal, len(chunks))"
   ]
  },
  {
   "cell_type": "code",
   "execution_count": 10,
   "metadata": {},
   "outputs": [],
   "source": [
    "faiss.write_index(index, \"data/lincoln_chunks.index\")"
   ]
  },
  {
   "cell_type": "code",
   "execution_count": 11,
   "metadata": {},
   "outputs": [],
   "source": [
    "def top_k_chunks(query: str, k=1) -> str:\n",
    "    \"\"\"\n",
    "    Find closest chunk for a given query.\n",
    "    \"\"\"\n",
    "    embeddings = query_encoder.encode([query])\n",
    "    D, I = index.search(embeddings, k)\n",
    "    return D, I"
   ]
  },
  {
   "cell_type": "code",
   "execution_count": 12,
   "metadata": {},
   "outputs": [
    {
     "name": "stdout",
     "output_type": "stream",
     "text": [
      "0.72956383 Lincoln's portrait appears on two denominations of United States currency, the penny and the $5 bill. He appears on postage stamps across the world. While he is usually portrayed bearded, he did not grow a beard until 1860 at the suggestion of 11-year-old Grace Bedell. He was the first of five presidents to do so.\n",
      "\n",
      "0.9431581 On February 27, 1860, powerful New York Republicans invited Lincoln to give a speech at Cooper Union, in which he argued that the Founding Fathers of the United States had little use for popular sovereignty and had repeatedly sought to restrict slavery. He insisted that morality required opposition to slavery and rejected any \"groping for some middle ground between the right and the wrong\". Many in the audience thought he appeared awkward and even ugly. But Lincoln demonstrated intellectual leadership, which brought him into contention. Journalist Noah Brooks reported, \"No man ever before made such an impression on his first appeal to a New York audience\".\n",
      "\n",
      "1.0249286 Historian David Herbert Donald described the speech as \"a superb political move for an unannounced presidential aspirant. Appearing in Seward's home state, sponsored by a group largely loyal to Chase, Lincoln shrewdly made no reference to either of these Republican rivals for the nomination.\" In response to an inquiry about his ambitions, Lincoln said, \"The taste is in my mouth a little\".\n",
      "\n"
     ]
    }
   ],
   "source": [
    "D, I = top_k_chunks(\"Who told Lincoln to grow a beard?\", k=3)\n",
    "for i, d in zip(I[0], D[0]):\n",
    "    print(d, chunks[i])\n",
    "    print(\"\")"
   ]
  },
  {
   "cell_type": "code",
   "execution_count": 13,
   "metadata": {},
   "outputs": [
    {
     "name": "stdout",
     "output_type": "stream",
     "text": [
      "0.56550646 On January 27, 1838, Abraham Lincoln, then 28 years old, delivered his first major speech at the Lyceum in Springfield, Illinois, after the murder of newspaper editor Elijah Parish Lovejoy in Alton. Lincoln warned that no trans-Atlantic military giant could ever crush the U.S. as a nation. \"It cannot come from abroad. If destruction be our lot, we must ourselves be its author and finisher\", said Lincoln. Prior to that, on April 28, 1836, a black man, Francis McIntosh, was burned alive in St. Louis, Missouri. Zann Gill describes how these two murders set off a chain reaction that ultimately prompted Abraham Lincoln to run for President.\n",
      "\n",
      "0.63072133 At 10:15 in the evening Booth entered the back of Lincoln's theater box, crept up from behind, and fired at the back of Lincoln's head, mortally wounding him. Lincoln's guest, Major Henry Rathbone, momentarily grappled with Booth, but Booth stabbed him and escaped. After being attended by Doctor Charles Leale and two other doctors, Lincoln was taken across the street to Petersen House. After remaining in a coma for eight hours, Lincoln died at 7:22 in the morning on April 15. Stanton saluted and said, \"Now he belongs to the ages.\"Lincoln's body was placed in a flag-wrapped coffin, which was loaded into a hearse and escorted to the White House by Union soldiers. President Johnson was sworn in later that same day.\n",
      "\n",
      "0.67802507 The late President lay in state, first in the East Room of the White House, and then in the Capitol Rotunda from April 19 to 21. The caskets containing Lincoln's body and the body of his son Willie traveled for three weeks on the Lincoln Special funeral train. The train followed a circuitous route from Washington D.C. to Springfield, Illinois, stopping at many cities for memorials attended by hundreds of thousands. Many others gathered along the tracks as the train passed with bands, bonfires, and hymn singing or in silent grief. Poet Walt Whitman composed \"When Lilacs Last in the Dooryard Bloom'd\" to eulogize him, one of four poems he wrote about Lincoln. African Americans were especially moved; they had lost their \"Moses\". In a larger sense, the reaction was in response to the deaths of so many men in the war. Historians emphasized the widespread shock and sorrow, but noted that some Lincoln haters celebrated his death. Lincoln's body was buried at Oak Ridge Cemetery in Springfield and now lies within the Lincoln Tomb.\n",
      "\n"
     ]
    }
   ],
   "source": [
    "D, I = top_k_chunks(\"Why did Lincoln die?\", k=3)\n",
    "for i, d in zip(I[0], D[0]):\n",
    "    print(d, chunks[i])\n",
    "    print(\"\")"
   ]
  }
 ],
 "metadata": {
  "kernelspec": {
   "display_name": "huggingface",
   "language": "python",
   "name": "python3"
  },
  "language_info": {
   "codemirror_mode": {
    "name": "ipython",
    "version": 3
   },
   "file_extension": ".py",
   "mimetype": "text/x-python",
   "name": "python",
   "nbconvert_exporter": "python",
   "pygments_lexer": "ipython3",
   "version": "3.12.2"
  }
 },
 "nbformat": 4,
 "nbformat_minor": 2
}
