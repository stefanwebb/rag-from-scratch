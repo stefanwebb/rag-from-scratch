{
 "cells": [
  {
   "cell_type": "markdown",
   "metadata": {},
   "source": [
    "## Seeing Whether I can Load all Chunks into Memory\n",
    "Or need to use a database."
   ]
  },
  {
   "cell_type": "code",
   "execution_count": 5,
   "metadata": {},
   "outputs": [],
   "source": [
    "import os\n",
    "import pickle\n",
    "import sys"
   ]
  },
  {
   "cell_type": "code",
   "execution_count": 3,
   "metadata": {},
   "outputs": [],
   "source": [
    "embeddings_path = '/home/stefanwebb/embeddings/wikimedia/wikipedia/20231101.en'\n",
    "files = [f\"train-{idx:05d}-of-00041.parquet\" for idx in range(41)]"
   ]
  },
  {
   "cell_type": "code",
   "execution_count": 4,
   "metadata": {},
   "outputs": [
    {
     "name": "stdout",
     "output_type": "stream",
     "text": [
      "Reading in Chunks\n",
      "File 0 of 41\n",
      "File 1 of 41\n",
      "File 2 of 41\n",
      "File 3 of 41\n",
      "File 4 of 41\n",
      "File 5 of 41\n",
      "File 6 of 41\n",
      "File 7 of 41\n",
      "File 8 of 41\n",
      "File 9 of 41\n",
      "File 10 of 41\n",
      "File 11 of 41\n",
      "File 12 of 41\n",
      "File 13 of 41\n",
      "File 14 of 41\n",
      "File 15 of 41\n",
      "File 16 of 41\n",
      "File 17 of 41\n",
      "File 18 of 41\n",
      "File 19 of 41\n",
      "File 20 of 41\n",
      "File 21 of 41\n",
      "File 22 of 41\n",
      "File 23 of 41\n",
      "File 24 of 41\n",
      "File 25 of 41\n",
      "File 26 of 41\n",
      "File 27 of 41\n",
      "File 28 of 41\n",
      "File 29 of 41\n",
      "File 30 of 41\n",
      "File 31 of 41\n",
      "File 32 of 41\n",
      "File 33 of 41\n",
      "File 34 of 41\n",
      "File 35 of 41\n",
      "File 36 of 41\n",
      "File 37 of 41\n",
      "File 38 of 41\n",
      "File 39 of 41\n",
      "File 40 of 41\n"
     ]
    }
   ],
   "source": [
    "chunks = []    \n",
    "\n",
    "print(\"Reading in Chunks\")\n",
    "for idx, file in enumerate(files):\n",
    "    print(f\"File {idx} of 41\")\n",
    "    chunks_file = os.path.join(embeddings_path, f'chunks-{idx:05d}-of-00041.pkl')\n",
    "    with open(chunks_file, 'rb') as f:\n",
    "        chunks.extend(pickle.load(f))"
   ]
  },
  {
   "cell_type": "code",
   "execution_count": 7,
   "metadata": {},
   "outputs": [
    {
     "data": {
      "text/plain": [
       "0.430605624"
      ]
     },
     "execution_count": 7,
     "metadata": {},
     "output_type": "execute_result"
    }
   ],
   "source": [
    "sys.getsizeof(chunks) / 10 ** 9"
   ]
  },
  {
   "cell_type": "code",
   "execution_count": 8,
   "metadata": {},
   "outputs": [
    {
     "name": "stdout",
     "output_type": "stream",
     "text": [
      "[CLS] it was here in 1861 that abraham lincoln met a little girl named grace bedell, who, during the preceding year's presidential campaign, urged lincoln by letter to grow his beard out fully as an attempt to improve his chances at being elected. lincoln responded by brief letter thanking grace for the suggestion. he made no promises but shortly afterwards allowed his beard to grow, and by the time he began his inaugural journey by train from illinois to washington, d. c., he had a full beard. the trip took him through new york state, and included a stop in westfield, where thousands gathered to meet the president - elect. lincoln asked by name to meet grace bedell. [SEP]\n",
      "\n",
      "[CLS] background on october 15, 1860, a few weeks before lincoln was elected president of the united states, grace bedell sent him a letter from her house at 34 academy street in westfield, new york, urging him to grow a beard to improve his appearance. lincoln responded in a letter on october 19, 1860, making no promises. however, within a month, he grew a full beard. [SEP]\n",
      "\n",
      "[CLS] according to historian william e. barton, a rumor \" current in various forms in several sections of the south \" was that lincoln's biological father was abraham enloe, which barton dismissed as \" false \". according to doug wead, enloe made a public boast that he was lincoln's real father, and thomas lincoln allegedly fought him, biting off a piece of his nose. another claim was that lincoln was \" part negro \", but that was unproven. according to lincoln's law partner william h. herndon, lincoln had \" very dark skin \" although \" his cheeks were leathery and saffron - colored \" and \" his face was... sallow, \" and \" his hair was dark, almost black \". abraham lincoln described himself c. 1838 – 39 as a \" long black fellow \" and his \" complexion \" in 1859 as \" dark \", but whether he meant either in an ancestral sense is unknown. the anti - lincoln charleston mercury described him as being \" of... the dirtiest complexion \", as part of anti - abolitionist race - baiting. rumors of lincoln's alleged black racial heritage are considered unsubstantiated and have not been acknowledged by historians. [SEP]\n",
      "\n"
     ]
    }
   ],
   "source": [
    "ids = [40692232, 47828934, 13314770]\n",
    "\n",
    "for idx in ids:\n",
    "    print(chunks[idx])\n",
    "    print(\"\")"
   ]
  },
  {
   "cell_type": "code",
   "execution_count": null,
   "metadata": {},
   "outputs": [],
   "source": []
  }
 ],
 "metadata": {
  "kernelspec": {
   "display_name": "base",
   "language": "python",
   "name": "python3"
  },
  "language_info": {
   "codemirror_mode": {
    "name": "ipython",
    "version": 3
   },
   "file_extension": ".py",
   "mimetype": "text/x-python",
   "name": "python",
   "nbconvert_exporter": "python",
   "pygments_lexer": "ipython3",
   "version": "3.12.2"
  }
 },
 "nbformat": 4,
 "nbformat_minor": 2
}
