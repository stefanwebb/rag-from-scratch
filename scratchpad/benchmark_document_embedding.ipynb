{
 "cells": [
  {
   "cell_type": "markdown",
   "metadata": {},
   "source": [
    "## Benchmarking Document Embedding of Wikipedia Articles on a Single RTX 4090\n",
    "How much of Wikipedia is it feasible to embed, index, and retrieve on my desktop machine:\n",
    "* How long would it take to embed Wikipedia for different embedding models?\n",
    "    * Just testing one model for time's sake.\n",
    "* How much storage would these embeddings require?\n",
    "    * Again for time sake, just calculating embeddings/sec throughput and estimating time/storage."
   ]
  },
  {
   "cell_type": "code",
   "execution_count": 1,
   "metadata": {},
   "outputs": [],
   "source": [
    "import os\n",
    "os.environ[\"TOKENIZERS_PARALLELISM\"] = \"false\"\n",
    "\n",
    "import torch\n",
    "from torch.utils.data import DataLoader\n",
    "import transformers\n",
    "from datasets import load_dataset\n",
    "from sentence_transformers import SentenceTransformer, util\n",
    "\n",
    "device = torch.device(\"cuda\")"
   ]
  },
  {
   "cell_type": "markdown",
   "metadata": {},
   "source": [
    "### Exploring Chunking on Wikipedia Dataset\n",
    "Dataset is [wikimedia/wikipedia](https://huggingface.co/datasets/wikimedia/wikipedia):\n",
    "* ~ 6.8 * 10^6 articles => many-fold factor of chunks\n",
    "* If embedding size is 384, stored in Float16, and 1 embedding per article => ~5.25GB (not including indexing data structure overhead)\n",
    "* 11GB dataset size"
   ]
  },
  {
   "cell_type": "code",
   "execution_count": 2,
   "metadata": {},
   "outputs": [
    {
     "data": {
      "application/vnd.jupyter.widget-view+json": {
       "model_id": "31fb99fe71c247f5a290a37d4c1695a9",
       "version_major": 2,
       "version_minor": 0
      },
      "text/plain": [
       "Resolving data files:   0%|          | 0/41 [00:00<?, ?it/s]"
      ]
     },
     "metadata": {},
     "output_type": "display_data"
    }
   ],
   "source": [
    "# NOTE: An issue I noticed is that formulae, tables, etc. are missing from data\n",
    "# which means some paragraphs end abruptly and this info is lost\n",
    "dataset = load_dataset('/home/stefanwebb/data/wikimedia/wikipedia', '20231101.en', split='train', streaming=True)"
   ]
  },
  {
   "cell_type": "markdown",
   "metadata": {},
   "source": [
    "### Test Document Embedder\n",
    "* See how long it takes to process single parquet file"
   ]
  },
  {
   "cell_type": "code",
   "execution_count": 3,
   "metadata": {},
   "outputs": [],
   "source": [
    "document_encoder = SentenceTransformer(\"/home/stefanwebb/models/llms/multi-qa-MiniLM-L6-cos-v1\").to(device)"
   ]
  },
  {
   "cell_type": "code",
   "execution_count": 4,
   "metadata": {},
   "outputs": [],
   "source": [
    "# NOTE: May need extra space for special tokens, hence 510 not 512\n",
    "def chunk_iterator(seq, max_seq_length=510, overlap=128):\n",
    "    \"\"\"\n",
    "    Given a list of tokens, if it is greater than maximum, break into overlapping sections\n",
    "    \"\"\"\n",
    "    \n",
    "    if len(seq) <= max_seq_length:\n",
    "        yield seq\n",
    "    else:\n",
    "        count_chunks = ((len(seq) - max_seq_length) + overlap - 1) // overlap + 1\n",
    "        for idx in range(count_chunks):\n",
    "            yield seq[(idx*overlap):min(len(seq), (idx*overlap) + max_seq_length)]"
   ]
  },
  {
   "cell_type": "code",
   "execution_count": 5,
   "metadata": {},
   "outputs": [
    {
     "name": "stdout",
     "output_type": "stream",
     "text": [
      "[0, 1, 2, 3, 4, 5, 6, 7, 8, 9, 10, 11]\n"
     ]
    }
   ],
   "source": [
    "# DEBUG: Test chunk_iterator\n",
    "x = list(range(12))\n",
    "for c in chunk_iterator(x, max_seq_length=15, overlap=4):\n",
    "    print(c)"
   ]
  },
  {
   "cell_type": "code",
   "execution_count": 6,
   "metadata": {},
   "outputs": [],
   "source": [
    "def chunk_examples(articles):\n",
    "    chunks = []\n",
    "    for article in articles['text']:\n",
    "        # print('article', article)\n",
    "        paragraphs = article.split('\\n\\n')\n",
    "        # TODO: Can I avoid tokenizing sentences twice: once here and once in model.encode?\n",
    "        # model.encode doesn't seem to be able to take tokens, only strings\n",
    "        # I could dig into source code in library to find a solution...\n",
    "        # print('paragraphs', paragraphs)\n",
    "        # Alternatively, just do fixed length chunking with overlap\n",
    "        \n",
    "        # Filter by string\n",
    "        tokens = document_encoder.tokenizer([p for p in paragraphs if p != '' and p[0].isalpha()])['input_ids']\n",
    "        tokens = [x for p in tokens for x in list(chunk_iterator(p)) if len(x) > 7]\n",
    "\n",
    "        paragraphs = document_encoder.tokenizer.batch_decode(tokens)\n",
    "        chunks += paragraphs\n",
    "\n",
    "    return {\"chunks\": chunks}"
   ]
  },
  {
   "cell_type": "code",
   "execution_count": 7,
   "metadata": {},
   "outputs": [],
   "source": [
    "chunked_ds = dataset.map(chunk_examples, batched=True, batch_size=4048, remove_columns=dataset.column_names)"
   ]
  },
  {
   "cell_type": "code",
   "execution_count": 8,
   "metadata": {},
   "outputs": [],
   "source": [
    "chunked_pt = DataLoader(chunked_ds, batch_size=1024, num_workers=1)"
   ]
  },
  {
   "cell_type": "code",
   "execution_count": 9,
   "metadata": {},
   "outputs": [],
   "source": [
    "# elem = iter(chunked_ds)\n",
    "# for _ in range(1000):\n",
    "#     x = next(elem)\n",
    "#     print(len(document_encoder.tokenizer(x['chunks'])['input_ids']))"
   ]
  },
  {
   "cell_type": "code",
   "execution_count": null,
   "metadata": {},
   "outputs": [],
   "source": [
    "# batches = chunked_ds.iter(batch_size=1024)\n",
    "idx = 0\n",
    "for batch in iter(chunked_pt):\n",
    "    # print(next(batches))\n",
    "    chunks = batch['chunks']\n",
    "    # print(chunks)\n",
    "    # chunks = torch.tensor(chunks, device=device)\n",
    "\n",
    "    # TODO: encode_multi_process\n",
    "    embeddings = document_encoder.encode(chunks, batch_size=1024, show_progress_bar=True)\n",
    "    # print(embeddings)\n",
    "\n",
    "    idx += 1\n",
    "    \n",
    "    if idx == 10:\n",
    "        break\n",
    "    # TODO: Enter into Vector DB"
   ]
  },
  {
   "cell_type": "code",
   "execution_count": null,
   "metadata": {},
   "outputs": [
    {
     "data": {
      "text/plain": [
       "(1024, (1024, 384))"
      ]
     },
     "execution_count": 11,
     "metadata": {},
     "output_type": "execute_result"
    }
   ],
   "source": [
    "# ~ 700 chunks per second\n",
    "len(chunks), embeddings.shape, idx"
   ]
  },
  {
   "cell_type": "code",
   "execution_count": 34,
   "metadata": {},
   "outputs": [
    {
     "data": {
      "text/plain": [
       "numpy.ndarray"
      ]
     },
     "execution_count": 34,
     "metadata": {},
     "output_type": "execute_result"
    }
   ],
   "source": [
    "type(embeddings)"
   ]
  },
  {
   "cell_type": "code",
   "execution_count": null,
   "metadata": {},
   "outputs": [],
   "source": []
  }
 ],
 "metadata": {
  "kernelspec": {
   "display_name": "Python 3",
   "language": "python",
   "name": "python3"
  },
  "language_info": {
   "codemirror_mode": {
    "name": "ipython",
    "version": 3
   },
   "file_extension": ".py",
   "mimetype": "text/x-python",
   "name": "python",
   "nbconvert_exporter": "python",
   "pygments_lexer": "ipython3",
   "version": "3.12.2"
  }
 },
 "nbformat": 4,
 "nbformat_minor": 2
}
