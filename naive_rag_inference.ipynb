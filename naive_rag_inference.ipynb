{
 "cells": [
  {
   "cell_type": "markdown",
   "metadata": {},
   "source": [
    "## Load \"Vector DB\" and run RAG query on pre-trained instruct LLM\n",
    "Simply appends retrieved chunks to query. No fancy pipeline steps or dedicated Vector DB."
   ]
  },
  {
   "cell_type": "code",
   "execution_count": 1,
   "metadata": {},
   "outputs": [
    {
     "name": "stdout",
     "output_type": "stream",
     "text": [
      "🦥 Unsloth: Will patch your computer to enable 2x faster free finetuning.\n"
     ]
    }
   ],
   "source": [
    "import gc\n",
    "import os\n",
    "import pickle\n",
    "import sys\n",
    "from threading import Thread\n",
    "import time\n",
    "from unsloth import FastLanguageModel\n",
    "\n",
    "import faiss\n",
    "from sentence_transformers import SentenceTransformer, util\n",
    "import torch\n",
    "from transformers import (\n",
    "    AutoTokenizer,\n",
    "    AutoModelForCausalLM,\n",
    "    TextIteratorStreamer,\n",
    "    TextStreamer,\n",
    "    set_seed,\n",
    ")\n",
    "\n",
    "set_seed(1234)"
   ]
  },
  {
   "cell_type": "markdown",
   "metadata": {},
   "source": [
    "### Load chunk contents and embedding index\n",
    "* TIL that WSL2 only has 50% of the system RAM by default. I had to increase it via `.wslconfig` so we can load both the search index and the raw chunks"
   ]
  },
  {
   "cell_type": "code",
   "execution_count": 2,
   "metadata": {},
   "outputs": [
    {
     "data": {
      "text/plain": [
       "60"
      ]
     },
     "execution_count": 2,
     "metadata": {},
     "output_type": "execute_result"
    }
   ],
   "source": [
    "# TODO: Database for chunks\n",
    "# index = faiss.read_index(\"wikipedia-en.index\")\n",
    "index = faiss.read_index(\"wikipedia-en-simplifying.index\")\n",
    "gc.collect()"
   ]
  },
  {
   "cell_type": "code",
   "execution_count": 3,
   "metadata": {},
   "outputs": [
    {
     "name": "stdout",
     "output_type": "stream",
     "text": [
      "Reading in Chunks\n",
      "xxxxxxxxxxxxxxxxxxxxxxxxxxxxxxxxxxxxxxxxx"
     ]
    }
   ],
   "source": [
    "chunks = []    \n",
    "embeddings_path = '/home/stefanwebb/embeddings/wikimedia/wikipedia/20231101.en'\n",
    "files = [f\"train-{idx:05d}-of-00041.parquet\" for idx in range(41)]\n",
    "\n",
    "print(\"Reading in Chunks\")\n",
    "for idx in range(len(files)):\n",
    "    print(f\"x\", end=\"\")\n",
    "    chunks_file = os.path.join(embeddings_path, f'chunks-{idx:05d}-of-00041.pkl')\n",
    "    with open(chunks_file, 'rb') as f:\n",
    "        chunks.extend(pickle.load(f))\n",
    "    gc.collect()"
   ]
  },
  {
   "cell_type": "code",
   "execution_count": 4,
   "metadata": {},
   "outputs": [
    {
     "data": {
      "text/plain": [
       "(49522046, 49522046)"
      ]
     },
     "execution_count": 4,
     "metadata": {},
     "output_type": "execute_result"
    }
   ],
   "source": [
    "index.ntotal, len(chunks)"
   ]
  },
  {
   "cell_type": "code",
   "execution_count": 5,
   "metadata": {},
   "outputs": [],
   "source": [
    "# NOTE: Following code doesn't seem to get size of all objects references by these\n",
    "# sys.getsizeof(index) / 10**9, sys.getsizeof(chunks) / 10**9"
   ]
  },
  {
   "cell_type": "markdown",
   "metadata": {},
   "source": [
    "### Load LLM to run queries"
   ]
  },
  {
   "cell_type": "code",
   "execution_count": 6,
   "metadata": {},
   "outputs": [
    {
     "name": "stdout",
     "output_type": "stream",
     "text": [
      "==((====))==  Unsloth 2024.8: Fast Mistral patching. Transformers = 4.43.4.\n",
      "   \\\\   /|    GPU: NVIDIA GeForce RTX 4090. Max memory: 23.988 GB. Platform = Linux.\n",
      "O^O/ \\_/ \\    Pytorch: 2.5.0.dev20240829+cu124. CUDA = 8.9. CUDA Toolkit = 12.4.\n",
      "\\        /    Bfloat16 = TRUE. FA [Xformers = 0.0.28+d444815.d20240829. FA2 = True]\n",
      " \"-____-\"     Free Apache license: http://github.com/unslothai/unsloth\n"
     ]
    },
    {
     "name": "stderr",
     "output_type": "stream",
     "text": [
      "<string>:209: SyntaxWarning: invalid escape sequence '\\ '\n",
      "<string>:210: SyntaxWarning: invalid escape sequence '\\_'\n",
      "<string>:211: SyntaxWarning: invalid escape sequence '\\ '\n",
      "<string>:209: SyntaxWarning: invalid escape sequence '\\ '\n",
      "<string>:210: SyntaxWarning: invalid escape sequence '\\_'\n",
      "<string>:211: SyntaxWarning: invalid escape sequence '\\ '\n"
     ]
    }
   ],
   "source": [
    "# query_model = \"google/gemma-2b-it\"\n",
    "query_model = \"/home/stefanwebb/models/llms/Mistral-7B-Instruct-v0.3\"\n",
    "\n",
    "max_seq_length = 2048\n",
    "dtype = None\n",
    "load_in_4bit = True\n",
    "model, tokenizer = FastLanguageModel.from_pretrained(\n",
    "    model_name = \"/home/stefanwebb/models/llms/mistral-7b-instruct-v0.3-bnb-4bit\",\n",
    "    max_seq_length = max_seq_length,\n",
    "    dtype = dtype,\n",
    "    load_in_4bit = load_in_4bit,\n",
    ")"
   ]
  },
  {
   "cell_type": "markdown",
   "metadata": {},
   "source": [
    "### Construct RAG Query and Run"
   ]
  },
  {
   "cell_type": "code",
   "execution_count": 7,
   "metadata": {},
   "outputs": [
    {
     "data": {
      "text/plain": [
       "MistralForCausalLM(\n",
       "  (model): MistralModel(\n",
       "    (embed_tokens): Embedding(32768, 4096)\n",
       "    (layers): ModuleList(\n",
       "      (0-31): 32 x MistralDecoderLayer(\n",
       "        (self_attn): MistralAttention(\n",
       "          (q_proj): Linear4bit(in_features=4096, out_features=4096, bias=False)\n",
       "          (k_proj): Linear4bit(in_features=4096, out_features=1024, bias=False)\n",
       "          (v_proj): Linear4bit(in_features=4096, out_features=1024, bias=False)\n",
       "          (o_proj): Linear4bit(in_features=4096, out_features=4096, bias=False)\n",
       "          (rotary_emb): LlamaRotaryEmbedding()\n",
       "        )\n",
       "        (mlp): MistralMLP(\n",
       "          (gate_proj): Linear4bit(in_features=4096, out_features=14336, bias=False)\n",
       "          (up_proj): Linear4bit(in_features=4096, out_features=14336, bias=False)\n",
       "          (down_proj): Linear4bit(in_features=14336, out_features=4096, bias=False)\n",
       "          (act_fn): SiLU()\n",
       "        )\n",
       "        (input_layernorm): MistralRMSNorm()\n",
       "        (post_attention_layernorm): MistralRMSNorm()\n",
       "      )\n",
       "    )\n",
       "    (norm): MistralRMSNorm()\n",
       "  )\n",
       "  (lm_head): Linear(in_features=4096, out_features=32768, bias=False)\n",
       ")"
      ]
     },
     "execution_count": 7,
     "metadata": {},
     "output_type": "execute_result"
    }
   ],
   "source": [
    "FastLanguageModel.for_inference(model)"
   ]
  },
  {
   "cell_type": "code",
   "execution_count": 8,
   "metadata": {},
   "outputs": [],
   "source": [
    "def run_query_streamed(query, query_model):\n",
    "    system_prompt = \"You are a helpful assistant who answers question truthfully to the best of your knowledge. You decline to answer if you do not know the answer.\"\n",
    "\n",
    "    chat = [\n",
    "        {\n",
    "            \"role\": \"system\",\n",
    "            \"content\": system_prompt,\n",
    "        },\n",
    "        \n",
    "        {\n",
    "\n",
    "            \"role\": \"user\",\n",
    "            \"content\": f\"{query}\",\n",
    "        },\n",
    "    ]\n",
    "\n",
    "    formatted_prompt = tokenizer.apply_chat_template(\n",
    "        chat, tokenize=False, add_generation_prompt=True, return_tensors=\"pt\"\n",
    "    )\n",
    "    inputs = tokenizer(formatted_prompt, return_tensors=\"pt\").to(\"cuda\")\n",
    "\n",
    "    streamer = TextStreamer(\n",
    "        tokenizer, skip_prompt=True, skip_special_tokens=True\n",
    "    )\n",
    "\n",
    "    _ = model.generate(**inputs, streamer=streamer, max_new_tokens=512)"
   ]
  },
  {
   "cell_type": "code",
   "execution_count": 9,
   "metadata": {},
   "outputs": [],
   "source": [
    "query_encoder = SentenceTransformer(\"/home/stefanwebb/models/llms/multi-qa-MiniLM-L6-cos-v1\")"
   ]
  },
  {
   "cell_type": "code",
   "execution_count": 10,
   "metadata": {},
   "outputs": [],
   "source": [
    "import numpy as np"
   ]
  },
  {
   "cell_type": "code",
   "execution_count": 11,
   "metadata": {},
   "outputs": [],
   "source": [
    "def top_k_chunks(query: str, k=1) -> str:\n",
    "    \"\"\"\n",
    "    Find closest chunk for a given query.\n",
    "    \"\"\"\n",
    "    embeddings = query_encoder.encode([query])\n",
    "    # embeddings = embeddings / np.linalg.norm(embeddings)\n",
    "    D, I = index.search(embeddings, k, params = faiss.SearchParametersIVF(nprobe=10))\n",
    "    return D, I\n",
    "\n",
    "\n",
    "def run_rag_query_streamed(query, query_model, k=3):\n",
    "    # Retrieve most similar chunks\n",
    "    D, I = top_k_chunks(query, k=k)\n",
    "    # formatted_chunks = '\\n\\n'.join([\"Document: \" + chunks[i] for i in I[0]])\n",
    "    formatted_chunks = ' '.join([chunks[i] for i in I[0]])\n",
    "    \n",
    "    # rag_query = f\"Answer the query below and ground your answer in facts contained in the documents below:\\n\\nQuery: {query}\\n\\n{formatted_chunks}\"\n",
    "\n",
    "    rag_query = f\"{formatted_chunks}\\n\\nAnswer the following question: {query}\"\n",
    "\n",
    "    # DEBUG\n",
    "    # print(rag_query)\n",
    "    # print(\"\\n\")\n",
    "\n",
    "    run_query_streamed(rag_query, query_model)\n",
    "\n",
    "    # for i, d in zip(I[0], D[0]):\n",
    "    #     print(d, chunks[i])\n",
    "    #     print(\"\")"
   ]
  },
  {
   "cell_type": "markdown",
   "metadata": {},
   "source": [
    "### Debug Examples\n",
    "Compare answers to questions, with and without context from most similar document chunks."
   ]
  },
  {
   "cell_type": "code",
   "execution_count": 12,
   "metadata": {},
   "outputs": [
    {
     "name": "stdout",
     "output_type": "stream",
     "text": [
      "Mistral-7B-Instruct-v0.3\n",
      "Abraham Lincoln grew a beard primarily for practical reasons. In the mid-19th century, beards were common among men, but Lincoln did not have a beard during his first term as a U.S. Representative. After losing the Senate race in 1858, he grew a beard as a way to differentiate himself from his opponents in his presidential campaign in 1860. The beard also helped to hide a condition he had called \"tuberculosis laryngitis,\" which caused his voice to be weak and hoarse. Additionally, the beard may have helped to make him appear more mature and serious, which could have been beneficial in a time of national crisis.\n",
      "\n",
      "Mistral-7B-Instruct-v0.3 + RAG\n",
      "Abraham Lincoln grew a beard in response to a written request from an 11-year-old girl named Grace Bedell. She suggested that he grow a beard to improve his appearance, and he complied with her request a few weeks before he was elected president in 1860. Lincoln met Grace Bedell in person in 1861, and he had a full beard by that time.\n",
      "\n"
     ]
    }
   ],
   "source": [
    "query = \"Why did Abraham Lincoln grow a beard?\"\n",
    "\n",
    "print(\"Mistral-7B-Instruct-v0.3\")\n",
    "run_query_streamed(query, model)\n",
    "print()\n",
    "\n",
    "print(\"Mistral-7B-Instruct-v0.3 + RAG\")\n",
    "run_rag_query_streamed(query, model)\n",
    "print()"
   ]
  },
  {
   "cell_type": "code",
   "execution_count": 13,
   "metadata": {},
   "outputs": [
    {
     "name": "stdout",
     "output_type": "stream",
     "text": [
      "[CLS] abraham lincoln lincoln, abraham lincoln, abraham [SEP] [CLS] abraham lincoln lincoln, abraham lincoln, abraham [SEP] [CLS] abraham lincoln ( 1861 – 1865 ) [SEP] [CLS] abraham lincoln may also refer to : [SEP] [CLS] presidency of abraham lincoln ( 1861 - 1865 ) [SEP] [CLS] thomas lincoln ( 1778 – 1851 ) was the father of abraham lincoln. [SEP] [CLS] presidency of abraham lincoln ( 1861 – 1865 ) [SEP] [CLS] lincoln, abraham lincoln, abraham outlines [SEP] [CLS] abraham lincoln early lives of the presidents of the united states [SEP] [CLS] presidency of abraham lincoln abraham lincoln - related lists [SEP] [CLS] abraham lincoln ( 1809 – 1865 ) was the president of the united states from 1861 to 1865. [SEP] [CLS] people of power : abraham lincoln [SEP] [CLS] abraham lincoln ( ; february 12, 1809 – april 15, 1865 ) was an american lawyer, politician, and statesman who served as the 16th president of the united states from 1861 until his assassination in 1865. lincoln led the union through the american civil war to defend the nation as a constitutional union and succeeded in defeating the insurgent confederacy, abolishing slavery, expanding the power of the federal government, and modernizing the u. s. economy. [SEP] [CLS] religion lincoln, abraham lincoln, abraham [SEP] [CLS] historiography of the united states abraham lincoln [SEP] [CLS] abraham lincoln ( r ) administration ( 1861 – 1865 ) [SEP] [CLS] inauguration of abraham lincoln may refer to : [SEP] [CLS] see also early life and career of abraham lincoln [SEP] [CLS] see also early life and career of abraham lincoln [SEP] [CLS] see also abraham lincoln on slavery [SEP] [CLS] civilians note : abraham lincoln has a section dedicated to him below. [SEP] [CLS] see also abraham lincoln abraham lincoln assassination lincoln's birthday [SEP] [CLS] abraham lincoln's notable speeches [SEP] [CLS] abraham lincoln ( may 13, 1744 – may 19, 1786 ) was the paternal grandfather of the 16th u. s. president, abraham lincoln. lincoln was a military captain during the american revolution, and a pioneer settler of kentucky. some historical sources attest his last name as linkhorn, although neither abraham nor his children ever signed themselves as such. [SEP] [CLS] abraham lincoln ( 1809 – 1865 ) was a lawyer, politician and the 16th president of the united states from 1861 to 1865. he was born in a one - room log cabin on sinking spring farm near hodgenville, kentucky, to thomas lincoln and nancy hanks. he married mary ann todd and had four children : robert, edward, willie, and tad. [SEP] [CLS] he was a \" staunch supporter of the union cause and rendered much service to abraham lincoln by making speeches and by his writings in 1860 \" and after. [SEP] [CLS] abraham lincoln filene ( april 5, 1865 – august 27, 1957 ) was an american businessman and philanthropist. [SEP] [CLS] abraham lincoln 1908 establishments in the united states historians of abraham lincoln [SEP] [CLS] note : levi lincoln sr. was also distantly related to u. s. president abraham lincoln. [SEP] [CLS] see also abraham lincoln and slavery [SEP] [CLS] abraham lincoln the ancient one, a nickname favored by white house insiders because of his \" ancient wisdom \". the great emancipator and the liberator for the emancipation of the slaves. honest abe the rail - splitter the tycoon, for the energetic and ambitious conduct of his civil war administration. uncle abe for his avuncularity in his later years. [SEP] [CLS] abraham lincoln : a history is an 1890 ten - volume account of the life and times of abraham lincoln, written by john nicolay and john hay, who were his personal secretaries during the american civil war. [SEP] [CLS] he was a former president of the abraham lincoln association and former chairman of the lincoln legal papers research project. [SEP] [CLS] note : robert todd lincoln was also son of u. s. president abraham lincoln. [SEP] [CLS] see also assassination of abraham lincoln [SEP] [CLS] mary \" mamie \" lincoln ( october 15, 1869 – november 21, 1938 ) abraham lincoln ii ( nicknamed \" jack \" ; august 14, 1873 – march 5, 1890 ) jessie harlan lincoln ( november 6, 1875 – january 4, 1948 ). [SEP] [CLS] assassination of abraham lincoln lincoln, abraham lincoln, abraham 1865 in illinois lincoln, abraham [SEP] [CLS] abraham lincoln spradling ( june 19, 1885 – may 22, 1970 ) was an american labor union leader. [SEP] [CLS] bellew's november 26, 1864, harper's weekly caricature of abraham lincoln, \" long abraham lincoln a little longer, \" exaggerating the height and thinness of the president to absurd extremes, was popular. [SEP] [CLS] people abraham lincoln ( captain ) ( 1744 – 1786 ), grandfather of president lincoln abe lincoln ( musician ) ( 1907 – 2000 ), american dixieland jazz trombonist [SEP] [CLS] abraham lincoln is a 2 - volume biography of abraham lincoln written by john torrey morse ( 1840 - 1937 ). [SEP] [CLS] name the name lincoln was chosen as a tribute to the recently assassinated abraham lincoln, 16th president of the united states ( 1861 to 1865 ), and enactor of the emancipation proclamation. [SEP] [CLS] his 1960 work the real abraham lincoln was called \" meticulous \" still in 1978 by historian and lincoln - expert james a. rawley. [SEP] [CLS] it was also notably employed in a speech by abraham lincoln before he became the sixteenth president of the united states. [SEP] [CLS] name when the partido was founded in 1865, the name lincoln was chosen as a tribute to the recently assassinated abraham lincoln, 16th president of the united states ( 1861 to 1865 ), and enactor of the emancipation proclamation. [SEP] [CLS] abe lincoln in illinois ( 1940 ) [SEP] [CLS] abraham lincoln16th president of the united states, serving from march 4, 1861, until his assassination in april 1865. lincoln led the united states through its civil war — its bloodiest war and its greatest moral, constitutional, and political crisis. in doing so, he preserved the union, abolished slavery, strengthened the federal government, and modernized the economy. [SEP] [CLS] in 1866, he was chosen by congress to deliver the special eulogy on lincoln. [SEP] [CLS] abraham lincoln is an 1869 oil - on - canvas painting by george peter alexander healy of abraham lincoln, the 16th president of the united states. [SEP] [CLS] joseph hanks was the great - grandfather of abraham lincoln. [SEP] [CLS] people with the given name lincoln [SEP] [CLS] offices held by abraham lincoln prior to his presidency [SEP] [CLS] first inauguration of abraham lincoln, 1861 second inauguration of abraham lincoln, 1865 [SEP] [CLS] abraham lincoln is a biography written and illustrated by ingri and edgar parin d'aulaire about abraham lincoln. originally published by doubleday, it was the recipient of the caldecott medal for illustration in 1940. [SEP] [CLS] see also gettysburg address abraham lincoln [SEP] [CLS] michael marra has an interest in the history and writings of abraham lincoln. [SEP] [CLS] lincoln township has the name of president abraham lincoln. [SEP] [CLS] lincoln township has the name of president abraham lincoln. [SEP] [CLS] eo : brigado abraham lincoln fr : brigade abraham lincoln pl : brygada im. abrahama lincolna ru : xv интербригада имени авраама линкольна sl : 15. mednarodna brigada » lincoln « fi : abraham lincolnin prikaati [SEP] [CLS] thomas lincoln ( january 6, 1778 – january 17, 1851 ) was an american farmer, carpenter, and father of the 16th president of the united states, abraham lincoln. unlike some of his ancestors, thomas could not write. he struggled to make a successful living for his family and faced difficult challenges in kentucky real estate boundary and title disputes, the early death of his first wife, and the integration of his second wife's family into his own family, before making his final home in illinois. [SEP] [CLS] edward baker lincoln ( march 10, 1846 – february 1, 1850 ) was the second son of abraham lincoln and mary todd lincoln. he was named after lincoln's close friend, edward dickinson baker. both abraham and mary spelled his name \" eddy \" ; however, the national park service uses \" eddie \" as a nickname and the nickname also appears spelled this way on his crypt at the lincoln tomb. [SEP] [CLS] abraham lincoln lincoln, abraham fringe theories [SEP] [CLS] abraham lincoln abraham lincoln ( voiced by will forte ) is the 16th president of the united states and a master builder who rides in a rocket version of his armchair with a footrest that is similar to the one seen in the statue of him. [SEP] [CLS] additional references mrlincolnswhitehouse. org david rankin barbee, \" president lincoln and doctor gurley \", the abraham lincoln quarterly, march 1948, volume. v, no. 1. allen c. guelzo, abraham lincoln : redeemer president, p. 321. dewitt jones, lincoln and the preachers, p. 37. [SEP] [CLS] of particular historical relevance is the mosaic portrait of president abraham lincoln, which can be viewed today in the senate house rooms in the united states, produced by compagnia venezia murano and donated by antonio salviati in 1866. [SEP] [CLS] gienapp, william a. abraham lincoln and civil war america. ( 2002 ) [SEP] [CLS] earl of lincoln ( first creation ) [SEP] [CLS] mark e. neely jr. ( born november 10, 1944, in amarillo, texas ) is an american historian best known as an authority on the u. s. civil war in general and abraham lincoln in particular. [SEP] [CLS] see also abraham lincoln and slavery the lincoln hunters [SEP] [CLS] the 16th president of the united states who abolished slavery following the american civil war. when attending a show at the ford theatre, he was assassinated by john wilkes booth. in \" mitefall! \", the abraham lincoln from parallel universe 5501 is saved from assassination by a multiverse - hopping batman. when john wilkes booth activated his steam - powered armor, abraham lincoln helped batman defeat him. [SEP] [CLS] abraham lincoln, the 16th president of the united states from 1861 to 1865, has been memorialized in many town, city, and county names, along with george washington, he is an iconic image of american democracy and american nationalism. [SEP] [CLS] see also abraham lincoln and religion [SEP] [CLS] joseph jackson lewis ( october 5, 1801 – april 5, 1883 ) was an american lawyer, civil servant, and author who published the first biography of abraham lincoln and served president lincoln as the second u. s. commissioner of internal revenue from march 1863 to july 1865. he was also a leading pennsylvania republican who represented antislavery figures in court. [SEP] [CLS] miller is a very distant relative of us president abraham lincoln. [SEP] [CLS] this is the electoral history of abraham lincoln. lincoln served one term in the united states house of representatives from illinois ( 1847 – 1849 ). he later served as the 16th president of the united states ( 1861 – 1865 ). [SEP] [CLS] reinhard henry luthin ( january 26, 1905 – november 24, 1962 ) was a historian best known for his contribution to the study of president abraham lincoln. he was a professor of history at columbia university, with a lifelong interest in facts regarding lincoln's life and times. [SEP] [CLS] he wrote a request for supplies to u. s. president abraham lincoln. [SEP] [CLS] in 1861, abraham lincoln touched upon the same subject, during his first inaugural address : [SEP] [CLS] in addition, bush - brown made a bust of abraham lincoln, dedicated in 1912 as part of the lincoln speech memorial commemorating lincoln's gettysburg address. [SEP] [CLS] he was born in hardin county, kentucky, near the same area where abraham lincoln was born. in 1830, he went to st. louis and from there to springfield, illinois, where in 1832 he was a partner of abraham lincoln in flatboating on the sangamon river. he also fought in the black hawk war in illinois where he was a lieutenant and abraham lincoln was a private under his command. they were mustered into service by then lt. robert anderson of later fame as major robert anderson in command of fort sumter at start of civil war. lincoln became a surveyor for sangamon county and glasscock was a surveyor in texas but it is not known if the two learned their surveyor skills together. george's sister stayed in illinois and married a friend of lincoln's law partner, herndon. his sister's husband is quoted as saying he had received a letter from george in 1865 and that he stated lincoln had pardoned him. [SEP] [CLS] abraham lincoln owned an identical barouche while he was president of the united states. [SEP] [CLS] lincoln r. long ( february 3, 1861 – may 11, 1927 ) was an american teacher, principal, methodist minister, and politician from new york. [SEP] [CLS] lincoln the unknown is a biography of abraham lincoln, written in 1932 by dale carnegie. it is published by dale carnegie and associates, and given out as a prize in the dale carnegie course. [SEP] [CLS] in 1858, abraham lincoln gave a speech in clinton to which the following quotation has been attributed : [SEP] [CLS] lincoln ( disambiguation ) [SEP] [CLS] sources cited gienapp, william a. abraham lincoln and civil war america. ( 2002 ) holzer, harold. lincoln president - elect : abraham lincoln and the great secession winter, 1860 - 1861. ( 2008 ) [SEP] [CLS] history mordecai lincoln was with his father captain abraham lincoln when he was shot by an indian. mordecai rescued his younger brother thomas, by shooting an indian reaching for him. thomas became the father of abraham lincoln, the future president. [SEP] [CLS] earl of lincoln ( second creation ) [SEP] [CLS] earl of lincoln ( second creation ) [SEP] [CLS] see also abe ( given name ) abraham ( given name ) abraham lincoln high school ( disambiguation ) lincoln ( name ) [SEP] [CLS] see also list of photographs of abraham lincoln [SEP] [CLS] see also list of photographs of abraham lincoln [SEP] [CLS] see also list of photographs of abraham lincoln [SEP] [CLS] see also list of photographs of abraham lincoln [SEP] [CLS] abraham lincoln brick ( may 27, 1860 – april 7, 1908 ) was an american attorney and politician. he served five terms in the united states house of representatives from 1899 until his death in 1908. [SEP] [CLS] other uses the tycoon, a nickname for abraham lincoln, the 16th president of united states [SEP] [CLS] he became a very close friend of future president of the united states abraham lincoln. as an expert shorthand writer, hitt served as a note - taker for lincoln during the famous lincoln – douglas debates of 1858. [SEP] [CLS] in early spring of 1860 and shortly before his death in april 1865, two life masks were created of president abraham lincoln. [SEP] [CLS] external links the first published life of abraham lincoln [SEP] [CLS] there are 130 known photographs of abraham lincoln. [SEP]\n"
     ]
    }
   ],
   "source": [
    "query = \"Who was Abraham Lincoln?\"\n",
    "D, I = top_k_chunks(query, k=100)\n",
    "formatted_chunks = ' '.join([chunks[i] for i in I[0]])\n",
    "print(formatted_chunks)"
   ]
  },
  {
   "cell_type": "code",
   "execution_count": 14,
   "metadata": {},
   "outputs": [
    {
     "name": "stdout",
     "output_type": "stream",
     "text": [
      "Mistral-7B-Instruct-v0.3\n",
      "Abraham Lincoln was the 16th President of the United States, serving from 1861 until his assassination in 1865. He is best known for leading the nation during the American Civil War and for his role in the abolition of slavery. Lincoln was born in a log cabin in Kentucky in 1809 and grew up in Indiana and Illinois. He began his political career as a Whig, but later joined the newly formed Republican Party. Lincoln is often regarded as one of the greatest U.S. presidents and is remembered for his leadership during a time of great national crisis. He was assassinated by John Wilkes Booth at Ford's Theatre in Washington, D.C. on April 14, 1865.\n",
      "\n",
      "Mistral-7B-Instruct-v0.3 + RAG\n",
      "Abraham Lincoln was an American lawyer, politician, and statesman who served as the 16th president of the United States from 1861 to 1865. He was born on February 12, 1809, in a one-room log cabin near Hodgenville, Kentucky, to Thomas Lincoln and Nancy Hanks. Lincoln led the Union through the American Civil War to defend the nation as a constitutional union and succeeded in defeating the insurgent Confederacy, abolishing slavery, expanding the power of the federal government, and modernizing the U.S. economy. He was assassinated on April 15, 1865.\n",
      "\n"
     ]
    }
   ],
   "source": [
    "query = \"Who was Abraham Lincoln?\"\n",
    "\n",
    "print(\"Mistral-7B-Instruct-v0.3\")\n",
    "run_query_streamed(query, model)\n",
    "print()\n",
    "\n",
    "print(\"Mistral-7B-Instruct-v0.3 + RAG\")\n",
    "run_rag_query_streamed(query, model, k=32)\n",
    "print()"
   ]
  },
  {
   "cell_type": "code",
   "execution_count": 15,
   "metadata": {},
   "outputs": [
    {
     "name": "stdout",
     "output_type": "stream",
     "text": [
      "Mistral-7B-Instruct-v0.3\n",
      "Yes, Abraham Lincoln grew a beard during his presidency. He is often depicted with a beard in images and is known for it. Before his presidency, he did not have a beard.\n",
      "\n",
      "Mistral-7B-Instruct-v0.3 + RAG\n",
      "Yes, Abraham Lincoln grew a beard in response to a request from an 11-year-old girl named Grace Bedell, and he kept it for the rest of his presidency. The beard was a full beard, and it was first seen in public when he was elected president in 1860. Before that, he was clean-shaven.\n",
      "\n"
     ]
    }
   ],
   "source": [
    "query = \"Did Abraham Lincoln have a beard?\"\n",
    "\n",
    "print(\"Mistral-7B-Instruct-v0.3\")\n",
    "run_query_streamed(query, model)\n",
    "print()\n",
    "\n",
    "print(\"Mistral-7B-Instruct-v0.3 + RAG\")\n",
    "run_rag_query_streamed(query, model, k=32)\n",
    "print()"
   ]
  },
  {
   "cell_type": "code",
   "execution_count": 16,
   "metadata": {},
   "outputs": [
    {
     "name": "stdout",
     "output_type": "stream",
     "text": [
      "Mistral-7B-Instruct-v0.3\n",
      "Glacier caves, also known as moulins or ice caves, are formed in glaciers due to the melting of ice. Here's a simplified explanation of the process:\n",
      "\n",
      "1. Meltwater: As snow accumulates on a glacier, it eventually turns into ice. Over time, this ice melts due to various factors like geothermal heat, precipitation, and air temperature. This meltwater collects in crevasses and other low spots within the glacier.\n",
      "\n",
      "2. Enlargement of crevasses: The meltwater continues to flow, enlarging the crevasses. As the crevasse deepens, it may eventually connect with the surface of the glacier, forming a vertical shaft known as a moulin.\n",
      "\n",
      "3. Drainage: The meltwater drains into the underlying rock or bedrock, carving out a tunnel or cave-like structure. This process continues as long as the conditions (temperature, precipitation, etc.) allow for melting and drainage.\n",
      "\n",
      "4. Collapse: Over time, the roof of the cave may become too thin to support itself, causing it to collapse. This can create a large, open cavity within the glacier.\n",
      "\n",
      "5. Exposure: If the glacier retreats or melts away, the cave may be exposed to the surface, allowing people to explore it. However, these caves are dangerous and should only be entered by experienced climbers and cavers.\n",
      "\n",
      "Mistral-7B-Instruct-v0.3 + RAG\n",
      "Glacier caves are formed by melting ice and flowing water within and under glaciers. This process is often initiated by water running through or under the glacier, which originates on the glacier's surface through melting, enters the ice at a moulin, and exits at the glacier's snout at base level. Heat transfer from the water can cause sufficient melting to create an air-filled cavity, sometimes aided by solifluction. Air movement can then assist enlargement through melting in summer and sublimation in winter.\n",
      "\n"
     ]
    }
   ],
   "source": [
    "query = \"How are glacier caves formed?\"\n",
    "\n",
    "print(\"Mistral-7B-Instruct-v0.3\")\n",
    "run_query_streamed(query, model)\n",
    "print()\n",
    "\n",
    "print(\"Mistral-7B-Instruct-v0.3 + RAG\")\n",
    "run_rag_query_streamed(query, model)\n",
    "print()"
   ]
  },
  {
   "cell_type": "code",
   "execution_count": 18,
   "metadata": {},
   "outputs": [
    {
     "name": "stdout",
     "output_type": "stream",
     "text": [
      "Mistral-7B-Instruct-v0.3\n",
      "A beer can pyramid, also known as a can pyramid or a can sculpture, is a structure made by stacking beer cans in a specific pattern to create a pyramid shape. This is often done as a fun and creative activity, and the stability of the structure depends on the number of cans used and the arrangement of the cans in the pyramid. The cans are usually empty, but some people use full cans to create a more stable structure. It's important to note that this activity should be done responsibly and safely, and the cans should be disposed of properly after the pyramid is complete.\n",
      "\n",
      "Mistral-7B-Instruct-v0.3 + RAG\n",
      "A beer can pyramid, often referred to as a beeramid, is a pyramid structure made from discarded beer cans. It is built as empty beer cans become available, and it grows gradually as the night, week, or month wears on. Typically, beeramids are temporary structures, either cleaned up or knocked over eventually.\n",
      "\n"
     ]
    }
   ],
   "source": [
    "query = \"What is a beer can pyramid?\"\n",
    "\n",
    "print(\"Mistral-7B-Instruct-v0.3\")\n",
    "run_query_streamed(query, model)\n",
    "print()\n",
    "\n",
    "print(\"Mistral-7B-Instruct-v0.3 + RAG\")\n",
    "run_rag_query_streamed(query, model)\n",
    "print()"
   ]
  },
  {
   "cell_type": "code",
   "execution_count": 19,
   "metadata": {},
   "outputs": [
    {
     "name": "stdout",
     "output_type": "stream",
     "text": [
      "[CLS] a beer can pyramid, often called a beeramid as a portmanteau, is a pyramid made from discarded beer cans. beer can pyramids are built as empty beer cans became available, slowly growing as the night ( or week or month ) wears on. in most cases, though, they are temporary structures, eventually being cleaned up or accidentally knocked over. [SEP] [CLS] beeramid may refer to : beer can pyramid, a pyramid made of empty cans of beer beeramid ( comic ), a comic in the daily cardinal, a student newspaper for uw - madison [SEP] [CLS] another attempt to break the world record beer can pyramid was made with beer cans over 5 metres high and contained 10, 660 cans. it was built by the melbourne university student union in 2005, and was featured on blokesworld and in mx. [SEP] [CLS] beers pyramid once featured beers including, ales, lager, weizens, ciders, porters, and ipas. nowadays, pyramid offers six year - round beers, including hefeweizen, apricot ale, thunderhead ipa and outburst imperial ipa. pyramid also offers seasonal beers, including curve ball blonde ale, oktoberfest and snow cap winter warmer, along with seasonal variety packs and limited release beers. [SEP] [CLS] one beer may refer to : [SEP] [CLS] see also beer ( disambiguation ) [SEP] [CLS] a simple code example can be seen on the 99 bottles of beer website. [SEP] [CLS] free beer may refer to : [SEP] [CLS] in the 1970s, it became a gathering spot for beer can collectors. a customer could ask that the can be opened from the bottom, enhancing its value as a collector's item. [SEP] [CLS] beer may also refer to : [SEP]\n"
     ]
    }
   ],
   "source": [
    "query = \"What is a beer can pyramid?\"\n",
    "D, I = top_k_chunks(query, k=10)\n",
    "formatted_chunks = ' '.join([chunks[i] for i in I[0]])\n",
    "print(formatted_chunks)"
   ]
  },
  {
   "cell_type": "code",
   "execution_count": 20,
   "metadata": {},
   "outputs": [
    {
     "name": "stdout",
     "output_type": "stream",
     "text": [
      "Mistral-7B-Instruct-v0.3\n",
      "As of my last update, the world record for the largest beer can pyramid was set by the University of Wisconsin-La Crosse Eagle's Nest Co-ed Fraternity and Sorority Life on March 23, 2019. They stacked 10,000 cans to create a pyramid that was 11.5 meters tall and 7.6 meters wide. This record was verified by Guinness World Records. However, records can change over time, so it's always a good idea to check the latest records from a reliable source.\n",
      "\n",
      "Mistral-7B-Instruct-v0.3 + RAG\n",
      "I don't have real-time data or the ability to check for updates in the world record books. However, as of the information provided, the beer can pyramid built by the Melbourne University Student Union in 2005 contained 10,660 cans, which was a significant number at that time. I don't have the current world record for a beer can pyramid. To find the most recent record, I would recommend checking the Guinness World Records or other reliable sources.\n",
      "\n"
     ]
    }
   ],
   "source": [
    "query = \"What is the current world record for a beer can pyramid?\"\n",
    "\n",
    "print(\"Mistral-7B-Instruct-v0.3\")\n",
    "run_query_streamed(query, model)\n",
    "print()\n",
    "\n",
    "print(\"Mistral-7B-Instruct-v0.3 + RAG\")\n",
    "run_rag_query_streamed(query, model)\n",
    "print()"
   ]
  },
  {
   "cell_type": "code",
   "execution_count": 21,
   "metadata": {},
   "outputs": [
    {
     "name": "stdout",
     "output_type": "stream",
     "text": [
      "[CLS] another attempt to break the world record beer can pyramid was made with beer cans over 5 metres high and contained 10, 660 cans. it was built by the melbourne university student union in 2005, and was featured on blokesworld and in mx. [SEP] [CLS] a beer can pyramid, often called a beeramid as a portmanteau, is a pyramid made from discarded beer cans. beer can pyramids are built as empty beer cans became available, slowly growing as the night ( or week or month ) wears on. in most cases, though, they are temporary structures, eventually being cleaned up or accidentally knocked over. [SEP] [CLS] olympia beer was praised as one of the top 25 beers in the world in a 2012 mensjournal. com review article. [SEP]\n"
     ]
    }
   ],
   "source": [
    "query = \"What is the current world record for a beer can pyramid?\"\n",
    "D, I = top_k_chunks(query, k=3)\n",
    "formatted_chunks = ' '.join([chunks[i] for i in I[0]])\n",
    "print(formatted_chunks)"
   ]
  },
  {
   "cell_type": "code",
   "execution_count": 22,
   "metadata": {},
   "outputs": [
    {
     "name": "stdout",
     "output_type": "stream",
     "text": [
      "[CLS] in the couch gag for the simpsons episode \" the bob next door \", harold is shown drawing the simpson family living room during the regular title sequence. homer also asks harold to draw him a can of duff beer after he finishes with the living room. [SEP] [CLS] it was featured in season 13 the simpsons episode \" weekend at burnsie's \" where homer simpson ( after he smokes medicinal marijuana ) gets ready for work and pictures his world as a psychedelic wonderland. [SEP] [CLS] in popular media in the 22nd episode of season 3 of the simpsons, \" the otto show, \" homer simpson pulls a can of billy beer from the pocket of his \" concert - going jacket, \" presumably from the last concert he had attended when he was younger, and drinks the beer. [SEP]\n"
     ]
    }
   ],
   "source": [
    "query = \"Which Simpsons episode featured a beer can pyramid outside of Duff Gardens?\"\n",
    "D, I = top_k_chunks(query, k=3)\n",
    "formatted_chunks = ' '.join([chunks[i] for i in I[0]])\n",
    "print(formatted_chunks)"
   ]
  },
  {
   "cell_type": "code",
   "execution_count": 23,
   "metadata": {},
   "outputs": [
    {
     "name": "stdout",
     "output_type": "stream",
     "text": [
      "[CLS] as middle name benjamin geza affleck ( born 1972 ), american actor and filmmaker [SEP] [CLS] ben geurens ( born 24 december 1979 ) is an australian actor. [SEP] [CLS] bob lechevalier : [SEP] [CLS] his younger brother faizat ghazli is also a footballer. [SEP] [CLS] he is the younger half - brother of fellow director jake nava. [SEP] [CLS] his grandson yannick cahuzac is a professional footballer. [SEP] [CLS] ben zabo ( born arouna moussa coulibaly, january 24, 1979 ) is a malian afrobeat - musician from bamako. he was born at tominian in the segou region. he released his self - titled debut album on the international record company glitterhouse records in 2012. [SEP] [CLS] he is the brother of renato marazzi. [SEP] [CLS] in 1988 meretzky had his son daniel meretzky. [SEP] [CLS] he is the son of late broadcaster bob arbogast. [SEP]\n"
     ]
    }
   ],
   "source": [
    "query = \"Who is Benjamin Geza Affleck?\"\n",
    "D, I = top_k_chunks(query, k=10)\n",
    "formatted_chunks = ' '.join([chunks[i] for i in I[0]])\n",
    "print(formatted_chunks)"
   ]
  },
  {
   "cell_type": "code",
   "execution_count": 24,
   "metadata": {},
   "outputs": [
    {
     "name": "stdout",
     "output_type": "stream",
     "text": [
      "Mistral-7B-Instruct-v0.3\n",
      "Benjamin Geza Affleck is a well-known American actor, filmmaker, and screenwriter. He was born on August 15, 1972. Affleck gained fame for his roles in films such as \"Good Will Hunting,\" for which he won an Academy Award for Best Original Screenplay along with Matt Damon, and \"Argo,\" for which he won the Academy Award for Best Picture as a producer. He is also known for his roles in films like \"Dazed and Confused,\" \"Chasing Amy,\" \"Gone Baby Gone,\" and \"The Town.\" In addition to acting, Affleck has directed films such as \"Gone Baby Gone,\" \"The Town,\" and \"Argo.\" He is also a political activist and has been involved in various philanthropic efforts.\n",
      "\n",
      "Mistral-7B-Instruct-v0.3 + RAG\n",
      "Benjamin Geza Affleck is an American actor and filmmaker, born in 1972. He is known for his work in films such as \"Good Will Hunting,\" \"Argo,\" and \"Gone Baby Gone.\" He has won multiple awards, including two Academy Awards, for his acting and directing work.\n",
      "\n"
     ]
    }
   ],
   "source": [
    "query = \"Who is Benjamin Geza Affleck?\"\n",
    "\n",
    "print(\"Mistral-7B-Instruct-v0.3\")\n",
    "run_query_streamed(query, model)\n",
    "print()\n",
    "\n",
    "print(\"Mistral-7B-Instruct-v0.3 + RAG\")\n",
    "run_rag_query_streamed(query, model)\n",
    "print()"
   ]
  },
  {
   "cell_type": "markdown",
   "metadata": {},
   "source": [
    "### Investigating whether failure to retrieve relevant chunks is due to search index or document/query encoder"
   ]
  },
  {
   "cell_type": "code",
   "execution_count": 25,
   "metadata": {},
   "outputs": [
    {
     "name": "stdout",
     "output_type": "stream",
     "text": [
      "[CLS] another attempt to break the world record beer can pyramid was made with beer cans over 5 metres high and contained 10, 660 cans. it was built by the melbourne university student union in 2005, and was featured on blokesworld and in mx. [SEP] [CLS] a beer can pyramid, often called a beeramid as a portmanteau, is a pyramid made from discarded beer cans. beer can pyramids are built as empty beer cans became available, slowly growing as the night ( or week or month ) wears on. in most cases, though, they are temporary structures, eventually being cleaned up or accidentally knocked over. [SEP] [CLS] olympia beer was praised as one of the top 25 beers in the world in a 2012 mensjournal. com review article. [SEP] [CLS] beers pyramid once featured beers including, ales, lager, weizens, ciders, porters, and ipas. nowadays, pyramid offers six year - round beers, including hefeweizen, apricot ale, thunderhead ipa and outburst imperial ipa. pyramid also offers seasonal beers, including curve ball blonde ale, oktoberfest and snow cap winter warmer, along with seasonal variety packs and limited release beers. [SEP] [CLS] to date the brewery has created over 300 different beers. [SEP] [CLS] the oldest can in the collection is a krueger ale can from the 1930s which is similar to the first beer can ever produced in 1935. on display as well are older cone tops ( such as a brockert ale \" j - spout \" can from worcester, massachusetts, and a star banner ale cone top from boston ) and obsolete \" flat top \" cans from the early days of beer can production. the museum is enhanced by a significant collection of breweriana ( beer related collectibles ) such as hanging pub towels in the rafters, thousands of coasters or \" beer mats \", beer trays, and a bar displaying both colorful cans and beer glasses from around the world. crocheted beer can hats from the 1970s, beer can transistor radios, and a beer can telephone are also on display, as are miniature beer cans used in dollhouses. a unique'pysanka'( painted ukrainian style'heineken'egg ) is also housed at the museum. [SEP] [CLS] the magazine published the 2013 edition of its “ america ’ s 100 best beer bars ” list. [SEP] [CLS] cantillon produces 400, 000 bottles of beer a year. [SEP] [CLS] it has five hand pumps serving real ale and a beer garden, and was submitted for a place in the guinness book of records. [SEP] [CLS] although using beer cans was popularized in 1960 by jasper johns, hedrick began the practice in art many years earlier, during the early 1950s. one of hedrick's favorite beer can sculptures \" was made up of smashed beer cans in a kind of pyramid, as sort of a mountain, so i called it american everest. \" the welded beer can sculptures \" carried over until - - 1969. \" [SEP]\n"
     ]
    }
   ],
   "source": [
    "query = \"What is the current world record for a beer can pyramid?\"\n",
    "D, I = top_k_chunks(query, k=10)\n",
    "formatted_chunks = ' '.join([chunks[i] for i in I[0]])\n",
    "print(formatted_chunks)\n"
   ]
  },
  {
   "cell_type": "code",
   "execution_count": 26,
   "metadata": {},
   "outputs": [
    {
     "data": {
      "text/plain": [
       "array([44419780, 44419778, 46332100, 42621542, 32287273, 48056004,\n",
       "       10667840, 44684914, 15182634,  6031383])"
      ]
     },
     "execution_count": 26,
     "metadata": {},
     "output_type": "execute_result"
    }
   ],
   "source": [
    "I[0]"
   ]
  },
  {
   "cell_type": "code",
   "execution_count": 27,
   "metadata": {},
   "outputs": [
    {
     "data": {
      "text/plain": [
       "'[CLS] on 23 september 2000, the malaysian can team, consisting of 12 college students from the inti college subang jaya, malaysia built a free standing can pyramid created from 9, 455 empty aluminium drink cans in 24 minutes at the mid valley megamall in kuala lumpur, malaysia. it had a square base of cans, measuring. this feat made a successful entry into the guinness world record and to - date this record has yet to be broken. [SEP]'"
      ]
     },
     "execution_count": 27,
     "metadata": {},
     "output_type": "execute_result"
    }
   ],
   "source": [
    "chunks[44419780 - 1]"
   ]
  },
  {
   "cell_type": "code",
   "execution_count": 28,
   "metadata": {},
   "outputs": [],
   "source": [
    "import numpy as np"
   ]
  },
  {
   "cell_type": "code",
   "execution_count": 29,
   "metadata": {},
   "outputs": [],
   "source": [
    "# Comparing similarity of query to retrieved chunks and the non-retrieved chunk that contains the necessary fact\n",
    "emb_query = query_encoder.encode([query])\n",
    "emb_chunk0 = query_encoder.encode([chunks[44419780]])\n",
    "emb_chunk1 = query_encoder.encode([chunks[44419780 - 1]])\n",
    "emb_chunk2 = query_encoder.encode([chunks[15182634]])\n",
    "emb_chunk3 = query_encoder.encode([chunks[32287273]])"
   ]
  },
  {
   "cell_type": "code",
   "execution_count": 30,
   "metadata": {},
   "outputs": [
    {
     "name": "stdout",
     "output_type": "stream",
     "text": [
      "0.80006427\n",
      "0.6656804\n",
      "0.5796839\n",
      "0.61451036\n"
     ]
    }
   ],
   "source": [
    "for emb in [emb_chunk0, emb_chunk1, emb_chunk2, emb_chunk3]:\n",
    "    score1 = np.dot(emb_query.flatten(), emb.flatten())\n",
    "    print(score1) "
   ]
  },
  {
   "cell_type": "code",
   "execution_count": 24,
   "metadata": {},
   "outputs": [
    {
     "data": {
      "text/plain": [
       "array([44419780, 44684914, 16419147, 20744553,  6416773, 19033151,\n",
       "       26014709, 41376691, 34361474, 26496274, 42685118,  5640383,\n",
       "       44085428,  5263339,   973686, 47448553, 23267869, 46842458,\n",
       "       34141572, 37570376,  8779913,  8815147, 25444862, 31087900,\n",
       "       16081675, 19195266,  4185976, 34936540,  4689674, 16081669,\n",
       "       36622096, 30384421, 15366051,  5588299, 47866189, 27002093,\n",
       "         340457, 18100694, 32287274, 16084566,   124748, 34141574,\n",
       "       47848535, 19965494, 44085405, 21991699, 35899911, 49433051,\n",
       "       16767536, 36497538, 45207851,  4801097,   124775, 36835559,\n",
       "        3084689, 45157266, 17168589, 29561178, 12708203,   635835,\n",
       "        7181068, 16212102,   124766, 12174024, 45156942, 45157245,\n",
       "       25905764, 41505238, 28724613, 34936532, 45157269, 42145038,\n",
       "       27735876,    54510, 23466812, 45100479, 44948833, 47380163,\n",
       "       35153054, 32182806,  2360932, 45196960, 14212395, 15515414,\n",
       "        1664053, 42820844, 41376750, 18919372, 46878533, 36575452,\n",
       "       20332626, 12174009, 21392435,  1143898, 37899982, 41396769,\n",
       "       37160256, 28550523,   161565, 40796542, 38371213, 47848527,\n",
       "       31122292, 24683665, 16582154, 11578475, 13150664, 23733649,\n",
       "       11540698, 26526498,  6446835, 48649970, 46800650, 15515404,\n",
       "       12207791, 45678566,    54497, 45207855,  8710843, 39347270,\n",
       "         470118, 40425547, 12673960,  9885952, 47397408,  6630822,\n",
       "        8378152,  3392552, 19819192,  4202831, 19410422, 25750308,\n",
       "       15515403,  5048762, 41518735, 19447557, 43846375, 49381089,\n",
       "       15447680, 41662695, 11259473, 12173972,  2360931, 16020496,\n",
       "       33094525,  9079120,  9014083, 16979389, 16084564, 15855049,\n",
       "       19447550, 46966430, 20641365, 30676397, 35963081, 25561618,\n",
       "       45636768, 47511261, 13411263, 12174030,  8815145, 38864391,\n",
       "       45748724, 49374920, 12174037, 18314390,  6511072, 12174042,\n",
       "       16020481, 18250412,   502025, 19410396, 49175655, 33924430,\n",
       "       45147226, 15263602, 34016124, 48709436, 44869596,  5708295,\n",
       "       48497730, 14428172, 45450008, 45140546, 18733466, 29905399,\n",
       "       23366241,  2360922, 21392433, 25234144, 43846345, 36835568,\n",
       "         894015, 30486155, 49111367, 46842449, 18454907,  9394464,\n",
       "          86794, 48050769,    86791,  7802981,  5207869, 44684547,\n",
       "       45207860, 18013726, 46956937, 41505232, 45207865, 17653049,\n",
       "       45655476, 41376689,   346965, 18454908, 41505250, 15176347,\n",
       "       25188532, 44266679, 10734253, 27230083,  6036944, 49374866,\n",
       "         716407, 13709076, 18117545,  9022897, 12985904, 16062306,\n",
       "       36835565,   752730, 34762508, 36279717, 26496273, 12205137,\n",
       "       40905284,  8710845, 44376734,  1902763, 43491469, 12173966,\n",
       "       28178070, 34361473, 25445188, 45157272, 12173974, 44869566,\n",
       "       12173989,  5690304,  2295327, 45083241, 19819193, 47848510,\n",
       "       40103428, 44684476, 33074182, 46313975,  1007735, 18117711,\n",
       "        5322342, 44987044, 45147212,   983034, 11574747, 41131052,\n",
       "       41527737, 41376711, 45148527, 38156652, 22149634, 45156961,\n",
       "       17695256, 45129501, 40905285, 26520780, 33094521, 12708196,\n",
       "       28387743,   276475, 44869560, 45147270, 45169573, 22377279,\n",
       "       22083061, 27856163, 46800648, 27735875, 29561312, 25750309,\n",
       "         161543, 40456663, 15295418, 34361485,  9752889, 22622613,\n",
       "       35153052,  9079104, 11712579, 45042086, 40750729, 16704972,\n",
       "        6232198,  6036941,  2979419, 39465265, 46458784, 16736270,\n",
       "       23903305, 12823677, 46280727, 13598980,  5480108,  3178173,\n",
       "       26515104, 24827756, 23903108, 21056435, 32470969, 46313978,\n",
       "        3178175, 45198609, 10734264, 47790880, 16833949,  2223102,\n",
       "       12700084, 47276917,  1007740, 46313981, 45157939, 44085421,\n",
       "       26222537, 25739013, 17283339, 43374436, 10984133,  1268038,\n",
       "       44891006, 45100472, 45157176, 12174005, 18733467,  4821740,\n",
       "       45157184, 31991818, 38371203, 45156943,  4413456,    75918,\n",
       "       48734211, 46458776, 23087329, 11281087, 26510975, 46800649,\n",
       "       45156977, 45157190,  8806764, 20615709, 12985903, 46458783,\n",
       "       46951468, 16068549, 46250778,  6924661, 48976282, 31484412,\n",
       "       24439910, 15366054, 45535301, 44869524, 35805056, 30117948,\n",
       "       12451801, 34361482, 41026476, 12174040, 31988145, 16812590,\n",
       "       33801893,  6511054, 32283659, 18469184, 41505243,  7243986,\n",
       "       13298906, 31118854, 10431075,  8710844, 30073044,  6232160,\n",
       "       14588831, 45145970, 26515787,   983037, 19212916,  8710842,\n",
       "        4637821, 12914137, 16979378, 47036918, 42685101, 43846353,\n",
       "        6480815, 47511259, 30473922, 12173995, 17135852, 23847878,\n",
       "       16979383, 15295412,  1113523,   679096, 40725186,  3084690,\n",
       "       29340900, 29053068, 17170164, 39997441,  3432362,   161566,\n",
       "         288298,   706643, 16812579, 18117786, 18393915, 18402191,\n",
       "       18409736, 18971477, 22277913, 22777761, 23465425, 23496285,\n",
       "       24335864, 24740152, 25495224, 25495236, 26720203,  9979963,\n",
       "       42225855, 44869535, 45864943,   161564, 20877998, 45502451,\n",
       "       48625930, 10984134,  3194400, 45169578, 21909943, 31991817,\n",
       "       37880033, 45100474,  1174166, 35899905, 41376678, 44684545,\n",
       "       18968020, 26510977, 15596338,  1748015, 27428822, 32033413,\n",
       "       10312526, 45147210, 46280734, 24211662,  9394463, 45157267,\n",
       "       16704977, 36622098,  1736156, 45169619,    86801, 29905397,\n",
       "       40750732, 25471971, 23781259, 29722331, 21392436, 40336964,\n",
       "       48338848, 40321426, 12248190, 19447555,  1127213, 46730319,\n",
       "        8461116,  9144206, 34959021, 12174021, 44869544, 22633183,\n",
       "       36536143,  4826421, 12026686, 12174038, 34762507,  4826420,\n",
       "       31782940, 45564609,  3826084, 27521199, 45187709,  8300019,\n",
       "       45154474, 29760707,  6477991, 12700100, 44869543,  4142082,\n",
       "       47388302, 19410408,  4908779,   124758, 15596327, 14174235,\n",
       "       46806675, 48709435,  1681479, 44869528, 45222054, 45199953,\n",
       "       27691465, 46280733, 45535306, 16810646, 15295417, 40425557,\n",
       "       34801263, 31421144, 45196954, 47963102, 18733468, 41026488,\n",
       "       12173999,    86784, 25401229, 35963080,  5974539, 43138195,\n",
       "       42969186,  6232187, 12173991, 12174008,  7444508, 38371216,\n",
       "       36745975, 46456086, 40270459, 43267200, 45169631, 46665066,\n",
       "       12247984, 46583900, 43267220,  7243988,  9358375, 25495308,\n",
       "       11276737, 42627005, 10112625,  3194408,  6390354, 44840083,\n",
       "       24919911, 46800666, 15417791, 23267962, 14062309,  6495386,\n",
       "       23348208, 41376701, 11489947,   307120, 12173997, 43988343,\n",
       "       44085438, 11310866, 27230084,  5716214, 40003119, 29745615,\n",
       "       42029142,  8468097, 14322681, 24034242, 21392429, 45169636,\n",
       "        5289068, 26501927,   124774, 15800519, 24798372,  2360934,\n",
       "       27411991,  3949444, 41533487, 38358589, 19447547,  4684044,\n",
       "       33494831, 34443620, 18314389, 27439183, 41662707, 16020464,\n",
       "       46367832, 16582153, 36279718,  8476826, 41505241, 35963082,\n",
       "       38156645, 21392431, 27255364, 18763177, 43846344, 49513355,\n",
       "       40103424, 36016845, 17369811, 22277912, 20841852, 46321467,\n",
       "       28099244, 45157183, 10734262, 43641721, 30590970, 21572520,\n",
       "       16121595,  3194401,  3432363, 37837817, 36745973, 44869581,\n",
       "       16667206, 11906423, 27557032,  6232180, 35153071,  4689673,\n",
       "       28787348, 43551849, 45157189, 24641988, 48709439, 47596137,\n",
       "       26526497, 15491192, 46900116, 44869554, 12174006, 42077165,\n",
       "       29340903,  9977099, 43138197, 31616091, 10075001, 16020482,\n",
       "       44869536, 21798615, 31800170, 38371212, 13740091, 12700093,\n",
       "        2184979, 45200337, 47870254, 18733470, 12892270, 23489634,\n",
       "       45157900,   737559, 20615293, 12205147, 39930627, 39983796,\n",
       "       42116830,  1736150, 32156898, 47865535, 36279722, 45156971,\n",
       "       12174013, 14669710, 10433898, 24683666, 41505249, 46313979,\n",
       "       46367830,  2540535, 46367835, 19916010, 41409035, 20442857,\n",
       "       26502228, 38650143, 46332092, 40419112, 43267207, 23348204,\n",
       "        6232173, 47458170, 49423138, 45157188, 31432740,  9358376,\n",
       "       23496284, 31800167, 44684475, 26526499, 45207864, 35805048,\n",
       "       45222057, 39133651, 24641009, 18690347, 44496767,   124776,\n",
       "       46280745, 45156940,  3248261, 41376684, 47914476, 45169620,\n",
       "       48135660, 16582152,   397134,  3301045, 11281088, 46280728,\n",
       "        2200415, 20876784, 26606748,   626954, 45156976, 16287819,\n",
       "       42969188, 41204982, 17468088, 13451776, 30780807, 32955098,\n",
       "       45156958, 41851955, 31964268, 15596329, 45187705, 25021294,\n",
       "       32702064, 44465887, 25466133, 12174011, 48999390,  7239087,\n",
       "       13797625, 31616090,    54555, 29925477, 10503873, 33074184,\n",
       "        1748019, 45207844, 45156966, 46956934, 35963075, 26515783,\n",
       "       18117710, 30416355, 19089160, 40664911,  8710841, 15548839,\n",
       "       46800647, 31484421, 39133653, 23903109, 45156968, 43017747,\n",
       "        7862227, 40419101, 25750380,  6318748, 16379931, 46367829,\n",
       "       30780805, 41801103, 45128817, 47344391, 22258831, 38371219,\n",
       "       41363762, 26382962, 28947829, 47848531, 25750321, 36271699,\n",
       "       11803160, 40896236, 44869577,  3157976, 38693539, 39155526,\n",
       "       24467145, 46848379, 41363759, 10767889,  7274375,  6929433,\n",
       "       43911090, 16704975, 47830565, 46956950, 35114234, 44381671,\n",
       "       46800655, 44342908, 12247988, 27259315, 27439181,  1681440,\n",
       "       47541639, 26454163, 41555369, 18409735, 44869595,  6624746,\n",
       "        1664061, 44266677, 40729020, 25445181, 41363764, 35153055,\n",
       "       41409039, 22149635,   258694,  1007744, 45864945, 16767547,\n",
       "       47623566, 41505235, 48709419, 44376738, 45207866, 41376733,\n",
       "       35970988, 16544903, 10247692, 47914495, 46047672, 41363761,\n",
       "       12173994, 41235288, 41505236, 12174043,  2946622, 16020505,\n",
       "       16299642, 42029151, 43817532, 42969185, 44376733, 31484408,\n",
       "       38608729, 13143157, 45966115, 19410407, 45136504, 46800651,\n",
       "       49422786, 29896555, 44342971, 15595209,   996626, 31484409,\n",
       "       34665999, 17766163, 46280732, 26168146, 49378790, 45207845,\n",
       "       41505228,  6232193, 30780796, 40708065, 23953112,  4684033,\n",
       "       22872314, 12429094,   288297, 25750322,  7964432, 21572522,\n",
       "        8999650,  5653160,  5700464, 48413405, 33614191,  6390356,\n",
       "       25445183, 42313025, 18314388, 31664829, 16803640, 22741212,\n",
       "       10751732,  2167251, 38985430, 26850537,  6390358, 37140818,\n",
       "       18250364, 47865911, 45207862, 45530150, 24335862, 45145915,\n",
       "         606458, 37063356,   124777, 26831804, 11340420, 48649968,\n",
       "         470107, 33092794, 41376718, 44013085, 44029753, 37140827,\n",
       "       48380944,   258695, 47696036, 44440765, 35049134,  5700460,\n",
       "       11906425,  2340231, 18556601, 26897921, 45154475, 23290531,\n",
       "        9798652, 45083242, 11893747, 43846373, 19089159, 17695260,\n",
       "       14303621, 40336963, 31669164,  5228850,   872436, 47066917,\n",
       "        8060748, 45864957,  3394366, 17695257, 41409019,  1995144,\n",
       "        5802642, 18949329, 32766990, 40103426, 28802937, 41376712,\n",
       "       33614197, 20615717, 39812864, 15596346, 23365529, 38371197,\n",
       "        5289065, 25008045, 41409040, 45156963, 26382963, 47649682,\n",
       "       41662706,  2352341,  6514187, 44010144, 24416883, 28128773,\n",
       "       15295416, 28499009, 39133647, 11578476, 26526500,   124754,\n",
       "       17866602, 14174233, 49184586, 14136903, 28575687,  3178171,\n",
       "       34361480, 38371207, 44192926, 40905283])"
      ]
     },
     "execution_count": 24,
     "metadata": {},
     "output_type": "execute_result"
    }
   ],
   "source": [
    "query = \"What is the current world record for a beer can pyramid?\"\n",
    "D, I = top_k_chunks(query, k=1000)\n",
    "I[0]"
   ]
  },
  {
   "cell_type": "code",
   "execution_count": 31,
   "metadata": {},
   "outputs": [
    {
     "data": {
      "text/plain": [
       "(True, False)"
      ]
     },
     "execution_count": 31,
     "metadata": {},
     "output_type": "execute_result"
    }
   ],
   "source": [
    "# Even fetching the top 1000 matches in index, required chunk isn't found... :(\n",
    "44419780 in I[0], 44419779 in I[0], 44419778 in I[0]"
   ]
  },
  {
   "cell_type": "code",
   "execution_count": 26,
   "metadata": {},
   "outputs": [
    {
     "name": "stdout",
     "output_type": "stream",
     "text": [
      "[0.80006427, 0.6221438, 0.56738615, 0.56650317, 0.5571245, 0.55555916, 0.55080813, 0.5476148, 0.54552424, 0.5436713, 0.53899646, 0.5366755, 0.5345394, 0.53018284, 0.52894855, 0.52799815, 0.5221437, 0.52118266, 0.52045053, 0.5203744, 0.51641655, 0.5130265, 0.5127297, 0.5116299, 0.50966203, 0.50895905, 0.50880957, 0.5081908, 0.50676394, 0.5065583, 0.50640064, 0.50514567, 0.5045469, 0.5041433, 0.50370705, 0.5032388, 0.5027695, 0.5012673, 0.5010059, 0.50094634, 0.4988805, 0.49821705, 0.4972093, 0.4957267, 0.49480417, 0.49455714, 0.4907418, 0.4900855, 0.48919064, 0.4891385, 0.48910388, 0.4890645, 0.48905128, 0.4884631, 0.48836598, 0.4882414, 0.48771375, 0.4874601, 0.48642403, 0.48611897, 0.48571566, 0.4854838, 0.4842167, 0.48386508, 0.48254412, 0.48151135, 0.48133773, 0.48129317, 0.48040962, 0.47928306, 0.47695112, 0.4769107, 0.47681057, 0.47648796, 0.47629863, 0.47509062, 0.47474012, 0.47249687, 0.47248125, 0.4720722, 0.4720341, 0.47153708, 0.46922535, 0.4686184, 0.46785474, 0.46764272, 0.46754634, 0.46719158, 0.46694726, 0.46678922, 0.46650594, 0.46631387, 0.46611786, 0.46595556, 0.465345, 0.4651952, 0.4644726, 0.46424416, 0.46362746, 0.4635045, 0.46307462, 0.4629755, 0.46290895, 0.4623798, 0.46191412, 0.4613189, 0.46124756, 0.46099833, 0.4607755, 0.46057805, 0.46052438, 0.46024257, 0.45993382, 0.45939302, 0.45890313, 0.45889002, 0.45873663, 0.45852524, 0.4582648, 0.45775914, 0.45755008, 0.45752773, 0.45725965, 0.45719537, 0.45698223, 0.45685852, 0.45676124, 0.4560573, 0.45598322, 0.45554623, 0.4555115, 0.45529762, 0.45487583, 0.45478252, 0.45446151, 0.4540796, 0.45398986, 0.45386523, 0.453116, 0.45310432, 0.452897, 0.4517293, 0.45091438, 0.4506004, 0.45038033, 0.4495986, 0.44933182, 0.44932145, 0.44913304, 0.44893652, 0.44883585, 0.4486543, 0.44829267, 0.4478659, 0.4478527, 0.4478252, 0.4478044, 0.44754905, 0.44748148, 0.44741705, 0.44730246, 0.447259, 0.4471499, 0.4466315, 0.4464238, 0.4457248, 0.44566455, 0.44523892, 0.44506648, 0.44436318, 0.44411224, 0.44402045, 0.44394684, 0.44379795, 0.44373095, 0.44365042, 0.44331494, 0.44257838, 0.44223213, 0.44192415, 0.4419205, 0.44188443, 0.4413966, 0.44061062, 0.44053572, 0.4405351, 0.44019914, 0.4397027, 0.4392573, 0.4391511, 0.43914628, 0.43891504, 0.4389137, 0.4389137, 0.43868396, 0.43862206, 0.43856704, 0.43848643, 0.43818218, 0.43806705, 0.437986, 0.4378188, 0.43760026, 0.43721268, 0.43668652, 0.43653607, 0.4364991, 0.4364816, 0.4357586, 0.43566436, 0.43523645, 0.4348139, 0.43431398, 0.4342044, 0.43383157, 0.43377072, 0.4336699, 0.43344653, 0.43336123, 0.4333089, 0.43285072, 0.43237954, 0.43185246, 0.4315975, 0.43132192, 0.4311905, 0.42964405, 0.4295329, 0.42894948, 0.4288492, 0.4287964, 0.4286077, 0.42852077, 0.42848143, 0.4283728, 0.42818487, 0.42729905, 0.42707708, 0.4269591, 0.4266399, 0.4264345, 0.4263193, 0.42617673, 0.42617032, 0.42609614, 0.42591655, 0.4259082, 0.42584857, 0.4255033, 0.4254616, 0.42520088, 0.42508426, 0.42498204, 0.42488462, 0.42471483, 0.42459005, 0.42457795, 0.42456502, 0.42434484, 0.42362666, 0.4236186, 0.42354786, 0.42340475, 0.42332968, 0.4232561, 0.42323577, 0.42316478, 0.42306525, 0.42298168, 0.4228152, 0.42269224, 0.4226735, 0.42259926, 0.42233062, 0.4221236, 0.42206466, 0.42156658, 0.42155635, 0.42109016, 0.42105886, 0.42100626, 0.42096, 0.4205237, 0.42031687, 0.42019063, 0.4201886, 0.42015207, 0.42004883, 0.42004246, 0.41991875, 0.41984618, 0.41912863, 0.41883725, 0.4187445, 0.4185233, 0.4184085, 0.41832915, 0.4180351, 0.41803265, 0.4177019, 0.41710955, 0.41701126, 0.41698825, 0.41663694, 0.41642842, 0.41628498, 0.4156018, 0.41544163, 0.4154395, 0.4154026, 0.41509008, 0.4150207, 0.4149838, 0.41479528, 0.41473776, 0.41472554, 0.41427708, 0.41402444, 0.41311115, 0.41303387, 0.41276506, 0.41246638, 0.41245696, 0.41245696, 0.41245696, 0.41245696, 0.41245696, 0.41245696, 0.41245696, 0.41245696, 0.41245696, 0.41245696, 0.41245696, 0.41245696, 0.41245696, 0.41245696, 0.41245696, 0.41245696, 0.41245696, 0.41245696, 0.41239232, 0.41225415, 0.41187048, 0.4118498, 0.41176087, 0.41169107, 0.41162598, 0.411453, 0.411327, 0.4112056, 0.41119674, 0.41089636, 0.4108527, 0.41044778, 0.4104227, 0.41025138, 0.41023785, 0.41002172, 0.40967238, 0.40945923, 0.40916875, 0.40906554, 0.40852714, 0.40846238, 0.40814573, 0.40785605, 0.4076984, 0.40763026, 0.40752098, 0.40743542, 0.40737635, 0.40736255, 0.40700465, 0.40698376, 0.40690792, 0.40637475, 0.40621123, 0.4061485, 0.40604746, 0.4058456, 0.40584254, 0.40566647, 0.40557957, 0.40547878, 0.4054659, 0.4051564, 0.40482074, 0.40477237, 0.40464538, 0.40439117, 0.40404588, 0.40387678, 0.40379506, 0.40367478, 0.4036676, 0.4035907, 0.40351918, 0.40349752, 0.4031585, 0.40314537, 0.40302902, 0.4029987, 0.40292442, 0.40292415, 0.4027614, 0.40273345, 0.402683, 0.4023037, 0.40215158, 0.40213868, 0.40212294, 0.40197298, 0.40190172, 0.4017162, 0.40170816, 0.40169254, 0.40168604, 0.40163887, 0.40143764, 0.40118507, 0.40083918, 0.4006797, 0.40065134, 0.40063596, 0.40063325, 0.40037507, 0.40030783, 0.4002648, 0.39987785, 0.39978802, 0.3996198, 0.39958507, 0.39885, 0.39884955, 0.39874178, 0.3985792, 0.3985134, 0.39845756, 0.39798903, 0.39795983, 0.39775568, 0.3974824, 0.39729288, 0.39726776, 0.3970502, 0.39696994, 0.39682502, 0.39676595, 0.39638263, 0.3962496, 0.39618742, 0.39597148, 0.39592433, 0.39507824, 0.3949827, 0.39498204, 0.3946731, 0.39466065, 0.3945992, 0.39457762, 0.39429617, 0.39428157, 0.39417547, 0.39412752, 0.39406106, 0.3939189, 0.39360493, 0.393466, 0.39342687, 0.3933498, 0.39310855, 0.393098, 0.3930092, 0.39296618, 0.39272693, 0.39265537, 0.39261946, 0.39251572, 0.39241162, 0.39230132, 0.39229468, 0.3922932, 0.39212215, 0.39196122, 0.39187917, 0.3918336, 0.3915613, 0.39155594, 0.3911028, 0.3910337, 0.39085388, 0.3908021, 0.3907103, 0.39070293, 0.3900162, 0.38986588, 0.38978893, 0.38971612, 0.38951004, 0.38932914, 0.38926816, 0.38904685, 0.3889507, 0.38893875, 0.38887912, 0.38879114, 0.38873294, 0.38855022, 0.38842762, 0.3883924, 0.38831353, 0.38800204, 0.38795945, 0.38791987, 0.38773364, 0.38754386, 0.38743597, 0.38727552, 0.38711548, 0.38708198, 0.38704664, 0.38677523, 0.38671649, 0.3864599, 0.386366, 0.3863177, 0.38617408, 0.38613868, 0.3860182, 0.38586015, 0.38553837, 0.38520116, 0.38495266, 0.38485053, 0.38481855, 0.38475192, 0.3846512, 0.38449135, 0.3843675, 0.3840534, 0.38400936, 0.38376987, 0.38354802, 0.38345093, 0.38331884, 0.38293025, 0.38283646, 0.38207322, 0.38200986, 0.3819039, 0.38181734, 0.38170207, 0.3816919, 0.381644, 0.38161626, 0.3815658, 0.38150552, 0.3814245, 0.3808338, 0.3808313, 0.3800168, 0.37992305, 0.37986448, 0.3797242, 0.37949556, 0.3793555, 0.37916556, 0.37915248, 0.3790924, 0.37902406, 0.3789568, 0.37867355, 0.37866414, 0.37849152, 0.378472, 0.3784198, 0.3782432, 0.37818694, 0.378065, 0.3779434, 0.377827, 0.37775564, 0.37723604, 0.37722367, 0.3766982, 0.37659967, 0.37656903, 0.37652427, 0.37650537, 0.37641358, 0.37634164, 0.37613368, 0.3760629, 0.37572676, 0.37567836, 0.37533385, 0.37518007, 0.3751132, 0.37501192, 0.3749206, 0.37490264, 0.37479097, 0.37478775, 0.3747179, 0.3746429, 0.3745767, 0.3744375, 0.3740648, 0.37399, 0.37379122, 0.37367317, 0.37355906, 0.37352046, 0.37333274, 0.37332022, 0.37329465, 0.37324983, 0.3730814, 0.3729201, 0.37289953, 0.37280864, 0.37266678, 0.37237978, 0.3723248, 0.37218314, 0.37195626, 0.37166953, 0.3710571, 0.3709814, 0.37092692, 0.37081605, 0.3705374, 0.37046948, 0.370435, 0.3703444, 0.37033373, 0.3703156, 0.3700619, 0.3698473, 0.36983466, 0.36936176, 0.3691793, 0.36916065, 0.36914366, 0.3690297, 0.36885372, 0.3684124, 0.36837268, 0.36805862, 0.367871, 0.3677564, 0.3676818, 0.3675823, 0.36741003, 0.36722732, 0.36710358, 0.3670181, 0.36698747, 0.36697382, 0.36692604, 0.3666554, 0.36642832, 0.3660501, 0.36589038, 0.36570203, 0.3654014, 0.365256, 0.36519587, 0.36500776, 0.36486322, 0.3648494, 0.3648125, 0.36476818, 0.36456972, 0.36451858, 0.364511, 0.36450073, 0.3643531, 0.3641876, 0.36401236, 0.3639326, 0.36381912, 0.36379746, 0.36367643, 0.36363393, 0.3634288, 0.36334568, 0.3631572, 0.36311454, 0.36306822, 0.3630513, 0.36302283, 0.3628349, 0.36272794, 0.36216885, 0.36215562, 0.36204767, 0.36195827, 0.3616434, 0.36151877, 0.36142102, 0.361421, 0.36109912, 0.36103213, 0.36069292, 0.3606516, 0.36057386, 0.36044842, 0.36041254, 0.3603316, 0.3602666, 0.36006796, 0.35999808, 0.35991412, 0.35967803, 0.35941374, 0.35926038, 0.3592139, 0.35912043, 0.35894376, 0.35881922, 0.35871285, 0.35871243, 0.35868943, 0.35865077, 0.35827416, 0.35795778, 0.35787702, 0.3577273, 0.35765284, 0.35736537, 0.35709077, 0.3568177, 0.35677168, 0.35631877, 0.356295, 0.35611862, 0.3551411, 0.3550032, 0.35492116, 0.35481215, 0.35478574, 0.3547535, 0.35472926, 0.3544646, 0.35446423, 0.35431996, 0.35344976, 0.35344917, 0.3534447, 0.35343975, 0.35343707, 0.3533379, 0.35324615, 0.3531217, 0.35298193, 0.3523938, 0.35237837, 0.3522023, 0.3521691, 0.3520661, 0.35191646, 0.35187992, 0.35183215, 0.35167694, 0.35165164, 0.35162878, 0.35154235, 0.3515324, 0.35151488, 0.351419, 0.3513538, 0.3512665, 0.35118622, 0.35112566, 0.35104862, 0.35102555, 0.3509817, 0.3509496, 0.35089076, 0.350783, 0.3506457, 0.35055047, 0.35042924, 0.35033396, 0.35028374, 0.3502188, 0.35000038, 0.34975252, 0.34921652, 0.34917712, 0.34896207, 0.34884983, 0.34867477, 0.34864753, 0.34862354, 0.34853977, 0.34842035, 0.3483793, 0.34837222, 0.34835902, 0.34831586, 0.34781605, 0.34744385, 0.3472628, 0.34707335, 0.34650725, 0.3465066, 0.34646264, 0.34628543, 0.34617084, 0.34598345, 0.3459549, 0.3457129, 0.34555033, 0.3452624, 0.34521842, 0.34504873, 0.34493637, 0.3449327, 0.34482226, 0.34474295, 0.3447164, 0.34470785, 0.34468672, 0.3445595, 0.3440848, 0.34398437, 0.34369725, 0.3434646, 0.3433371, 0.34317052, 0.34308264, 0.34296742, 0.34296232, 0.342913, 0.34266746, 0.342574, 0.34244508, 0.3424195, 0.3423895, 0.34225225, 0.3419986, 0.34184515, 0.3418392, 0.34180123, 0.3414057, 0.34128073, 0.3410787, 0.34099135, 0.34091312, 0.34088552, 0.3405763, 0.34049147, 0.34037519, 0.33971795, 0.33925292, 0.3390701, 0.33896098, 0.33893535, 0.3388173, 0.3388071, 0.33870763, 0.33862174, 0.33833393, 0.33827803, 0.33820716, 0.33818337, 0.33796072, 0.33794054, 0.3378755, 0.33784747, 0.33776277, 0.33765137, 0.33759075, 0.3374993, 0.33745226, 0.3374008, 0.33734477, 0.33697766, 0.33689716, 0.33656067, 0.33607683, 0.33599257, 0.3357417, 0.33563566, 0.335411, 0.33507544, 0.33502594, 0.33497357, 0.3348465, 0.33466667, 0.33462542, 0.3345819, 0.33449003, 0.3342728, 0.33413538, 0.33405942, 0.33382282, 0.33345288, 0.33317795, 0.33317405, 0.3330419, 0.33304134, 0.3327493, 0.33265266, 0.3325367, 0.33230615, 0.33202234, 0.3319436, 0.33170855, 0.33145458, 0.3313495, 0.33112767, 0.33111256, 0.32994574, 0.3299358, 0.32993197, 0.32989055, 0.32986557, 0.32940042, 0.32934436, 0.32885194, 0.3283056, 0.32828137, 0.3273036, 0.32705107, 0.3255057, 0.3247149, 0.3243342, 0.3238392, 0.32380503, 0.32380503, 0.32380503, 0.32355136, 0.3233165, 0.32321012, 0.3229158, 0.3228454, 0.32283652, 0.3226478, 0.3220968, 0.3220155, 0.32193196, 0.3215318, 0.32100788, 0.32085574, 0.32084537, 0.32080394, 0.32023686, 0.32018566, 0.32008618, 0.31988752, 0.3196896, 0.31958288, 0.31937408, 0.3192798, 0.3191641, 0.3184317, 0.31787387, 0.3167956, 0.31654787, 0.31588998, 0.31500885, 0.3140266, 0.31310138, 0.31296676, 0.3129446, 0.31291482, 0.31257543, 0.31208798, 0.31147715, 0.30963594, 0.30935937, 0.3077009, 0.30701876, 0.30669582, 0.30635652, 0.30482924, 0.30418473, 0.30252182, 0.30163813, 0.3014282, 0.30117005, 0.30069727, 0.29952705, 0.29888988, 0.29608226, 0.29587805, 0.29512423, 0.29244834, 0.29154176, 0.2881403, 0.2830863, 0.277057, 0.27638736, 0.27108437, 0.26158267, 0.24490872, 0.24300951]\n"
     ]
    }
   ],
   "source": [
    "query = \"What is the current world record for a beer can pyramid?\"\n",
    "D, I = top_k_chunks(query, k=1000)\n",
    "\n",
    "scores = []\n",
    "emb_query = query_encoder.encode([query])\n",
    "for idx in I[0]:\n",
    "    emb= query_encoder.encode([chunks[idx]])\n",
    "    score = np.dot(emb_query.flatten(), emb.flatten())\n",
    "    scores.append(score)\n",
    "\n",
    "print(list(reversed(list(sorted(scores)))))"
   ]
  },
  {
   "cell_type": "code",
   "execution_count": null,
   "metadata": {},
   "outputs": [],
   "source": []
  }
 ],
 "metadata": {
  "kernelspec": {
   "display_name": "huggingface",
   "language": "python",
   "name": "python3"
  },
  "language_info": {
   "codemirror_mode": {
    "name": "ipython",
    "version": 3
   },
   "file_extension": ".py",
   "mimetype": "text/x-python",
   "name": "python",
   "nbconvert_exporter": "python",
   "pygments_lexer": "ipython3",
   "version": "3.12.2"
  }
 },
 "nbformat": 4,
 "nbformat_minor": 2
}
