{
 "cells": [
  {
   "cell_type": "markdown",
   "metadata": {},
   "source": [
    "## Load \"Vector DB\" and run RAG query on pre-trained instruct LLM\n",
    "Simply appends retrieved chunks to query. No fancy pipeline steps or dedicated Vector DB."
   ]
  },
  {
   "cell_type": "code",
   "execution_count": 1,
   "metadata": {},
   "outputs": [
    {
     "name": "stdout",
     "output_type": "stream",
     "text": [
      "🦥 Unsloth: Will patch your computer to enable 2x faster free finetuning.\n"
     ]
    }
   ],
   "source": [
    "import gc\n",
    "import os\n",
    "import pickle\n",
    "import sys\n",
    "from threading import Thread\n",
    "import time\n",
    "from unsloth import FastLanguageModel\n",
    "\n",
    "import faiss\n",
    "from sentence_transformers import SentenceTransformer, util\n",
    "import torch\n",
    "from transformers import (\n",
    "    AutoTokenizer,\n",
    "    AutoModelForCausalLM,\n",
    "    TextIteratorStreamer,\n",
    "    TextStreamer,\n",
    "    set_seed,\n",
    ")\n",
    "\n",
    "set_seed(1234)"
   ]
  },
  {
   "cell_type": "markdown",
   "metadata": {},
   "source": [
    "### Load chunk contents and embedding index\n",
    "* TIL that WSL2 only has 50% of the system RAM by default. I had to increase it via `.wslconfig` so we can load both the search index and the raw chunks"
   ]
  },
  {
   "cell_type": "code",
   "execution_count": 2,
   "metadata": {},
   "outputs": [
    {
     "data": {
      "text/plain": [
       "60"
      ]
     },
     "execution_count": 2,
     "metadata": {},
     "output_type": "execute_result"
    }
   ],
   "source": [
    "# TODO: Database for chunks\n",
    "# index = faiss.read_index(\"wikipedia-en.index\")\n",
    "index = faiss.read_index(\"wikipedia-en-simplifying.index\")\n",
    "gc.collect()"
   ]
  },
  {
   "cell_type": "code",
   "execution_count": 3,
   "metadata": {},
   "outputs": [
    {
     "name": "stdout",
     "output_type": "stream",
     "text": [
      "Reading in Chunks\n",
      "xxxxxxxxxxxxxxxxxxxxxxxxxxxxxxxxxxxxxxxxx"
     ]
    }
   ],
   "source": [
    "chunks = []    \n",
    "embeddings_path = '/home/stefanwebb/embeddings/wikimedia/wikipedia/20231101.en'\n",
    "files = [f\"train-{idx:05d}-of-00041.parquet\" for idx in range(41)]\n",
    "\n",
    "print(\"Reading in Chunks\")\n",
    "for idx in range(len(files)):\n",
    "    print(f\"x\", end=\"\")\n",
    "    chunks_file = os.path.join(embeddings_path, f'chunks-{idx:05d}-of-00041.pkl')\n",
    "    with open(chunks_file, 'rb') as f:\n",
    "        chunks.extend(pickle.load(f))\n",
    "    gc.collect()"
   ]
  },
  {
   "cell_type": "code",
   "execution_count": 4,
   "metadata": {},
   "outputs": [
    {
     "data": {
      "text/plain": [
       "(49522046, 49522046)"
      ]
     },
     "execution_count": 4,
     "metadata": {},
     "output_type": "execute_result"
    }
   ],
   "source": [
    "index.ntotal, len(chunks)"
   ]
  },
  {
   "cell_type": "code",
   "execution_count": 5,
   "metadata": {},
   "outputs": [],
   "source": [
    "# NOTE: Following code doesn't seem to get size of all objects references by these\n",
    "# sys.getsizeof(index) / 10**9, sys.getsizeof(chunks) / 10**9"
   ]
  },
  {
   "cell_type": "markdown",
   "metadata": {},
   "source": [
    "### Load LLM to run queries"
   ]
  },
  {
   "cell_type": "code",
   "execution_count": 6,
   "metadata": {},
   "outputs": [
    {
     "name": "stdout",
     "output_type": "stream",
     "text": [
      "==((====))==  Unsloth 2024.8: Fast Mistral patching. Transformers = 4.43.4.\n",
      "   \\\\   /|    GPU: NVIDIA GeForce RTX 4090. Max memory: 23.988 GB. Platform = Linux.\n",
      "O^O/ \\_/ \\    Pytorch: 2.5.0.dev20240829+cu124. CUDA = 8.9. CUDA Toolkit = 12.4.\n",
      "\\        /    Bfloat16 = TRUE. FA [Xformers = 0.0.28+d444815.d20240829. FA2 = True]\n",
      " \"-____-\"     Free Apache license: http://github.com/unslothai/unsloth\n"
     ]
    },
    {
     "name": "stderr",
     "output_type": "stream",
     "text": [
      "<string>:209: SyntaxWarning: invalid escape sequence '\\ '\n",
      "<string>:210: SyntaxWarning: invalid escape sequence '\\_'\n",
      "<string>:211: SyntaxWarning: invalid escape sequence '\\ '\n",
      "<string>:209: SyntaxWarning: invalid escape sequence '\\ '\n",
      "<string>:210: SyntaxWarning: invalid escape sequence '\\_'\n",
      "<string>:211: SyntaxWarning: invalid escape sequence '\\ '\n"
     ]
    }
   ],
   "source": [
    "# query_model = \"google/gemma-2b-it\"\n",
    "query_model = \"/home/stefanwebb/models/llms/Mistral-7B-Instruct-v0.3\"\n",
    "\n",
    "max_seq_length = 2048\n",
    "dtype = None\n",
    "load_in_4bit = True\n",
    "model, tokenizer = FastLanguageModel.from_pretrained(\n",
    "    model_name = \"/home/stefanwebb/models/llms/mistral-7b-instruct-v0.3-bnb-4bit\",\n",
    "    max_seq_length = max_seq_length,\n",
    "    dtype = dtype,\n",
    "    load_in_4bit = load_in_4bit,\n",
    ")"
   ]
  },
  {
   "cell_type": "markdown",
   "metadata": {},
   "source": [
    "### Construct RAG Query and Run"
   ]
  },
  {
   "cell_type": "code",
   "execution_count": 7,
   "metadata": {},
   "outputs": [
    {
     "data": {
      "text/plain": [
       "MistralForCausalLM(\n",
       "  (model): MistralModel(\n",
       "    (embed_tokens): Embedding(32768, 4096)\n",
       "    (layers): ModuleList(\n",
       "      (0-31): 32 x MistralDecoderLayer(\n",
       "        (self_attn): MistralAttention(\n",
       "          (q_proj): Linear4bit(in_features=4096, out_features=4096, bias=False)\n",
       "          (k_proj): Linear4bit(in_features=4096, out_features=1024, bias=False)\n",
       "          (v_proj): Linear4bit(in_features=4096, out_features=1024, bias=False)\n",
       "          (o_proj): Linear4bit(in_features=4096, out_features=4096, bias=False)\n",
       "          (rotary_emb): LlamaRotaryEmbedding()\n",
       "        )\n",
       "        (mlp): MistralMLP(\n",
       "          (gate_proj): Linear4bit(in_features=4096, out_features=14336, bias=False)\n",
       "          (up_proj): Linear4bit(in_features=4096, out_features=14336, bias=False)\n",
       "          (down_proj): Linear4bit(in_features=14336, out_features=4096, bias=False)\n",
       "          (act_fn): SiLU()\n",
       "        )\n",
       "        (input_layernorm): MistralRMSNorm()\n",
       "        (post_attention_layernorm): MistralRMSNorm()\n",
       "      )\n",
       "    )\n",
       "    (norm): MistralRMSNorm()\n",
       "  )\n",
       "  (lm_head): Linear(in_features=4096, out_features=32768, bias=False)\n",
       ")"
      ]
     },
     "execution_count": 7,
     "metadata": {},
     "output_type": "execute_result"
    }
   ],
   "source": [
    "FastLanguageModel.for_inference(model)"
   ]
  },
  {
   "cell_type": "code",
   "execution_count": 8,
   "metadata": {},
   "outputs": [],
   "source": [
    "def run_query_streamed(query, query_model):\n",
    "    system_prompt = \"You are a helpful assistant who answers question truthfully to the best of your knowledge. You decline to answer if you do not know the answer.\"\n",
    "\n",
    "    chat = [\n",
    "        {\n",
    "            \"role\": \"system\",\n",
    "            \"content\": system_prompt,\n",
    "        },\n",
    "        \n",
    "        {\n",
    "\n",
    "            \"role\": \"user\",\n",
    "            \"content\": f\"{query}\",\n",
    "        },\n",
    "    ]\n",
    "\n",
    "    formatted_prompt = tokenizer.apply_chat_template(\n",
    "        chat, tokenize=False, add_generation_prompt=True, return_tensors=\"pt\"\n",
    "    )\n",
    "    inputs = tokenizer(formatted_prompt, return_tensors=\"pt\").to(\"cuda\")\n",
    "\n",
    "    streamer = TextStreamer(\n",
    "        tokenizer, skip_prompt=True, skip_special_tokens=True\n",
    "    )\n",
    "\n",
    "    _ = model.generate(**inputs, streamer=streamer, max_new_tokens=512)"
   ]
  },
  {
   "cell_type": "code",
   "execution_count": 9,
   "metadata": {},
   "outputs": [],
   "source": [
    "query_encoder = SentenceTransformer(\"/home/stefanwebb/models/llms/multi-qa-MiniLM-L6-cos-v1\")"
   ]
  },
  {
   "cell_type": "code",
   "execution_count": 10,
   "metadata": {},
   "outputs": [],
   "source": [
    "import numpy as np"
   ]
  },
  {
   "cell_type": "code",
   "execution_count": 33,
   "metadata": {},
   "outputs": [],
   "source": [
    "def top_k_chunks(query: str, k=1) -> str:\n",
    "    \"\"\"\n",
    "    Find closest chunk for a given query.\n",
    "    \"\"\"\n",
    "    embeddings = query_encoder.encode([query])\n",
    "    # embeddings = embeddings / np.linalg.norm(embeddings)\n",
    "    D, I = index.search(embeddings, k, params = faiss.SearchParametersIVF(nprobe=100))\n",
    "    return D, I\n",
    "\n",
    "\n",
    "def run_rag_query_streamed(query, query_model, k=3):\n",
    "    # Retrieve most similar chunks\n",
    "    D, I = top_k_chunks(query, k=k)\n",
    "    # formatted_chunks = '\\n\\n'.join([\"Document: \" + chunks[i] for i in I[0]])\n",
    "    formatted_chunks = ' '.join([chunks[i] for i in I[0]])\n",
    "    \n",
    "    # rag_query = f\"Answer the query below and ground your answer in facts contained in the documents below:\\n\\nQuery: {query}\\n\\n{formatted_chunks}\"\n",
    "\n",
    "    rag_query = f\"{formatted_chunks}\\n\\nAnswer the following question: {query}\"\n",
    "\n",
    "    # DEBUG\n",
    "    # print(rag_query)\n",
    "    # print(\"\\n\")\n",
    "\n",
    "    run_query_streamed(rag_query, query_model)\n",
    "\n",
    "    # for i, d in zip(I[0], D[0]):\n",
    "    #     print(d, chunks[i])\n",
    "    #     print(\"\")"
   ]
  },
  {
   "cell_type": "markdown",
   "metadata": {},
   "source": [
    "### Debug Examples\n",
    "Compare answers to questions, with and without context from most similar document chunks."
   ]
  },
  {
   "cell_type": "code",
   "execution_count": 34,
   "metadata": {},
   "outputs": [
    {
     "name": "stdout",
     "output_type": "stream",
     "text": [
      "Mistral-7B-Instruct-v0.3\n",
      "Abraham Lincoln grew a beard primarily for practical reasons. In the mid-19th century, beards were common among men, but Lincoln did not have a beard during his first term as a U.S. Representative. After losing the Senate race in 1858, he grew a beard as a way to differentiate himself from his opponents in his presidential campaign in 1860. The beard also helped to hide a condition he had called \"tuberculosis laryngitis,\" which caused his voice to be weak and hoarse. Additionally, the beard may have helped to make him appear more mature and serious, which could have been beneficial in a time of national crisis.\n",
      "\n",
      "Mistral-7B-Instruct-v0.3 + RAG\n",
      "Abraham Lincoln grew a beard in response to a written request from an 11-year-old girl named Grace Bedell. She suggested that he grow a beard to improve his appearance, and he complied with her request a few weeks before he was elected president in 1860. Lincoln met Grace Bedell in person in 1861, and he had a full beard by that time.\n",
      "\n"
     ]
    }
   ],
   "source": [
    "query = \"Why did Abraham Lincoln grow a beard?\"\n",
    "\n",
    "print(\"Mistral-7B-Instruct-v0.3\")\n",
    "run_query_streamed(query, model)\n",
    "print()\n",
    "\n",
    "print(\"Mistral-7B-Instruct-v0.3 + RAG\")\n",
    "run_rag_query_streamed(query, model)\n",
    "print()"
   ]
  },
  {
   "cell_type": "code",
   "execution_count": 13,
   "metadata": {},
   "outputs": [
    {
     "name": "stdout",
     "output_type": "stream",
     "text": [
      "[CLS] abraham lincoln lincoln, abraham lincoln, abraham [SEP] [CLS] abraham lincoln lincoln, abraham lincoln, abraham [SEP] [CLS] abraham lincoln ( 1861 – 1865 ) [SEP] [CLS] abraham lincoln may also refer to : [SEP] [CLS] presidency of abraham lincoln ( 1861 - 1865 ) [SEP] [CLS] thomas lincoln ( 1778 – 1851 ) was the father of abraham lincoln. [SEP] [CLS] presidency of abraham lincoln ( 1861 – 1865 ) [SEP] [CLS] lincoln, abraham lincoln, abraham outlines [SEP] [CLS] abraham lincoln early lives of the presidents of the united states [SEP] [CLS] presidency of abraham lincoln abraham lincoln - related lists [SEP] [CLS] abraham lincoln ( 1809 – 1865 ) was the president of the united states from 1861 to 1865. [SEP] [CLS] people of power : abraham lincoln [SEP] [CLS] abraham lincoln ( ; february 12, 1809 – april 15, 1865 ) was an american lawyer, politician, and statesman who served as the 16th president of the united states from 1861 until his assassination in 1865. lincoln led the union through the american civil war to defend the nation as a constitutional union and succeeded in defeating the insurgent confederacy, abolishing slavery, expanding the power of the federal government, and modernizing the u. s. economy. [SEP] [CLS] religion lincoln, abraham lincoln, abraham [SEP] [CLS] historiography of the united states abraham lincoln [SEP] [CLS] abraham lincoln ( r ) administration ( 1861 – 1865 ) [SEP] [CLS] inauguration of abraham lincoln may refer to : [SEP] [CLS] see also early life and career of abraham lincoln [SEP] [CLS] see also early life and career of abraham lincoln [SEP] [CLS] see also abraham lincoln on slavery [SEP] [CLS] civilians note : abraham lincoln has a section dedicated to him below. [SEP] [CLS] see also abraham lincoln abraham lincoln assassination lincoln's birthday [SEP] [CLS] abraham lincoln's notable speeches [SEP] [CLS] abraham lincoln ( may 13, 1744 – may 19, 1786 ) was the paternal grandfather of the 16th u. s. president, abraham lincoln. lincoln was a military captain during the american revolution, and a pioneer settler of kentucky. some historical sources attest his last name as linkhorn, although neither abraham nor his children ever signed themselves as such. [SEP] [CLS] abraham lincoln ( 1809 – 1865 ) was a lawyer, politician and the 16th president of the united states from 1861 to 1865. he was born in a one - room log cabin on sinking spring farm near hodgenville, kentucky, to thomas lincoln and nancy hanks. he married mary ann todd and had four children : robert, edward, willie, and tad. [SEP] [CLS] he was a \" staunch supporter of the union cause and rendered much service to abraham lincoln by making speeches and by his writings in 1860 \" and after. [SEP] [CLS] abraham lincoln filene ( april 5, 1865 – august 27, 1957 ) was an american businessman and philanthropist. [SEP] [CLS] abraham lincoln 1908 establishments in the united states historians of abraham lincoln [SEP] [CLS] note : levi lincoln sr. was also distantly related to u. s. president abraham lincoln. [SEP] [CLS] see also abraham lincoln and slavery [SEP] [CLS] abraham lincoln the ancient one, a nickname favored by white house insiders because of his \" ancient wisdom \". the great emancipator and the liberator for the emancipation of the slaves. honest abe the rail - splitter the tycoon, for the energetic and ambitious conduct of his civil war administration. uncle abe for his avuncularity in his later years. [SEP] [CLS] abraham lincoln : a history is an 1890 ten - volume account of the life and times of abraham lincoln, written by john nicolay and john hay, who were his personal secretaries during the american civil war. [SEP] [CLS] he was a former president of the abraham lincoln association and former chairman of the lincoln legal papers research project. [SEP] [CLS] note : robert todd lincoln was also son of u. s. president abraham lincoln. [SEP] [CLS] see also assassination of abraham lincoln [SEP] [CLS] mary \" mamie \" lincoln ( october 15, 1869 – november 21, 1938 ) abraham lincoln ii ( nicknamed \" jack \" ; august 14, 1873 – march 5, 1890 ) jessie harlan lincoln ( november 6, 1875 – january 4, 1948 ). [SEP] [CLS] assassination of abraham lincoln lincoln, abraham lincoln, abraham 1865 in illinois lincoln, abraham [SEP] [CLS] abraham lincoln spradling ( june 19, 1885 – may 22, 1970 ) was an american labor union leader. [SEP] [CLS] bellew's november 26, 1864, harper's weekly caricature of abraham lincoln, \" long abraham lincoln a little longer, \" exaggerating the height and thinness of the president to absurd extremes, was popular. [SEP] [CLS] people abraham lincoln ( captain ) ( 1744 – 1786 ), grandfather of president lincoln abe lincoln ( musician ) ( 1907 – 2000 ), american dixieland jazz trombonist [SEP] [CLS] abraham lincoln is a 2 - volume biography of abraham lincoln written by john torrey morse ( 1840 - 1937 ). [SEP] [CLS] name the name lincoln was chosen as a tribute to the recently assassinated abraham lincoln, 16th president of the united states ( 1861 to 1865 ), and enactor of the emancipation proclamation. [SEP] [CLS] his 1960 work the real abraham lincoln was called \" meticulous \" still in 1978 by historian and lincoln - expert james a. rawley. [SEP] [CLS] it was also notably employed in a speech by abraham lincoln before he became the sixteenth president of the united states. [SEP] [CLS] name when the partido was founded in 1865, the name lincoln was chosen as a tribute to the recently assassinated abraham lincoln, 16th president of the united states ( 1861 to 1865 ), and enactor of the emancipation proclamation. [SEP] [CLS] abe lincoln in illinois ( 1940 ) [SEP] [CLS] abraham lincoln16th president of the united states, serving from march 4, 1861, until his assassination in april 1865. lincoln led the united states through its civil war — its bloodiest war and its greatest moral, constitutional, and political crisis. in doing so, he preserved the union, abolished slavery, strengthened the federal government, and modernized the economy. [SEP] [CLS] in 1866, he was chosen by congress to deliver the special eulogy on lincoln. [SEP] [CLS] abraham lincoln is an 1869 oil - on - canvas painting by george peter alexander healy of abraham lincoln, the 16th president of the united states. [SEP] [CLS] joseph hanks was the great - grandfather of abraham lincoln. [SEP] [CLS] people with the given name lincoln [SEP] [CLS] offices held by abraham lincoln prior to his presidency [SEP] [CLS] first inauguration of abraham lincoln, 1861 second inauguration of abraham lincoln, 1865 [SEP] [CLS] abraham lincoln is a biography written and illustrated by ingri and edgar parin d'aulaire about abraham lincoln. originally published by doubleday, it was the recipient of the caldecott medal for illustration in 1940. [SEP] [CLS] see also gettysburg address abraham lincoln [SEP] [CLS] michael marra has an interest in the history and writings of abraham lincoln. [SEP] [CLS] lincoln township has the name of president abraham lincoln. [SEP] [CLS] lincoln township has the name of president abraham lincoln. [SEP] [CLS] eo : brigado abraham lincoln fr : brigade abraham lincoln pl : brygada im. abrahama lincolna ru : xv интербригада имени авраама линкольна sl : 15. mednarodna brigada » lincoln « fi : abraham lincolnin prikaati [SEP] [CLS] thomas lincoln ( january 6, 1778 – january 17, 1851 ) was an american farmer, carpenter, and father of the 16th president of the united states, abraham lincoln. unlike some of his ancestors, thomas could not write. he struggled to make a successful living for his family and faced difficult challenges in kentucky real estate boundary and title disputes, the early death of his first wife, and the integration of his second wife's family into his own family, before making his final home in illinois. [SEP] [CLS] edward baker lincoln ( march 10, 1846 – february 1, 1850 ) was the second son of abraham lincoln and mary todd lincoln. he was named after lincoln's close friend, edward dickinson baker. both abraham and mary spelled his name \" eddy \" ; however, the national park service uses \" eddie \" as a nickname and the nickname also appears spelled this way on his crypt at the lincoln tomb. [SEP] [CLS] abraham lincoln lincoln, abraham fringe theories [SEP] [CLS] abraham lincoln abraham lincoln ( voiced by will forte ) is the 16th president of the united states and a master builder who rides in a rocket version of his armchair with a footrest that is similar to the one seen in the statue of him. [SEP] [CLS] additional references mrlincolnswhitehouse. org david rankin barbee, \" president lincoln and doctor gurley \", the abraham lincoln quarterly, march 1948, volume. v, no. 1. allen c. guelzo, abraham lincoln : redeemer president, p. 321. dewitt jones, lincoln and the preachers, p. 37. [SEP] [CLS] of particular historical relevance is the mosaic portrait of president abraham lincoln, which can be viewed today in the senate house rooms in the united states, produced by compagnia venezia murano and donated by antonio salviati in 1866. [SEP] [CLS] gienapp, william a. abraham lincoln and civil war america. ( 2002 ) [SEP] [CLS] earl of lincoln ( first creation ) [SEP] [CLS] mark e. neely jr. ( born november 10, 1944, in amarillo, texas ) is an american historian best known as an authority on the u. s. civil war in general and abraham lincoln in particular. [SEP] [CLS] see also abraham lincoln and slavery the lincoln hunters [SEP] [CLS] the 16th president of the united states who abolished slavery following the american civil war. when attending a show at the ford theatre, he was assassinated by john wilkes booth. in \" mitefall! \", the abraham lincoln from parallel universe 5501 is saved from assassination by a multiverse - hopping batman. when john wilkes booth activated his steam - powered armor, abraham lincoln helped batman defeat him. [SEP] [CLS] abraham lincoln, the 16th president of the united states from 1861 to 1865, has been memorialized in many town, city, and county names, along with george washington, he is an iconic image of american democracy and american nationalism. [SEP] [CLS] see also abraham lincoln and religion [SEP] [CLS] joseph jackson lewis ( october 5, 1801 – april 5, 1883 ) was an american lawyer, civil servant, and author who published the first biography of abraham lincoln and served president lincoln as the second u. s. commissioner of internal revenue from march 1863 to july 1865. he was also a leading pennsylvania republican who represented antislavery figures in court. [SEP] [CLS] miller is a very distant relative of us president abraham lincoln. [SEP] [CLS] this is the electoral history of abraham lincoln. lincoln served one term in the united states house of representatives from illinois ( 1847 – 1849 ). he later served as the 16th president of the united states ( 1861 – 1865 ). [SEP] [CLS] reinhard henry luthin ( january 26, 1905 – november 24, 1962 ) was a historian best known for his contribution to the study of president abraham lincoln. he was a professor of history at columbia university, with a lifelong interest in facts regarding lincoln's life and times. [SEP] [CLS] he wrote a request for supplies to u. s. president abraham lincoln. [SEP] [CLS] in 1861, abraham lincoln touched upon the same subject, during his first inaugural address : [SEP] [CLS] in addition, bush - brown made a bust of abraham lincoln, dedicated in 1912 as part of the lincoln speech memorial commemorating lincoln's gettysburg address. [SEP] [CLS] he was born in hardin county, kentucky, near the same area where abraham lincoln was born. in 1830, he went to st. louis and from there to springfield, illinois, where in 1832 he was a partner of abraham lincoln in flatboating on the sangamon river. he also fought in the black hawk war in illinois where he was a lieutenant and abraham lincoln was a private under his command. they were mustered into service by then lt. robert anderson of later fame as major robert anderson in command of fort sumter at start of civil war. lincoln became a surveyor for sangamon county and glasscock was a surveyor in texas but it is not known if the two learned their surveyor skills together. george's sister stayed in illinois and married a friend of lincoln's law partner, herndon. his sister's husband is quoted as saying he had received a letter from george in 1865 and that he stated lincoln had pardoned him. [SEP] [CLS] abraham lincoln owned an identical barouche while he was president of the united states. [SEP] [CLS] lincoln r. long ( february 3, 1861 – may 11, 1927 ) was an american teacher, principal, methodist minister, and politician from new york. [SEP] [CLS] lincoln the unknown is a biography of abraham lincoln, written in 1932 by dale carnegie. it is published by dale carnegie and associates, and given out as a prize in the dale carnegie course. [SEP] [CLS] in 1858, abraham lincoln gave a speech in clinton to which the following quotation has been attributed : [SEP] [CLS] lincoln ( disambiguation ) [SEP] [CLS] sources cited gienapp, william a. abraham lincoln and civil war america. ( 2002 ) holzer, harold. lincoln president - elect : abraham lincoln and the great secession winter, 1860 - 1861. ( 2008 ) [SEP] [CLS] history mordecai lincoln was with his father captain abraham lincoln when he was shot by an indian. mordecai rescued his younger brother thomas, by shooting an indian reaching for him. thomas became the father of abraham lincoln, the future president. [SEP] [CLS] earl of lincoln ( second creation ) [SEP] [CLS] earl of lincoln ( second creation ) [SEP] [CLS] see also abe ( given name ) abraham ( given name ) abraham lincoln high school ( disambiguation ) lincoln ( name ) [SEP] [CLS] see also list of photographs of abraham lincoln [SEP] [CLS] see also list of photographs of abraham lincoln [SEP] [CLS] see also list of photographs of abraham lincoln [SEP] [CLS] see also list of photographs of abraham lincoln [SEP] [CLS] abraham lincoln brick ( may 27, 1860 – april 7, 1908 ) was an american attorney and politician. he served five terms in the united states house of representatives from 1899 until his death in 1908. [SEP] [CLS] other uses the tycoon, a nickname for abraham lincoln, the 16th president of united states [SEP] [CLS] he became a very close friend of future president of the united states abraham lincoln. as an expert shorthand writer, hitt served as a note - taker for lincoln during the famous lincoln – douglas debates of 1858. [SEP] [CLS] in early spring of 1860 and shortly before his death in april 1865, two life masks were created of president abraham lincoln. [SEP] [CLS] external links the first published life of abraham lincoln [SEP] [CLS] there are 130 known photographs of abraham lincoln. [SEP]\n"
     ]
    }
   ],
   "source": [
    "query = \"Who was Abraham Lincoln?\"\n",
    "D, I = top_k_chunks(query, k=100)\n",
    "formatted_chunks = ' '.join([chunks[i] for i in I[0]])\n",
    "print(formatted_chunks)"
   ]
  },
  {
   "cell_type": "code",
   "execution_count": 14,
   "metadata": {},
   "outputs": [
    {
     "name": "stdout",
     "output_type": "stream",
     "text": [
      "Mistral-7B-Instruct-v0.3\n",
      "Abraham Lincoln was the 16th President of the United States, serving from 1861 until his assassination in 1865. He is best known for leading the nation during the American Civil War and for his role in the abolition of slavery. Lincoln was born in a log cabin in Kentucky in 1809 and grew up in Indiana and Illinois. He began his political career as a Whig, but later joined the newly formed Republican Party. Lincoln is often regarded as one of the greatest U.S. presidents and is remembered for his leadership during a time of great national crisis. He was assassinated by John Wilkes Booth at Ford's Theatre in Washington, D.C. on April 14, 1865.\n",
      "\n",
      "Mistral-7B-Instruct-v0.3 + RAG\n",
      "Abraham Lincoln was an American lawyer, politician, and statesman who served as the 16th president of the United States from 1861 to 1865. He was born on February 12, 1809, in a one-room log cabin near Hodgenville, Kentucky, to Thomas Lincoln and Nancy Hanks. Lincoln led the Union through the American Civil War to defend the nation as a constitutional union and succeeded in defeating the insurgent Confederacy, abolishing slavery, expanding the power of the federal government, and modernizing the U.S. economy. He was assassinated on April 15, 1865.\n",
      "\n"
     ]
    }
   ],
   "source": [
    "query = \"Who was Abraham Lincoln?\"\n",
    "\n",
    "print(\"Mistral-7B-Instruct-v0.3\")\n",
    "run_query_streamed(query, model)\n",
    "print()\n",
    "\n",
    "print(\"Mistral-7B-Instruct-v0.3 + RAG\")\n",
    "run_rag_query_streamed(query, model, k=32)\n",
    "print()"
   ]
  },
  {
   "cell_type": "code",
   "execution_count": 44,
   "metadata": {},
   "outputs": [
    {
     "name": "stdout",
     "output_type": "stream",
     "text": [
      "Mistral-7B-Instruct-v0.3\n",
      "Yes, Abraham Lincoln grew a beard during his presidency. He is often depicted with a beard in images and is known for it. Before his presidency, he did not have a beard.\n",
      "\n",
      "Mistral-7B-Instruct-v0.3 + RAG\n",
      "Yes, Abraham Lincoln grew a beard after being elected president in response to a request from an 11-year-old girl named Grace Bedell. He is known for being the first president to have any facial hair beyond sideburns.\n",
      "\n"
     ]
    }
   ],
   "source": [
    "query = \"Did Abraham Lincoln have a beard?\"\n",
    "\n",
    "print(\"Mistral-7B-Instruct-v0.3\")\n",
    "run_query_streamed(query, model)\n",
    "print()\n",
    "\n",
    "print(\"Mistral-7B-Instruct-v0.3 + RAG\")\n",
    "run_rag_query_streamed(query, model, k=32)\n",
    "print()"
   ]
  },
  {
   "cell_type": "code",
   "execution_count": 16,
   "metadata": {},
   "outputs": [
    {
     "name": "stdout",
     "output_type": "stream",
     "text": [
      "Mistral-7B-Instruct-v0.3\n",
      "Glacier caves, also known as moulins or ice caves, are formed in glaciers due to the melting of ice. Here's a simplified explanation of the process:\n",
      "\n",
      "1. Meltwater: As snow accumulates on a glacier, it eventually turns into ice. Over time, this ice melts due to various factors like geothermal heat, precipitation, and air temperature. This meltwater collects in crevasses and other low spots within the glacier.\n",
      "\n",
      "2. Enlargement of crevasses: The meltwater continues to flow, enlarging the crevasses. As the crevasse deepens, it may eventually connect with the surface of the glacier, forming a vertical shaft known as a moulin.\n",
      "\n",
      "3. Drainage: The meltwater drains into the underlying rock or bedrock, carving out a tunnel or cave-like structure. This process continues as long as the conditions (temperature, precipitation, etc.) allow for melting and drainage.\n",
      "\n",
      "4. Collapse: Over time, the roof of the cave may become too thin to support itself, causing it to collapse. This can create a large, open cavity within the glacier.\n",
      "\n",
      "5. Exposure: If the glacier retreats or melts away, the cave may be exposed to the surface, allowing people to explore it. However, these caves are dangerous and should only be entered by experienced climbers and cavers.\n",
      "\n",
      "Mistral-7B-Instruct-v0.3 + RAG\n",
      "Glacier caves are formed by melting ice and flowing water within and under glaciers. This process is often initiated by water running through or under the glacier, which originates on the glacier's surface through melting, enters the ice at a moulin, and exits at the glacier's snout at base level. Heat transfer from the water can cause sufficient melting to create an air-filled cavity, sometimes aided by solifluction. Air movement can then assist enlargement through melting in summer and sublimation in winter.\n",
      "\n"
     ]
    }
   ],
   "source": [
    "query = \"How are glacier caves formed?\"\n",
    "\n",
    "print(\"Mistral-7B-Instruct-v0.3\")\n",
    "run_query_streamed(query, model)\n",
    "print()\n",
    "\n",
    "print(\"Mistral-7B-Instruct-v0.3 + RAG\")\n",
    "run_rag_query_streamed(query, model)\n",
    "print()"
   ]
  },
  {
   "cell_type": "code",
   "execution_count": 18,
   "metadata": {},
   "outputs": [
    {
     "name": "stdout",
     "output_type": "stream",
     "text": [
      "Mistral-7B-Instruct-v0.3\n",
      "A beer can pyramid, also known as a can pyramid or a can sculpture, is a structure made by stacking beer cans in a specific pattern to create a pyramid shape. This is often done as a fun and creative activity, and the stability of the structure depends on the number of cans used and the arrangement of the cans in the pyramid. The cans are usually empty, but some people use full cans to create a more stable structure. It's important to note that this activity should be done responsibly and safely, and the cans should be disposed of properly after the pyramid is complete.\n",
      "\n",
      "Mistral-7B-Instruct-v0.3 + RAG\n",
      "A beer can pyramid, often referred to as a beeramid, is a pyramid structure made from discarded beer cans. It is built as empty beer cans become available, and it grows gradually as the night, week, or month wears on. Typically, beeramids are temporary structures, either cleaned up or knocked over eventually.\n",
      "\n"
     ]
    }
   ],
   "source": [
    "query = \"What is a beer can pyramid?\"\n",
    "\n",
    "print(\"Mistral-7B-Instruct-v0.3\")\n",
    "run_query_streamed(query, model)\n",
    "print()\n",
    "\n",
    "print(\"Mistral-7B-Instruct-v0.3 + RAG\")\n",
    "run_rag_query_streamed(query, model)\n",
    "print()"
   ]
  },
  {
   "cell_type": "code",
   "execution_count": 19,
   "metadata": {},
   "outputs": [
    {
     "name": "stdout",
     "output_type": "stream",
     "text": [
      "[CLS] a beer can pyramid, often called a beeramid as a portmanteau, is a pyramid made from discarded beer cans. beer can pyramids are built as empty beer cans became available, slowly growing as the night ( or week or month ) wears on. in most cases, though, they are temporary structures, eventually being cleaned up or accidentally knocked over. [SEP] [CLS] beeramid may refer to : beer can pyramid, a pyramid made of empty cans of beer beeramid ( comic ), a comic in the daily cardinal, a student newspaper for uw - madison [SEP] [CLS] another attempt to break the world record beer can pyramid was made with beer cans over 5 metres high and contained 10, 660 cans. it was built by the melbourne university student union in 2005, and was featured on blokesworld and in mx. [SEP] [CLS] beers pyramid once featured beers including, ales, lager, weizens, ciders, porters, and ipas. nowadays, pyramid offers six year - round beers, including hefeweizen, apricot ale, thunderhead ipa and outburst imperial ipa. pyramid also offers seasonal beers, including curve ball blonde ale, oktoberfest and snow cap winter warmer, along with seasonal variety packs and limited release beers. [SEP] [CLS] one beer may refer to : [SEP] [CLS] see also beer ( disambiguation ) [SEP] [CLS] a simple code example can be seen on the 99 bottles of beer website. [SEP] [CLS] free beer may refer to : [SEP] [CLS] in the 1970s, it became a gathering spot for beer can collectors. a customer could ask that the can be opened from the bottom, enhancing its value as a collector's item. [SEP] [CLS] beer may also refer to : [SEP]\n"
     ]
    }
   ],
   "source": [
    "query = \"What is a beer can pyramid?\"\n",
    "D, I = top_k_chunks(query, k=10)\n",
    "formatted_chunks = ' '.join([chunks[i] for i in I[0]])\n",
    "print(formatted_chunks)"
   ]
  },
  {
   "cell_type": "code",
   "execution_count": 36,
   "metadata": {},
   "outputs": [
    {
     "name": "stdout",
     "output_type": "stream",
     "text": [
      "Mistral-7B-Instruct-v0.3\n",
      "As of my last update, the world record for the largest beer can pyramid was set by the University of Wisconsin-La Crosse Eagle's Nest Co-ed Fraternity and Sorority Life on March 23, 2019. They stacked 10,000 cans to create a pyramid that was 11.5 meters tall and 7.6 meters wide. This record was verified by Guinness World Records. However, records can change over time, so it's always a good idea to check the latest records from a reliable source.\n",
      "\n",
      "Mistral-7B-Instruct-v0.3 + RAG\n",
      "The current world record for a beer can pyramid, as of September 2000, is 9,455 cans, built by a team of 12 college students from the INTI College Subang Jaya, Malaysia, in 24 minutes at the Mid Valley Megamall in Kuala Lumpur, Malaysia. This record has yet to be broken, according to the information provided.\n",
      "\n"
     ]
    }
   ],
   "source": [
    "query = \"What is the current world record for a beer can pyramid?\"\n",
    "\n",
    "print(\"Mistral-7B-Instruct-v0.3\")\n",
    "run_query_streamed(query, model)\n",
    "print()\n",
    "\n",
    "print(\"Mistral-7B-Instruct-v0.3 + RAG\")\n",
    "run_rag_query_streamed(query, model)\n",
    "print()"
   ]
  },
  {
   "cell_type": "code",
   "execution_count": 35,
   "metadata": {},
   "outputs": [
    {
     "name": "stdout",
     "output_type": "stream",
     "text": [
      "[CLS] another attempt to break the world record beer can pyramid was made with beer cans over 5 metres high and contained 10, 660 cans. it was built by the melbourne university student union in 2005, and was featured on blokesworld and in mx. [SEP] [CLS] on 23 september 2000, the malaysian can team, consisting of 12 college students from the inti college subang jaya, malaysia built a free standing can pyramid created from 9, 455 empty aluminium drink cans in 24 minutes at the mid valley megamall in kuala lumpur, malaysia. it had a square base of cans, measuring. this feat made a successful entry into the guinness world record and to - date this record has yet to be broken. [SEP] [CLS] a beer can pyramid, often called a beeramid as a portmanteau, is a pyramid made from discarded beer cans. beer can pyramids are built as empty beer cans became available, slowly growing as the night ( or week or month ) wears on. in most cases, though, they are temporary structures, eventually being cleaned up or accidentally knocked over. [SEP]\n"
     ]
    }
   ],
   "source": [
    "query = \"What is the current world record for a beer can pyramid?\"\n",
    "D, I = top_k_chunks(query, k=3)\n",
    "formatted_chunks = ' '.join([chunks[i] for i in I[0]])\n",
    "print(formatted_chunks)"
   ]
  },
  {
   "cell_type": "code",
   "execution_count": 45,
   "metadata": {},
   "outputs": [
    {
     "name": "stdout",
     "output_type": "stream",
     "text": [
      "[CLS] in the couch gag for the simpsons episode \" the bob next door \", harold is shown drawing the simpson family living room during the regular title sequence. homer also asks harold to draw him a can of duff beer after he finishes with the living room. [SEP] [CLS] it was featured in season 13 the simpsons episode \" weekend at burnsie's \" where homer simpson ( after he smokes medicinal marijuana ) gets ready for work and pictures his world as a psychedelic wonderland. [SEP] [CLS] in popular media in the 22nd episode of season 3 of the simpsons, \" the otto show, \" homer simpson pulls a can of billy beer from the pocket of his \" concert - going jacket, \" presumably from the last concert he had attended when he was younger, and drinks the beer. [SEP] [CLS] duff in the simpsons duff is homer simpson's beer of choice. it is a parody of stereotypical mass - market american lager : cheap, poor - quality, and heavily marketed everywhere. [SEP] [CLS] in the eighth episode of season 9 of the simpsons, \" lisa the skeptic, \" homer is hoarding billy beer cans, anticipating that they will rise in value. he drinks one of the beers and says wistfully, \" we elected the wrong carter. \" [SEP] [CLS] the simpsons, season 16, episode seven, \" mommie beerest \", was dedicated to his memory. [SEP] [CLS] see also the simpsons ( season 21 ) [SEP] [CLS] barney can be seen in the simpsons opening credits since 2009, passed out under a pile of leaves ( but still holding his beloved bottle of duff beer ) and being awoken by bart simpson skateboarding over his stomach, causing him to let out his trademark belch. [SEP] [CLS] couch gag this episode's couch gag features an ident commissioned by the uk network channel 4, in 2006 ( though first aired in july 2007 ), for use before its broadcasts of simpsons episodes. the writers added in all - new sections in order to theme the gag around the super bowl which was broadcast near the airing of this episode. in the original ident, homer places his six - pack of duff beer on a hammock in the simpson's backyard. when he sits down, he inadvertently fires the six - pack into the sky, only for them to get caught on the power lines hanging over the garden. when homer manages to get up to the beer cans, climbing up the family's garden tree, he is shocked by the electricity now running through the six - pack. he is continuously shocked as the camera pans up to a birds - eye view of springfield. every time homer is shocked, an area loses power, which slowly start to make out the shape of the channel 4 logo. in the updated couch gag version, homer sits down to watch the super bowl, only to discover he has misplaced his six - pack of duff. he discovers bart has tossed it onto the overhead power line in the family backyard, and when homer retrieves it, he is shocked. he continues to get shocked as the camera pans to a birds - eye view of springfield until the town's power goes out ( the channel 4 logo is noticeable, but the power outages have been changed so it isn't as obvious ). [SEP] [CLS] the authors of the book, i can't believe it's a bigger and better updated unofficial simpsons guide, warren martyn and adrian wood, called it \" a nice episode in which homer actually devises a clever plan to keep the beer flowing. \" the toronto star described the episode as one of bob anderson's \" classics. \" the daily telegraph also characterized the episode as one of \" the 10 best simpsons tv episodes. \" robert canning gave the episode 9. 8 / 10 calling it his favorite episode of the series. [SEP]\n"
     ]
    }
   ],
   "source": [
    "query = \"Which Simpsons episode featured a beer can pyramid outside of Duff Gardens?\"\n",
    "D, I = top_k_chunks(query, k=10)\n",
    "formatted_chunks = ' '.join([chunks[i] for i in I[0]])\n",
    "print(formatted_chunks)"
   ]
  },
  {
   "cell_type": "code",
   "execution_count": 46,
   "metadata": {},
   "outputs": [
    {
     "name": "stdout",
     "output_type": "stream",
     "text": [
      "Mistral-7B-Instruct-v0.3\n",
      "The Simpsons episode where a beer can pyramid is featured outside Duff Gardens is \"Homer the Great\" from Season 4, Episode 13. In this episode, Homer becomes a carnival strongman and builds a beer can pyramid as part of a competition. The pyramid collapses, causing chaos at the carnival.\n",
      "\n",
      "Mistral-7B-Instruct-v0.3 + RAG\n",
      "The Simpsons episode that featured a beer can pyramid outside of Duff Gardens is \"Selma's Choice\" from season 4, episode 13. In this episode, Selma takes Bart and Lisa to Duff Gardens, a parody of Busch Gardens, where they encounter various attractions, including a beer can pyramid made of Duff beer cans.\n",
      "\n"
     ]
    }
   ],
   "source": [
    "query = \"Which Simpsons episode featured a beer can pyramid outside of Duff Gardens?\"\n",
    "\n",
    "print(\"Mistral-7B-Instruct-v0.3\")\n",
    "run_query_streamed(query, model)\n",
    "print()\n",
    "\n",
    "print(\"Mistral-7B-Instruct-v0.3 + RAG\")\n",
    "run_rag_query_streamed(query, model, k=100)\n",
    "print()"
   ]
  },
  {
   "cell_type": "code",
   "execution_count": 23,
   "metadata": {},
   "outputs": [
    {
     "name": "stdout",
     "output_type": "stream",
     "text": [
      "[CLS] as middle name benjamin geza affleck ( born 1972 ), american actor and filmmaker [SEP] [CLS] ben geurens ( born 24 december 1979 ) is an australian actor. [SEP] [CLS] bob lechevalier : [SEP] [CLS] his younger brother faizat ghazli is also a footballer. [SEP] [CLS] he is the younger half - brother of fellow director jake nava. [SEP] [CLS] his grandson yannick cahuzac is a professional footballer. [SEP] [CLS] ben zabo ( born arouna moussa coulibaly, january 24, 1979 ) is a malian afrobeat - musician from bamako. he was born at tominian in the segou region. he released his self - titled debut album on the international record company glitterhouse records in 2012. [SEP] [CLS] he is the brother of renato marazzi. [SEP] [CLS] in 1988 meretzky had his son daniel meretzky. [SEP] [CLS] he is the son of late broadcaster bob arbogast. [SEP]\n"
     ]
    }
   ],
   "source": [
    "query = \"Who is Benjamin Geza Affleck?\"\n",
    "D, I = top_k_chunks(query, k=10)\n",
    "formatted_chunks = ' '.join([chunks[i] for i in I[0]])\n",
    "print(formatted_chunks)"
   ]
  },
  {
   "cell_type": "code",
   "execution_count": 24,
   "metadata": {},
   "outputs": [
    {
     "name": "stdout",
     "output_type": "stream",
     "text": [
      "Mistral-7B-Instruct-v0.3\n",
      "Benjamin Geza Affleck is a well-known American actor, filmmaker, and screenwriter. He was born on August 15, 1972. Affleck gained fame for his roles in films such as \"Good Will Hunting,\" for which he won an Academy Award for Best Original Screenplay along with Matt Damon, and \"Argo,\" for which he won the Academy Award for Best Picture as a producer. He is also known for his roles in films like \"Dazed and Confused,\" \"Chasing Amy,\" \"Gone Baby Gone,\" and \"The Town.\" In addition to acting, Affleck has directed films such as \"Gone Baby Gone,\" \"The Town,\" and \"Argo.\" He is also a political activist and has been involved in various philanthropic efforts.\n",
      "\n",
      "Mistral-7B-Instruct-v0.3 + RAG\n",
      "Benjamin Geza Affleck is an American actor and filmmaker, born in 1972. He is known for his work in films such as \"Good Will Hunting,\" \"Argo,\" and \"Gone Baby Gone.\" He has won multiple awards, including two Academy Awards, for his acting and directing work.\n",
      "\n"
     ]
    }
   ],
   "source": [
    "query = \"Who is Benjamin Geza Affleck?\"\n",
    "\n",
    "print(\"Mistral-7B-Instruct-v0.3\")\n",
    "run_query_streamed(query, model)\n",
    "print()\n",
    "\n",
    "print(\"Mistral-7B-Instruct-v0.3 + RAG\")\n",
    "run_rag_query_streamed(query, model)\n",
    "print()"
   ]
  },
  {
   "cell_type": "code",
   "execution_count": 47,
   "metadata": {},
   "outputs": [
    {
     "name": "stdout",
     "output_type": "stream",
     "text": [
      "Mistral-7B-Instruct-v0.3\n",
      "Actually, orange cats are not mostly male. The orange color in cats is genetically linked to a specific allele (variant) of the Agouti gene, which is on the X chromosome. Female cats have two X chromosomes, while males have one X and one Y chromosome.\n",
      "\n",
      "Since the orange gene is on the X chromosome, a male cat will always be orange if it carries the orange gene on its single X chromosome. Female cats, having two X chromosomes, can carry two orange genes, one on each chromosome. However, because of a process called X-inactivation, only one of the two X chromosomes is active in each cell of a female cat. If a female cat has one active X chromosome with the orange gene and one without it, she will not be orange.\n",
      "\n",
      "So, the misconception that orange cats are mostly male comes from the fact that males carry the orange gene on their single X chromosome, while females need to have the gene on at least one of their two X chromosomes for the cat to be orange. However, when a female cat does carry the orange gene on one of her active X chromosomes, she will be orange. It's just less common because of the X-inactivation process.\n",
      "\n",
      "Mistral-7B-Instruct-v0.3 + RAG\n",
      "Orange cats are mostly male because the gene for orange fur is located on the X chromosome. Female cats have two X chromosomes, so they can have both the orange and non-orange genes, resulting in a mix of colors. Male cats, on the other hand, have one X and one Y chromosome, so they can only have the orange gene if it is present on their single X chromosome. If the X chromosome does not carry the orange gene, the cat will not be orange. Since males only have one X chromosome, they are more likely to be either entirely orange or entirely non-orange, while females can be a mix of colors.\n",
      "\n"
     ]
    }
   ],
   "source": [
    "query = \"Why are orange cats mostly male?\"\n",
    "\n",
    "print(\"Mistral-7B-Instruct-v0.3\")\n",
    "run_query_streamed(query, model)\n",
    "print()\n",
    "\n",
    "print(\"Mistral-7B-Instruct-v0.3 + RAG\")\n",
    "run_rag_query_streamed(query, model, k=100)\n",
    "print()"
   ]
  },
  {
   "cell_type": "code",
   "execution_count": 48,
   "metadata": {},
   "outputs": [
    {
     "name": "stdout",
     "output_type": "stream",
     "text": [
      "Mistral-7B-Instruct-v0.3\n",
      "Actually, there is no truth to the statement that orange cats are mostly female. The color of a cat's fur, including orange, is determined by a gene called the \"orange tabby\" gene. This gene has no relation to the cat's gender. The distribution of orange cats among males and females is the same as any other color or pattern.\n",
      "\n",
      "Mistral-7B-Instruct-v0.3 + RAG\n",
      "Orange cats are mostly female because the gene for the orange coloring is located on the X chromosome. Female cats have two X chromosomes, so they can have both the orange and non-orange genes. In contrast, male cats have one X and one Y chromosome, so they can only have the non-orange gene. Therefore, for a male cat to be orange, it would require a mutation or an extra X chromosome, which is rare.\n",
      "\n"
     ]
    }
   ],
   "source": [
    "query = \"Why are orange cats mostly female?\"\n",
    "\n",
    "print(\"Mistral-7B-Instruct-v0.3\")\n",
    "run_query_streamed(query, model)\n",
    "print()\n",
    "\n",
    "print(\"Mistral-7B-Instruct-v0.3 + RAG\")\n",
    "run_rag_query_streamed(query, model, k=100)\n",
    "print()"
   ]
  },
  {
   "cell_type": "code",
   "execution_count": 49,
   "metadata": {},
   "outputs": [
    {
     "name": "stdout",
     "output_type": "stream",
     "text": [
      "Mistral-7B-Instruct-v0.3\n",
      "The gender of a cat, whether it's orange or any other color, is not determined by its fur color. Cats can be either male (tom) or female (queen), and they come in a variety of colors and patterns. The orange color in cats is due to a gene called the \"orange gene\" (O) and is recessive, meaning that a cat must inherit two copies of this gene (OO) to be orange. However, the gender of a cat is determined by other genes, not the orange gene.\n",
      "\n",
      "Mistral-7B-Instruct-v0.3 + RAG\n",
      "Orange cats are more likely to be female because the gene for the orange coloring is on the X chromosome, and females have two X chromosomes, while males have one X and one Y chromosome. Therefore, for a female cat to be orange, both of her X chromosomes must carry the orange gene. For a male cat to be orange, he would need to inherit the orange gene from his mother, as males only have one X chromosome. However, it's important to note that not all orange cats are female, and not all female cats are orange. The exact proportion of orange cats that are male versus female can vary, but the majority are female due to this genetic factor.\n",
      "\n"
     ]
    }
   ],
   "source": [
    "query = \"Are orange cats more likely to be male or female?\"\n",
    "\n",
    "print(\"Mistral-7B-Instruct-v0.3\")\n",
    "run_query_streamed(query, model)\n",
    "print()\n",
    "\n",
    "print(\"Mistral-7B-Instruct-v0.3 + RAG\")\n",
    "run_rag_query_streamed(query, model, k=100)\n",
    "print()"
   ]
  },
  {
   "cell_type": "code",
   "execution_count": 50,
   "metadata": {},
   "outputs": [
    {
     "name": "stdout",
     "output_type": "stream",
     "text": [
      "Mistral-7B-Instruct-v0.3\n",
      "The exact percentage can vary, but generally, about 50% of orange cats are male and 50% are female. This is because the orange coloration in cats is determined by a gene on the X chromosome. Females have two X chromosomes (XX), while males have one X and one Y chromosome (XY). Since the orange gene is on the X chromosome, a female cat needs to inherit the orange gene from both parents to be orange, while a male cat only needs to inherit it from one parent. Therefore, if a cat is orange, it is more likely to be male, but half of all orange cats will still be female. However, it's important to note that this is a simplification, as there are other genes that can influence coat color in cats.\n",
      "\n",
      "Mistral-7B-Instruct-v0.3 + RAG\n",
      "Approximately 80% of orange tabby cats are male. This is because the orange coloring is a gene found on the X chromosome, and males have one X and one Y chromosome, while females have two X chromosomes. Therefore, for a female cat to be orange, both of her X chromosomes must carry the orange gene, which is a rare occurrence. In contrast, a male cat only needs one X chromosome with the orange gene to be orange.\n",
      "\n"
     ]
    }
   ],
   "source": [
    "query = \"What percentage of orange cats are male?\"\n",
    "\n",
    "print(\"Mistral-7B-Instruct-v0.3\")\n",
    "run_query_streamed(query, model)\n",
    "print()\n",
    "\n",
    "print(\"Mistral-7B-Instruct-v0.3 + RAG\")\n",
    "run_rag_query_streamed(query, model, k=100)\n",
    "print()"
   ]
  },
  {
   "cell_type": "markdown",
   "metadata": {},
   "source": [
    "### Investigating whether failure to retrieve relevant chunks is due to search index or document/query encoder"
   ]
  },
  {
   "cell_type": "code",
   "execution_count": 25,
   "metadata": {},
   "outputs": [
    {
     "name": "stdout",
     "output_type": "stream",
     "text": [
      "[CLS] another attempt to break the world record beer can pyramid was made with beer cans over 5 metres high and contained 10, 660 cans. it was built by the melbourne university student union in 2005, and was featured on blokesworld and in mx. [SEP] [CLS] a beer can pyramid, often called a beeramid as a portmanteau, is a pyramid made from discarded beer cans. beer can pyramids are built as empty beer cans became available, slowly growing as the night ( or week or month ) wears on. in most cases, though, they are temporary structures, eventually being cleaned up or accidentally knocked over. [SEP] [CLS] olympia beer was praised as one of the top 25 beers in the world in a 2012 mensjournal. com review article. [SEP] [CLS] beers pyramid once featured beers including, ales, lager, weizens, ciders, porters, and ipas. nowadays, pyramid offers six year - round beers, including hefeweizen, apricot ale, thunderhead ipa and outburst imperial ipa. pyramid also offers seasonal beers, including curve ball blonde ale, oktoberfest and snow cap winter warmer, along with seasonal variety packs and limited release beers. [SEP] [CLS] to date the brewery has created over 300 different beers. [SEP] [CLS] the oldest can in the collection is a krueger ale can from the 1930s which is similar to the first beer can ever produced in 1935. on display as well are older cone tops ( such as a brockert ale \" j - spout \" can from worcester, massachusetts, and a star banner ale cone top from boston ) and obsolete \" flat top \" cans from the early days of beer can production. the museum is enhanced by a significant collection of breweriana ( beer related collectibles ) such as hanging pub towels in the rafters, thousands of coasters or \" beer mats \", beer trays, and a bar displaying both colorful cans and beer glasses from around the world. crocheted beer can hats from the 1970s, beer can transistor radios, and a beer can telephone are also on display, as are miniature beer cans used in dollhouses. a unique'pysanka'( painted ukrainian style'heineken'egg ) is also housed at the museum. [SEP] [CLS] the magazine published the 2013 edition of its “ america ’ s 100 best beer bars ” list. [SEP] [CLS] cantillon produces 400, 000 bottles of beer a year. [SEP] [CLS] it has five hand pumps serving real ale and a beer garden, and was submitted for a place in the guinness book of records. [SEP] [CLS] although using beer cans was popularized in 1960 by jasper johns, hedrick began the practice in art many years earlier, during the early 1950s. one of hedrick's favorite beer can sculptures \" was made up of smashed beer cans in a kind of pyramid, as sort of a mountain, so i called it american everest. \" the welded beer can sculptures \" carried over until - - 1969. \" [SEP]\n"
     ]
    }
   ],
   "source": [
    "query = \"What is the current world record for a beer can pyramid?\"\n",
    "D, I = top_k_chunks(query, k=10)\n",
    "formatted_chunks = ' '.join([chunks[i] for i in I[0]])\n",
    "print(formatted_chunks)\n"
   ]
  },
  {
   "cell_type": "code",
   "execution_count": 26,
   "metadata": {},
   "outputs": [
    {
     "data": {
      "text/plain": [
       "array([44419780, 44419778, 46332100, 42621542, 32287273, 48056004,\n",
       "       10667840, 44684914, 15182634,  6031383])"
      ]
     },
     "execution_count": 26,
     "metadata": {},
     "output_type": "execute_result"
    }
   ],
   "source": [
    "I[0]"
   ]
  },
  {
   "cell_type": "code",
   "execution_count": 27,
   "metadata": {},
   "outputs": [
    {
     "data": {
      "text/plain": [
       "'[CLS] on 23 september 2000, the malaysian can team, consisting of 12 college students from the inti college subang jaya, malaysia built a free standing can pyramid created from 9, 455 empty aluminium drink cans in 24 minutes at the mid valley megamall in kuala lumpur, malaysia. it had a square base of cans, measuring. this feat made a successful entry into the guinness world record and to - date this record has yet to be broken. [SEP]'"
      ]
     },
     "execution_count": 27,
     "metadata": {},
     "output_type": "execute_result"
    }
   ],
   "source": [
    "chunks[44419780 - 1]"
   ]
  },
  {
   "cell_type": "code",
   "execution_count": 28,
   "metadata": {},
   "outputs": [],
   "source": [
    "import numpy as np"
   ]
  },
  {
   "cell_type": "code",
   "execution_count": 29,
   "metadata": {},
   "outputs": [],
   "source": [
    "# Comparing similarity of query to retrieved chunks and the non-retrieved chunk that contains the necessary fact\n",
    "emb_query = query_encoder.encode([query])\n",
    "emb_chunk0 = query_encoder.encode([chunks[44419780]])\n",
    "emb_chunk1 = query_encoder.encode([chunks[44419780 - 1]])\n",
    "emb_chunk2 = query_encoder.encode([chunks[15182634]])\n",
    "emb_chunk3 = query_encoder.encode([chunks[32287273]])"
   ]
  },
  {
   "cell_type": "code",
   "execution_count": 30,
   "metadata": {},
   "outputs": [
    {
     "name": "stdout",
     "output_type": "stream",
     "text": [
      "0.80006427\n",
      "0.6656804\n",
      "0.5796839\n",
      "0.61451036\n"
     ]
    }
   ],
   "source": [
    "for emb in [emb_chunk0, emb_chunk1, emb_chunk2, emb_chunk3]:\n",
    "    score1 = np.dot(emb_query.flatten(), emb.flatten())\n",
    "    print(score1) "
   ]
  },
  {
   "cell_type": "code",
   "execution_count": 41,
   "metadata": {},
   "outputs": [
    {
     "data": {
      "text/plain": [
       "array([44419780, 44419779, 44419778, 46332100, 42621542, 32287273,\n",
       "       48056004, 10667840, 44684914, 15182634,  6031383,  6724587,\n",
       "       16419147, 25060650, 42621541,  5588298,  5588295, 47488175,\n",
       "       47576167, 23784030, 20744553,  6416773, 19033151, 17484807,\n",
       "       10596834, 22633185,   894007, 12054762, 16875596, 26014709,\n",
       "       41376691, 44019041,  9782289,  7595671, 48056002, 27735882,\n",
       "       45963830, 30801274, 36622101,   712694,  7595676, 34792865,\n",
       "        3406768, 26232251,   193948, 34361474,  5401486, 42621090,\n",
       "       37327053, 19695556, 29996711, 48932338, 48056001, 26496274,\n",
       "       42685118, 39727124,  9961092, 14564167,   124767, 47039145,\n",
       "       22494061, 21606770,  5640383, 30201479, 29734994, 46352283,\n",
       "       44085428,  5263339, 42090121, 12540172,  2523641,  7819492,\n",
       "       47576162, 39232830, 17866603, 44843512, 42247104, 14812288,\n",
       "       39286935,  5322344, 23933341, 32908930, 46775527, 27447164,\n",
       "       32287276,   973686, 45964882,  2429968, 40666904, 38134791,\n",
       "         201348, 47448553,  4872260, 16812582, 49111371,  7181067,\n",
       "       34620153, 41505278, 15649191, 39727192,  6152881, 40755802,\n",
       "       23267869,  1130233, 49509389, 46842458, 26349751, 26350065,\n",
       "       46791145, 16940342, 25794985,  2996544, 23698841, 39711473,\n",
       "       46338357, 48051935, 24725006,   397135, 39066896, 15059949,\n",
       "       23134416, 11700722, 34874178,  5309464, 31800168, 45112127,\n",
       "        3240948, 24865193, 22995104,  8673517, 33623596,  4028602,\n",
       "        4144181, 15571725, 38177179, 40503765, 46624673,  6177496,\n",
       "       23781263,  9007282, 19033148, 28316068, 34141572, 37570376,\n",
       "       26588277, 21191890, 22146971, 41398707, 27735881,  8779913,\n",
       "       48437042, 10221309, 14322709, 27243660, 45435603, 46047691,\n",
       "       46057025,  8815147, 25444862, 26383078, 38474929, 10858162,\n",
       "       48005762, 12159839,  7819488, 46279955, 11810654, 31087900,\n",
       "        7595674, 49513367,  4923284,  4872259,  8152032, 47877980,\n",
       "       46025566, 47556136,    54550,  3312208, 45661709, 38453825,\n",
       "       42029138, 43024663, 16081675, 26156823, 26258111, 45901907,\n",
       "       19195266,  7871317, 35469534, 32635244, 49375028,  6663165,\n",
       "       20719771, 20720276, 26348695, 26348791,  5322345, 41626298,\n",
       "       31450256, 21955075, 47697500, 42391421,  7934727, 34459716,\n",
       "       47476615, 34756186, 44526779, 44279239,  4185976, 19425461,\n",
       "       31411528, 34936540,  7237696,  4689674,   193949, 34874181,\n",
       "        3323697,  7726867,  1759018, 33306943, 46057018, 48682325,\n",
       "       22156990, 46192263, 11138042, 11145844, 12974618, 29654335,\n",
       "       36055020, 36058926, 36063299, 36097456, 36109332, 36110595,\n",
       "       32802071, 32131092, 16081669, 12985328, 36622100, 34874177,\n",
       "       21006544, 41376751,  5289067, 42820848, 16586472, 35560985,\n",
       "       35790298, 37065294,  5136425,  6663167,  5588294, 21010877,\n",
       "         225373, 29209332, 43496260, 39232828,  9597036, 36622096,\n",
       "        2605473, 41662702, 42621538,  4671712, 21539439, 21539441,\n",
       "        4217265, 30384421, 36995108, 32334195, 31075282, 17920422,\n",
       "       15366051, 44687030,  1670508,  2894864,  4659653,  5042218,\n",
       "        7277332,  8564601, 10075014, 11612330, 14198301, 15515415,\n",
       "       16586477, 16653949, 17655104, 18556607, 18581578, 19089172,\n",
       "       21991701, 22083063, 22374926, 22962931, 23318626, 23481214,\n",
       "       23933342, 24884221, 25911255, 26385165, 32156907, 33504734,\n",
       "       36135448, 44208262, 44980959, 45083019, 45199960, 45312758,\n",
       "       41376693,  4937340,  5588299, 12708209, 47866189, 16719802,\n",
       "       10334079, 22010645, 46057017, 26912878, 21277894, 31913138,\n",
       "       10805706,  7766873, 42283296,  2696137, 39524359, 27002093,\n",
       "       41376686, 46842457, 39803373,  4588697, 17491933, 41505280,\n",
       "        6724132,   184565,  1242992,  4311521,  4727236,  9885955,\n",
       "       12187332, 13805566, 15330980, 18288802, 21873087, 21879885,\n",
       "       22995105, 23267870, 30117958, 33379447, 38083622, 46988815,\n",
       "       48347156, 45813898,   340457, 42820849, 45598768, 18100694,\n",
       "       32287274, 35476217,  4231993, 38816315, 40826817,  9126403,\n",
       "       46057016, 15571723,  2901062,    54504, 21798614,  7761353,\n",
       "       16084566, 48076546, 29993538, 13916776, 41131056,   872448,\n",
       "       25750399,   124748, 38402164, 34141574,  1092278, 47229440,\n",
       "       47456438, 30636150, 12366418, 47848535, 47576151, 43024631,\n",
       "       42928766, 20977595, 19965494, 44085405, 21991699, 26392326,\n",
       "       30881511, 42320608, 47219191,   430879, 41026486, 23928573,\n",
       "       25669351, 37826711, 39745237, 35899911, 49074003, 27273551,\n",
       "       47165788, 25417550, 39673731,  1353351, 23513964, 29627001,\n",
       "       33232994, 45171511,  3283954, 16767536, 38082847, 39066902,\n",
       "         273455, 45964026, 20019694, 46195077, 36497538, 40460803,\n",
       "       35945141, 42820843,  1363252, 14968760, 12958489, 17399887,\n",
       "       48076547, 26089945,  6390355, 24062746,  7258286, 23919848,\n",
       "       44461846, 40390660, 45572608, 46028893, 15302652, 11430319,\n",
       "       15115284, 15122314, 15122330, 15132849, 26566228, 33481231,\n",
       "       12856187, 10566461, 25739017,  2966294, 27760553, 30821321,\n",
       "       32285317, 32696841, 33720164, 36015561, 39134984,    54557,\n",
       "       45207851, 39241966,  7819508, 38536434, 40666911, 22878418,\n",
       "       11791197,  1929923, 46951408,  5442939, 22177361, 26589934,\n",
       "       25753226,    19794, 29804320,  5365279, 46216941, 33671998,\n",
       "         124775, 45381281, 36835559, 24417018, 29993539, 13662727,\n",
       "       23951200, 28690073, 25026516,  1131271, 16521575, 23087411,\n",
       "       26137219, 32006248, 32006298, 32007569,  3084689, 45157266,\n",
       "       46099928, 25854031, 30980643, 45964789, 26067173, 17262298,\n",
       "       30208861, 19905390, 42254345, 37453816,  7856907, 15142337,\n",
       "       20878002, 17168589, 11323145, 29561178, 42685099,    74108,\n",
       "       26091866, 26093334, 26093578, 26174327, 26195479, 26195819,\n",
       "       32391590, 32435604, 32439612, 32440082, 34040347, 35729453,\n",
       "       33588023, 39786966,  8176122, 28451470, 47631086, 21358434,\n",
       "       44638958, 12708203, 33491697,   635835, 31590656, 27536417,\n",
       "       32218340, 34223680, 42321843,  7181068, 39716035, 34573812,\n",
       "       36501854, 16212102, 18902612, 30377252,   503789,   124766,\n",
       "       31484405,  2005055, 37102936, 25750319, 12174024, 17232011,\n",
       "       35455283, 11164680, 46864556, 45156942, 45760562,  4659650,\n",
       "       31051231,   257504,   972070,  1069836,  2568517,  3045318,\n",
       "        3045566,  3314218,  3371639,  3371806,  3371844,  3372183,\n",
       "        3882640,  4178847,  5270226,  5272001,  5591754,  5675258,\n",
       "        5757781,  5859139,  6370681,  6390942,  6398372,  6750099,\n",
       "        6916022,  7344252,  7344253,  7344254,  7344256,  7344259,\n",
       "        7344260,  7344261,  7344262,  7344265,  7751170,  7770762,\n",
       "        7773027,  8545147,  9695467,  9695576, 10420998, 10462498,\n",
       "       10837506, 11003750, 11175850, 11279081, 11288645, 11294586,\n",
       "       11299642, 11402906, 11860796, 11884555, 11950022, 12001623,\n",
       "       12264398, 12264405, 12356530, 12386215, 12387778, 12646747,\n",
       "       12651190, 13187464, 13199517, 13200249, 13299509, 13626596,\n",
       "       13770869, 14030149, 14173003, 14221416, 14317377, 14317653,\n",
       "       14327888, 14327937, 14332528, 14364444, 14630356, 14630394,\n",
       "       14630475, 14650228, 14650315, 14656855, 14670768, 14742129,\n",
       "       14892702, 15159171, 15159205, 15271608, 15320933, 15321259,\n",
       "       15362416, 15364108, 15372021, 15378511, 15379363, 15384379,\n",
       "       15386823, 15399494, 15399510, 15472321, 15502559, 15503007,\n",
       "       15503331, 15516334, 15888336, 16238983, 16752524, 17626560,\n",
       "       18345024, 18884514, 19578361, 19578391, 20802940, 20806375,\n",
       "       21614426, 22295423, 22608032, 22790549, 23172909, 23210061,\n",
       "       23238248, 23677999, 24174371, 24916331, 25221874, 25229683,\n",
       "       25230390, 25230465, 25363309, 25396965, 25850549, 26612805,\n",
       "       26788796, 26921107, 26922664, 26927449, 26949547, 26975138,\n",
       "       26977723, 26984132, 26984823, 26987836, 26993084, 27006098,\n",
       "       27009800, 27011181, 27011437, 27037830, 27455804, 28058863,\n",
       "       28561143, 28617006, 29038141, 29057777, 29058125, 30141322,\n",
       "       30465385, 30722006, 31719635, 31756949, 32674261, 32834718,\n",
       "       35495011, 35743745, 35768465, 36430895, 36490103, 36739299,\n",
       "       36765620, 36825133, 36828242, 36861188, 36986852, 37090032,\n",
       "       37117341, 37154312, 37156444, 37183634, 37201224, 37389163,\n",
       "       37471062, 37491456, 37491783, 37724567, 37928024, 39200524,\n",
       "       39422621, 39748478, 41302956, 41916774, 43642198, 43979713,\n",
       "       44135693, 44296072, 44710865, 44923637, 45203493, 45371311,\n",
       "       45392874, 45653179, 45698528, 46002397, 46316734, 47906953,\n",
       "       32334197, 45157245, 33094522, 43482218, 14322685,  4973576,\n",
       "        7623672, 22109977,  5144674, 48505914,  2144786, 47601645,\n",
       "       33610103,  5123789, 48454991, 23173867, 28433198, 28441533,\n",
       "       28451361, 29769517, 35018427, 48056005, 43358787, 15344770,\n",
       "       22480919, 25905764, 41505238, 34081385, 17920420, 44844936,\n",
       "       25534195, 25553328, 25553433, 36573947, 21343766, 29760714,\n",
       "        6693350, 19033149,  4604258, 27273553, 16812586, 45147275,\n",
       "       37060299, 48519862, 28724613, 39984037, 21528065, 46072224,\n",
       "       24165951, 23249539,  7257691, 28492890, 25406345, 34936532,\n",
       "       14265919, 45157269, 45140544,  2510656, 38126581, 19056624,\n",
       "        2735380, 12900257, 23011737, 42145038, 40447625, 15195636,\n",
       "          74106, 45546433, 42565720,  9952944, 11357394,  2925877,\n",
       "       14957137, 27735876, 11148269, 47569183, 14627951, 16419150,\n",
       "       45200331, 16094034,  5061243,    54510, 39807823, 23466812,\n",
       "       43767254, 47144023, 15269838, 44518621, 11619885, 23030640,\n",
       "       15676399,  5302213, 45100479, 10452110,  6703458, 47045138,\n",
       "       22491045, 44948833,  7819491, 26745357, 12435547, 49435577,\n",
       "       11374757, 13631061, 22791037, 10312527, 22536250, 18409745,\n",
       "       21060593, 47380163, 17408571, 33123851, 35153054, 23863055,\n",
       "       27690630, 28353237, 33123850, 15302115, 25177549, 36575321,\n",
       "       32182806, 23026554, 27933915, 48529604,   288202, 17520947,\n",
       "       17988543, 47576146, 13292989,   190860, 22488901,  6255597,\n",
       "       29750173, 31378797,  5845424, 37852802,  2360932, 33101129,\n",
       "       22926012,  2553350,  2672277, 45196960, 14212395, 17653053,\n",
       "       25600365, 28220312, 15515414, 21356200,  1664053, 42820844,\n",
       "       43364447, 46274117,  2396517, 18861287, 22156987, 39761586,\n",
       "       14587841, 41376750, 33710594, 25406347, 48338842, 10418481,\n",
       "       43724673,  6450590, 13126231, 20882732,  4953396,  6559627,\n",
       "        8213528,  8875809, 23928547, 25616578, 27238156, 18919372,\n",
       "         564171,  6511085, 36135447, 13845307, 10064124, 31991819,\n",
       "       19017090, 47168766, 23240707,  7710603,  3986301, 46878533,\n",
       "        8379519, 11642244, 36575452, 20332626, 12174009, 46435043,\n",
       "       39697536, 23393924, 29860791,  5365238, 35084106,  5933816,\n",
       "       10600797,  1478779, 40708084, 10980496,   758702, 21392435,\n",
       "       17876801, 41618985, 49380771, 12020715, 14307217, 48123593,\n",
       "        5031244, 21391250, 15114516,  1143898, 23933337, 15778486,\n",
       "        1473333, 37899982, 12905739,  3068652,  7567518, 47865537,\n",
       "       28220311,   546602, 34874183,  1554667, 15290767,  1896467,\n",
       "       38987720, 24968409, 14432975, 45406472, 41396769,  6900504,\n",
       "       37160256, 37453814, 12815671, 32217483])"
      ]
     },
     "execution_count": 41,
     "metadata": {},
     "output_type": "execute_result"
    }
   ],
   "source": [
    "query = \"What is the current world record for a beer can pyramid?\"\n",
    "D, I = top_k_chunks(query, k=1000)\n",
    "I[0]"
   ]
  },
  {
   "cell_type": "code",
   "execution_count": 42,
   "metadata": {},
   "outputs": [
    {
     "data": {
      "text/plain": [
       "(True, True, True)"
      ]
     },
     "execution_count": 42,
     "metadata": {},
     "output_type": "execute_result"
    }
   ],
   "source": [
    "# Even fetching the top 1000 matches in index, required chunk isn't found... :(\n",
    "44419780 in I[0], 44419779 in I[0], 44419778 in I[0]"
   ]
  },
  {
   "cell_type": "code",
   "execution_count": 43,
   "metadata": {},
   "outputs": [
    {
     "name": "stdout",
     "output_type": "stream",
     "text": [
      "[0.80006427, 0.6656804, 0.65565145, 0.6291253, 0.6221438, 0.61819845, 0.61451036, 0.60374725, 0.5936669, 0.58356094, 0.58112395, 0.57989484, 0.5796839, 0.5774149, 0.5757826, 0.5742325, 0.5711893, 0.57098013, 0.56738615, 0.56650317, 0.5638323, 0.56263685, 0.5614915, 0.56146127, 0.5585642, 0.5571245, 0.5566888, 0.55643344, 0.55630404, 0.5559496, 0.55562025, 0.55555916, 0.5553293, 0.55501854, 0.5550179, 0.554696, 0.55399704, 0.5532268, 0.5531702, 0.5523143, 0.55080813, 0.5503337, 0.5493349, 0.5492588, 0.5481219, 0.54803777, 0.5476148, 0.5469228, 0.54689753, 0.54689753, 0.5460844, 0.5457463, 0.54552424, 0.5454178, 0.5452452, 0.5449614, 0.54455084, 0.5442039, 0.5438782, 0.5436713, 0.5435318, 0.5431305, 0.5429449, 0.54290843, 0.54290843, 0.54248977, 0.54209405, 0.54198927, 0.5415858, 0.54077667, 0.5407106, 0.53951395, 0.53948474, 0.53899646, 0.5385741, 0.53842926, 0.538288, 0.5382086, 0.5371756, 0.5369379, 0.5369189, 0.5366755, 0.53631496, 0.535685, 0.5356747, 0.53484356, 0.53484356, 0.53484356, 0.5346839, 0.5345394, 0.53445184, 0.53398556, 0.53361917, 0.5332618, 0.5332618, 0.5332618, 0.5332618, 0.53318346, 0.5331668, 0.5331073, 0.53247064, 0.53226984, 0.5321277, 0.5315683, 0.5315683, 0.5315683, 0.5315683, 0.5315683, 0.5315683, 0.5315683, 0.5315683, 0.5315683, 0.5315683, 0.5312338, 0.53103507, 0.53093576, 0.5307399, 0.53073984, 0.5303582, 0.5303582, 0.5303582, 0.53033006, 0.53018284, 0.5301275, 0.5301009, 0.53007925, 0.52949023, 0.52910143, 0.52894855, 0.5287861, 0.52799815, 0.5279957, 0.5277947, 0.5277051, 0.5272325, 0.5262939, 0.5258082, 0.5254067, 0.52534634, 0.5240494, 0.52327913, 0.5231154, 0.5226944, 0.5223705, 0.52228034, 0.5221437, 0.52194387, 0.5216206, 0.5216145, 0.52157694, 0.52136683, 0.521233, 0.52118266, 0.5210766, 0.5209118, 0.5208185, 0.5206651, 0.52045053, 0.5203744, 0.5202805, 0.52017355, 0.52012444, 0.5199131, 0.5195998, 0.5194173, 0.5193835, 0.5193835, 0.5193835, 0.5193835, 0.5193835, 0.5193835, 0.51935005, 0.51934844, 0.5192529, 0.51920784, 0.5179874, 0.5175997, 0.517492, 0.5173384, 0.5168866, 0.5167329, 0.5166718, 0.51660883, 0.51649654, 0.51641655, 0.5157879, 0.51550376, 0.51542795, 0.5153748, 0.51530284, 0.5150379, 0.5147531, 0.51470494, 0.51430756, 0.5142274, 0.51416105, 0.514047, 0.5139297, 0.51338375, 0.5130265, 0.5128402, 0.5127297, 0.5123873, 0.5123294, 0.51229465, 0.5122933, 0.51219785, 0.512091, 0.5119648, 0.5118767, 0.5117055, 0.5116299, 0.5115442, 0.5115442, 0.5115442, 0.5115442, 0.51153046, 0.51150787, 0.51140857, 0.51129663, 0.5112845, 0.51103127, 0.51103127, 0.51103127, 0.51103127, 0.51103127, 0.51103127, 0.51103127, 0.51103127, 0.51103127, 0.51103127, 0.51103127, 0.51103127, 0.51103127, 0.51103127, 0.51103127, 0.51103127, 0.51103127, 0.51103127, 0.51091695, 0.5109106, 0.5107874, 0.5107874, 0.5107874, 0.5107874, 0.51073974, 0.5103547, 0.51032865, 0.5103073, 0.50975853, 0.50966203, 0.50935316, 0.50934356, 0.5093078, 0.5093007, 0.50895905, 0.5088694, 0.50880957, 0.50874054, 0.50857896, 0.50835484, 0.5082984, 0.5081908, 0.50803024, 0.5079422, 0.5079422, 0.5079422, 0.5079422, 0.5079422, 0.5079422, 0.5079422, 0.5079422, 0.5079422, 0.5079422, 0.5079422, 0.5079422, 0.5078035, 0.5074091, 0.5073135, 0.5072104, 0.5071293, 0.5071293, 0.50676394, 0.50674987, 0.5065583, 0.5064133, 0.50640064, 0.5063057, 0.50618124, 0.50613666, 0.5061187, 0.5061022, 0.5060502, 0.50592804, 0.50573426, 0.5055899, 0.5054729, 0.5053795, 0.50521195, 0.50521195, 0.50514865, 0.50514567, 0.505103, 0.5045587, 0.504549, 0.5045469, 0.5045412, 0.50444686, 0.5043882, 0.5043638, 0.50433016, 0.5041433, 0.50412816, 0.5040482, 0.50403625, 0.50401145, 0.5038487, 0.50373334, 0.50370705, 0.50361425, 0.5035272, 0.5032388, 0.50310826, 0.5030276, 0.5029695, 0.5027695, 0.5021972, 0.50204325, 0.50148, 0.5012673, 0.5010059, 0.50094634, 0.50094455, 0.50064534, 0.50048935, 0.5004488, 0.5001478, 0.49984184, 0.4995667, 0.4995317, 0.49951705, 0.4994514, 0.49935263, 0.49928454, 0.49893522, 0.4988805, 0.49851334, 0.4984995, 0.4984755, 0.49835402, 0.49821734, 0.49821705, 0.49813554, 0.49753335, 0.4972093, 0.49701285, 0.49686503, 0.49679017, 0.4967811, 0.49655524, 0.49655524, 0.49642283, 0.49641913, 0.49633327, 0.4962756, 0.4962756, 0.4962756, 0.49621612, 0.4962066, 0.49619442, 0.49598753, 0.4959865, 0.49595472, 0.4957267, 0.495624, 0.495624, 0.495624, 0.495624, 0.495624, 0.495624, 0.49551547, 0.49540567, 0.4952669, 0.4948772, 0.49483606, 0.49480417, 0.49458745, 0.49455714, 0.49439538, 0.49392256, 0.49384868, 0.4938205, 0.49362293, 0.49360317, 0.49341774, 0.4933874, 0.49332482, 0.4932804, 0.49324635, 0.49305296, 0.49301982, 0.4929279, 0.49284732, 0.49283195, 0.492823, 0.4927249, 0.49267504, 0.49265832, 0.49248093, 0.49245685, 0.49204755, 0.49194264, 0.49191535, 0.49189895, 0.49180543, 0.49178284, 0.4916777, 0.49128145, 0.49123633, 0.49119443, 0.49108368, 0.4910635, 0.49100572, 0.4907418, 0.49067146, 0.4905397, 0.49048, 0.4902627, 0.49018383, 0.4900855, 0.48993063, 0.4899143, 0.48987007, 0.48973995, 0.48965982, 0.48923543, 0.48919064, 0.48906857, 0.4890645, 0.48905128, 0.4890014, 0.48889646, 0.48861936, 0.48858345, 0.48848894, 0.4884631, 0.48844907, 0.48836598, 0.48789364, 0.48787427, 0.48771375, 0.4875601, 0.48746446, 0.4874601, 0.48738742, 0.48737207, 0.48720336, 0.4868763, 0.48661533, 0.486505, 0.4861741, 0.48611897, 0.4860611, 0.48597914, 0.48571566, 0.48562482, 0.48552048, 0.4854838, 0.48517945, 0.4848187, 0.48460913, 0.4845727, 0.48453078, 0.48444465, 0.48441792, 0.48441792, 0.48441792, 0.4840075, 0.48394972, 0.4838736, 0.48386508, 0.48350063, 0.4833295, 0.4833181, 0.48325664, 0.48294514, 0.4828575, 0.4828525, 0.48283425, 0.48268563, 0.48251283, 0.48227376, 0.48225343, 0.48210695, 0.48210695, 0.48210695, 0.48210695, 0.48210695, 0.48210695, 0.48210695, 0.48210695, 0.48210695, 0.48210695, 0.48210695, 0.48210695, 0.48210695, 0.48210695, 0.48210695, 0.48210695, 0.48210695, 0.48210695, 0.48210695, 0.48210695, 0.48210695, 0.48210695, 0.48210695, 0.48210695, 0.48210695, 0.48210695, 0.48210695, 0.48210695, 0.48210695, 0.48210695, 0.48210695, 0.48210695, 0.48210695, 0.48210695, 0.48208594, 0.4818861, 0.48186225, 0.48181477, 0.4817823, 0.48177925, 0.4816458, 0.481574, 0.48151135, 0.48133773, 0.48129317, 0.48092157, 0.48055136, 0.48053226, 0.48047835, 0.48040962, 0.48024917, 0.4801611, 0.4801333, 0.48010278, 0.48010117, 0.48008758, 0.47928306, 0.4792499, 0.47924653, 0.47866023, 0.47852233, 0.47829038, 0.4782626, 0.4782322, 0.4781884, 0.478181, 0.47813675, 0.47810128, 0.477993, 0.47770643, 0.47749004, 0.47746664, 0.47736603, 0.4769854, 0.47695112, 0.47691077, 0.4769107, 0.4767628, 0.47673562, 0.47648796, 0.4764542, 0.47631985, 0.47629863, 0.47621286, 0.47618863, 0.4761581, 0.4759849, 0.47596785, 0.475966, 0.47592217, 0.4759148, 0.4753841, 0.4753545, 0.47509062, 0.474976, 0.47476608, 0.47450256, 0.4743845, 0.47437847, 0.47434935, 0.47383088, 0.4738165, 0.47356963, 0.4732231, 0.4731361, 0.47295716, 0.47290128, 0.47249687, 0.47212887, 0.4720722, 0.4720341, 0.47193053, 0.47174066, 0.47153708, 0.4714927, 0.47081465, 0.4706902, 0.47054434, 0.47037348, 0.47019625, 0.4698875, 0.46958137, 0.46954328, 0.46915936, 0.46848464, 0.46832067, 0.4678908, 0.46785474, 0.46783412, 0.46777797, 0.46764272, 0.46754634, 0.46727118, 0.46726954, 0.46719158, 0.46672767, 0.4665116, 0.46650636, 0.46643025, 0.46631303, 0.46629697, 0.4662825, 0.46618512, 0.46605718, 0.46574855, 0.46544582, 0.465345, 0.46530455, 0.4651952, 0.46505624, 0.46460122, 0.4644726, 0.4640125, 0.4639597, 0.46362746, 0.4635045, 0.46349192, 0.46316457, 0.463155, 0.46306714, 0.46270218, 0.4624748, 0.4624357, 0.46150094, 0.4613853, 0.4611369, 0.46106648, 0.46094263, 0.4607755, 0.46047977, 0.45993382, 0.45915085, 0.45898584, 0.45859715, 0.45836183, 0.45824116, 0.45810258, 0.45755008, 0.45752773, 0.45609897, 0.45608443, 0.4560573, 0.4559659, 0.45577836, 0.45554623, 0.45487583, 0.45463914, 0.45459428, 0.45440707, 0.45432365, 0.45418853, 0.4540558, 0.4531847, 0.45300293, 0.45230305, 0.45049694, 0.4502462, 0.44915396, 0.44893652, 0.44882864, 0.4486723, 0.44829267, 0.44819808, 0.4469654, 0.4459278, 0.44545597, 0.44513935, 0.44489288, 0.44434565, 0.44331205, 0.44286907, 0.44257838, 0.44235662, 0.4421221, 0.44156104, 0.44086927, 0.44032475, 0.4398422, 0.43979076, 0.4384993, 0.43742147, 0.4367161, 0.4367156, 0.43626118, 0.43620008, 0.43620008, 0.43620008, 0.43620008, 0.43620008, 0.43620008, 0.43620008, 0.43620008, 0.43620008, 0.43620008, 0.43620008, 0.43620008, 0.43620008, 0.43620008, 0.43620008, 0.43620008, 0.43620008, 0.43620008, 0.43620008, 0.43620008, 0.43620008, 0.43620008, 0.43620008, 0.43620008, 0.43620008, 0.43620008, 0.43620008, 0.43620008, 0.43620008, 0.43620008, 0.43620008, 0.43620008, 0.43620008, 0.43620008, 0.43620008, 0.43620008, 0.43620008, 0.43620008, 0.43620008, 0.43620008, 0.43620008, 0.43620008, 0.43620008, 0.43620008, 0.43620008, 0.43620008, 0.43620008, 0.43620008, 0.43620008, 0.43620008, 0.43620008, 0.43620008, 0.43620008, 0.43620008, 0.43620008, 0.43620008, 0.43620008, 0.43620008, 0.43620008, 0.43620008, 0.43620008, 0.43620008, 0.43620008, 0.43620008, 0.43620008, 0.43620008, 0.43620008, 0.43620008, 0.43620008, 0.43620008, 0.43620008, 0.43620008, 0.43620008, 0.43620008, 0.43620008, 0.43620008, 0.43620008, 0.43620008, 0.43620008, 0.43620008, 0.43620008, 0.43620008, 0.43620008, 0.43620008, 0.43620008, 0.43620008, 0.43620008, 0.43620008, 0.43620008, 0.43620008, 0.43620008, 0.43620008, 0.43620008, 0.43620008, 0.43620008, 0.43620008, 0.43620008, 0.43620008, 0.43620008, 0.43620008, 0.43620008, 0.43620008, 0.43620008, 0.43620008, 0.43620008, 0.43620008, 0.43620008, 0.43620008, 0.43620008, 0.43620008, 0.43620008, 0.43620008, 0.43620008, 0.43620008, 0.43620008, 0.43620008, 0.43620008, 0.43620008, 0.43620008, 0.43620008, 0.43620008, 0.43620008, 0.43620008, 0.43620008, 0.43620008, 0.43620008, 0.43620008, 0.43620008, 0.43620008, 0.43620008, 0.43620008, 0.43620008, 0.43620008, 0.43620008, 0.43620008, 0.43620008, 0.43620008, 0.43620008, 0.43620008, 0.43620008, 0.43620008, 0.43620008, 0.43620008, 0.43620008, 0.43620008, 0.43620008, 0.43620008, 0.43620008, 0.43620008, 0.43620008, 0.43620008, 0.43620008, 0.43620008, 0.43620008, 0.43620008, 0.43620008, 0.43620008, 0.43620008, 0.43620008, 0.43620008, 0.43620008, 0.43620008, 0.43620008, 0.43620008, 0.43620008, 0.43620008, 0.43620008, 0.43620008, 0.43620008, 0.43620008, 0.43620008, 0.43620008, 0.43620008, 0.43620008, 0.43620008, 0.43620008, 0.43620008, 0.43620008, 0.43620008, 0.43620008, 0.43620008, 0.43620008, 0.43620008, 0.43620008, 0.43620008, 0.43620008, 0.43620008, 0.43620008, 0.43620008, 0.43620008, 0.43620008, 0.43620008, 0.43620008, 0.43620008, 0.43620008, 0.43620008, 0.43620008, 0.43620008, 0.43620008, 0.43620008, 0.43620008, 0.43620008, 0.43620008, 0.43544748, 0.43344933, 0.43338534, 0.43336123, 0.43326178, 0.43246987, 0.4317223, 0.43099153, 0.4303418, 0.43026197, 0.4299212, 0.4299212, 0.4299212, 0.4299212, 0.4299212, 0.42987314, 0.429503, 0.4292353, 0.42730847, 0.426846, 0.4268407, 0.42575505, 0.42549115, 0.42512703, 0.424855, 0.42461348, 0.42187876, 0.4215204, 0.4215204, 0.4209316, 0.42079896, 0.42076194, 0.42001998, 0.41898227, 0.41686702, 0.41661975, 0.41617405, 0.41516507, 0.41516507, 0.41516507, 0.41516507, 0.41516507, 0.41516507, 0.41516507, 0.41306818, 0.41306114, 0.4129293, 0.4107111, 0.40620852, 0.40420625, 0.40416905, 0.4029987, 0.40154082, 0.4014481, 0.40138775, 0.40116316, 0.4010996, 0.4010996, 0.4001609, 0.39921498, 0.3953091, 0.39450312, 0.3943942, 0.39433286, 0.39430007, 0.39430007, 0.3939838, 0.3939838, 0.3929932, 0.38966522, 0.38893875, 0.38880715, 0.3871649, 0.38259655, 0.3737955, 0.37329403, 0.37329403, 0.3563229, 0.35020685, 0.32254815]\n"
     ]
    }
   ],
   "source": [
    "query = \"What is the current world record for a beer can pyramid?\"\n",
    "D, I = top_k_chunks(query, k=1000)\n",
    "\n",
    "scores = []\n",
    "emb_query = query_encoder.encode([query])\n",
    "for idx in I[0]:\n",
    "    emb= query_encoder.encode([chunks[idx]])\n",
    "    score = np.dot(emb_query.flatten(), emb.flatten())\n",
    "    scores.append(score)\n",
    "\n",
    "print(list(reversed(list(sorted(scores)))))"
   ]
  },
  {
   "cell_type": "code",
   "execution_count": null,
   "metadata": {},
   "outputs": [],
   "source": []
  }
 ],
 "metadata": {
  "kernelspec": {
   "display_name": "huggingface",
   "language": "python",
   "name": "python3"
  },
  "language_info": {
   "codemirror_mode": {
    "name": "ipython",
    "version": 3
   },
   "file_extension": ".py",
   "mimetype": "text/x-python",
   "name": "python",
   "nbconvert_exporter": "python",
   "pygments_lexer": "ipython3",
   "version": "3.12.2"
  }
 },
 "nbformat": 4,
 "nbformat_minor": 2
}
